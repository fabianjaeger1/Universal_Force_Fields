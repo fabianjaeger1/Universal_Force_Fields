{
 "cells": [
  {
   "cell_type": "code",
   "execution_count": 2,
   "metadata": {},
   "outputs": [],
   "source": [
    "import numpy as np\n",
    "import json\n",
    "import bz2\n",
    "import pandas as pd \n",
    "import os\n",
    "import matplotlib.pyplot as plt\n",
    "import seaborn as sns\n",
    "from tqdm import tqdm\n",
    "\n",
    "import psutil\n",
    "# import csv\n",
    "import pickle\n",
    "# import pandas as pd\n",
    "from pymatgen.core import Structure\n",
    "import math\n",
    "pd.options.display.max_colwidth = 100\n",
    "# sns.set_theme(style = 'ticks')\n",
    "\n",
    "# st = sns.axes_style(\"ticks\")\n",
    "# # sns.set(style = st,palette = sns.color_palette(\"muted\"), rc={'figure.figsize': (8,8)})\n",
    "# sns.set(style = st,palette = sns.color_palette(\"muted\"))\n",
    "# sns.set(style = st,palette = sns.color_palette(\"tab10\"))\n",
    "\n",
    "# # np.set_printoptions(threshold=np.inf)\n",
    "# #sns.set(color_codes = True)\n",
    "# plt.rcParams.update({\n",
    "#     \"text.usetex\": True,\n",
    "#     \"font.family\": \"serif\",\n",
    "#     \"font.sans-serif\": [\"Computer Modern Roman\"]})"
   ]
  },
  {
   "cell_type": "code",
   "execution_count": 3,
   "metadata": {},
   "outputs": [],
   "source": [
    "import seaborn as sns\n",
    "from tqdm import tqdm\n",
    "\n",
    "import psutil\n",
    "# import csv\n",
    "import pickle\n",
    "# import pandas as pd\n",
    "from pymatgen.core import Structure\n",
    "import math\n",
    "pd.options.display.max_colwidth = 100\n",
    "# sns.set_theme(style = 'ticks')\n",
    "\n",
    "# st = sns.axes_style(\"ticks\")\n",
    "# # sns.set(style = st,palette = sns.color_palette(\"muted\"), rc={'figure.figsize': (8,8)})\n",
    "# sns.set(style = st,palette = sns.color_palette(\"muted\"))\n",
    "# sns.set(style = st,palette = sns.color_palette(\"tab10\"))\n",
    "\n",
    "# # np.set_printoptions(threshold=np.inf)\n",
    "   \n",
    "# #sns.set(color_codes = True)\n",
    "# plt.rcParams.update({\n",
    "#     \"text.usetex\": True,\n",
    "#     \"font.family\": \"serif\",\n",
    "#     \"font.sans-serif\": [\"Computer Modern Roman\"]})"
   ]
  },
  {
   "cell_type": "code",
   "execution_count": null,
   "metadata": {},
   "outputs": [],
   "source": [
    "# def save_arr_to_csv(arr, path):\n",
    "#     with open(path, mode = 'w', newline = '') as csvfile:\n",
    "#         writer = csv.writer(csvfile)\n",
    "#         writer.writerows(arr)\n",
    "\n",
    "# def read_from_csv(path):\n",
    "#     with open(path, mode = 'r') as csvfile:\n",
    "#         reader = csv.reader(csvfile)\n",
    "#         arr = [row for row in reader]\n",
    "#     return arr"
   ]
  },
  {
   "attachments": {},
   "cell_type": "markdown",
   "metadata": {},
   "source": [
    "#### Custom Methods"
   ]
  },
  {
   "cell_type": "code",
   "execution_count": 4,
   "metadata": {},
   "outputs": [],
   "source": [
    "def separate_forces(var_forces):\n",
    "    arr = []\n",
    "    for index, force_arr in enumerate(var_forces):\n",
    "        if len(force_arr) > 1:\n",
    "            # print(force_arr)\n",
    "            # print(len(force_arr))\n",
    "            for i in range(len(force_arr)):\n",
    "                # print(force_arr[i])\n",
    "                arr.append(force_arr[i])\n",
    "        else:\n",
    "            arr.append(force_arr)\n",
    "    return arr\n",
    "\n",
    "def get_coordinate(array, axis = 'x'):\n",
    "\n",
    "    switcher = {\n",
    "        \"x\": int(0),\n",
    "        \"y\": int(1),\n",
    "        \"z\": int(2),\n",
    "    }\n",
    "\n",
    "    switch = switcher.get(axis, \"nothing\")\n",
    "    coordinate_arr = [arr[switch] for arr in tqdm(array)] \n",
    "    print(coordinate_arr)\n",
    "    return coordinate_arr\n",
    "\n",
    "\n",
    "def magnitude_vec(vector):\n",
    "    print(\"Vector: {}\".format(vector)) \n",
    "    # print(sum(pow(element, 2) for element in vector))\n",
    "    # print([element for element in vector])\n",
    "    print(math.sqrt(sum(np.power(element, 2) for element in vector)))\n",
    "    return math.sqrt(sum(np.power(element, 2) for element in vector))\n",
    "\n",
    "    # return math.sqrt(sum(np.power(element, 2) for element in vector))\n",
    "\n",
    "def abs_forces_per_run(var_forces):\n",
    "    arr = []\n",
    "    for index, force_arr in enumerate(var_forces):\n",
    "        if len(force_arr) > 1:\n",
    "            print(force_arr)\n",
    "            sum_arr = 0\n",
    "            for i in range(len(force_arr)):\n",
    "                print(force_arr[i])\n",
    "                sum_arr += magnitude_vec(force_arr[i])\n",
    "            arr.append(sum_arr)\n",
    "        else:\n",
    "            arr.append(magnitude_vec(force_arr[0]))\n",
    "    return arr\n",
    "\n",
    "\n",
    "def import_df(path):\n",
    "    df = pd.read_pickle(\"{}\".format(path))\n",
    "    return df\n",
    "\n",
    "\n",
    "def add_cum_count(df):\n",
    "    cum_series = df.groupby('run').cumcount()\n",
    "    cum_series = cum_series.astype(str)\n",
    "    df['run'] = df['run'] + \"_\" + cum_series\n"
   ]
  },
  {
   "cell_type": "code",
   "execution_count": 5,
   "metadata": {},
   "outputs": [],
   "source": [
    "def get_df(directory, overwrite = False):\n",
    "    if overwrite == True:\n",
    "        print(\"Number of files in directory: {}\".format(len(os.listdir(directory))))\n",
    "        files = os.listdir(directory)\n",
    "        print(files)\n",
    "\n",
    "        df_data = pd.DataFrame(columns=['run', 'energy', 'forces', 'stress_xx', 'stress_xy', 'stress_xz', 'stress_yx', 'stress_yy', 'stress_yz', 'stress_zx', 'stress_zy', 'stress_zz'])\n",
    "\n",
    "        for file_name in files:\n",
    "            print(\"Current file selected: {}\".format(file_name))\n",
    "            print('RAM memory % used:', psutil.virtual_memory()[2])\n",
    "            # Getting usage of virtual_memory in GB ( 4th field)\n",
    "            print('RAM Used (GB):', psutil.virtual_memory()[3]/1000000000)\n",
    "            with bz2.BZ2File(\"{}/{}\".format(directory,file_name)) as file:\n",
    "                for line in file:\n",
    "                    line = line.decode().strip()\n",
    "                    if line in {\"[\", \"]\"}:\n",
    "                        continue\n",
    "                    if line.endswith(\" \"):\n",
    "                        line = line[:-1]\n",
    "                    entity =json.loads(line)\n",
    "                    for run in entity.keys():\n",
    "                        for item in entity[run]:\n",
    "                            # print(item)\n",
    "                            struc = Structure.from_dict(item['structure'])\n",
    "                            forces = item['forces']\n",
    "                    \n",
    "                            stress = item['stress']\n",
    "                            energy = item['energy']\n",
    "                            \n",
    "                            # if energy > 0:\n",
    "                            #     print(\"There is a positive energy entry: {}\".format(energy))\n",
    "                            \n",
    "                            data_run = pd.DataFrame({'run': run,\n",
    "                                                        \"structure\": [struc],\n",
    "                                                        \"energy\": energy, \n",
    "                                                        \"forces\": [forces], \n",
    "                                                        'stress_xx': [stress[0][0]], 'stress_xy': [stress[0][1]], 'stress_xz':[stress[0][2]], \n",
    "                                                        'stress_yx': [stress[1][0]], 'stress_yy': [stress[1][1]], 'stress_yz': [stress[1][2]], \n",
    "                                                        'stress_zx': [stress[2][0]], 'stress_zy': [stress[2][1]], 'stress_zz': [stress[2][2]]})\n",
    "\n",
    "                            data_run = pd.DataFrame(data_run)\n",
    "                            df_data = pd.concat([df_data, data_run])\n",
    "\n",
    "        df_data.reset_index(inplace = True, drop = True)\n",
    "\n",
    "        add_cum_count(df_data)\n",
    "        \n",
    "        df_data.memory_usage()\n",
    "        df_data.to_pickle(\"df_data.pkl\")\n",
    "\n",
    "    elif overwrite == False:\n",
    "       df_data = import_df('df_data.pkl')\n",
    "\n",
    "    return df_data\n",
    "\n",
    "def create_arr(directory):\n",
    "\n",
    "    print(\"Number of files in directory: {}\".format(len(os.listdir(directory))))\n",
    "    files = os.listdir(directory)\n",
    "    print(files)\n",
    "\n",
    "    dict_id = {}\n",
    "    # df_id = pd.DataFrame(columns = [\"id\", \"run\"])\n",
    "\n",
    "    struc_arr = []\n",
    "    stress_arr = []\n",
    "    energy_arr = []\n",
    "    forces_arr = []\n",
    "    index = 0\n",
    "\n",
    "    for file_name in tqdm(files):\n",
    "        print(\"Current file selected: {}\".format(file_name))\n",
    "        \n",
    "        with bz2.BZ2File(\"{}/{}\".format(directory,file_name)) as file:\n",
    "            for line in tqdm(file):\n",
    "                line = line.decode().strip()\n",
    "                if line in {\"[\", \"]\"}:\n",
    "                    continue\n",
    "                if line.endswith(\" \"):\n",
    "                    line = line[:-1]\n",
    "                entity =json.loads(line)\n",
    "                for run in entity.keys():\n",
    "                    for item in entity[run]:\n",
    "                        # print(len(entity[run]))\n",
    "                        # struc = Structure.from_dict(item['structure'])\n",
    "                        struc = item['structure']\n",
    "                        forces = item['forces']\n",
    "                        stress = item['stress']\n",
    "                        energy = item['energy']\n",
    "                        \n",
    "                        dict_id[index] = run\n",
    "\n",
    "                        stress_arr.append(stress)\n",
    "                        forces_arr.append(forces)\n",
    "                        energy_arr.append(energy)\n",
    "                        struc_arr.append(struc)\n",
    "                        \n",
    "                        with open('log.txt', 'a') as f:\n",
    "                            f.write(\"{}-{}: Energy: {}, Forces: {}, Stress: {} + \\n\".format(run, index, energy, forces, stress))\n",
    "                        index += 1\n",
    "\n",
    "    return struc_arr, energy_arr, stress_arr, forces_arr, dict_id"
   ]
  },
  {
   "cell_type": "code",
   "execution_count": null,
   "metadata": {},
   "outputs": [],
   "source": [
    "struc_arr, energy_arr, stress_arr, forces_arr, dict_id = create_arr(\"geo_opt\")"
   ]
  },
  {
   "attachments": {},
   "cell_type": "markdown",
   "metadata": {},
   "source": [
    "#### Obtain Structure Information"
   ]
  },
  {
   "cell_type": "code",
   "execution_count": 6,
   "metadata": {},
   "outputs": [],
   "source": [
    "def get_struc_data(directory):\n",
    "    #! CAN PROBABLY BE DELETED (SEE METHOD CREATE ARR)\n",
    "\n",
    "    print(\"Number of files in directory: {}\".format(len(os.listdir(directory))))\n",
    "    files = os.listdir(directory)\n",
    "    print(files)\n",
    "\n",
    "    # dict_id = {}\n",
    "    # df_id = pd.DataFrame(columns = [\"id\", \"run\"])\n",
    "    struc = []\n",
    "\n",
    "    struc_arr = np.empty((np.shape(energy_arr)[0],1), dtype = object)\n",
    "\n",
    "    # print(struc_arr)\n",
    "\n",
    "    i = 0\n",
    "    for file_name in tqdm(files):\n",
    "        print(\"Current file selected: {}\".format(file_name))\n",
    "        with bz2.BZ2File(\"{}/{}\".format(directory,file_name)) as file:\n",
    "            for line in tqdm(file):\n",
    "                line = line.decode().strip()\n",
    "                if line in {\"[\", \"]\"}:\n",
    "                    continue\n",
    "                if line.endswith(\" \"):\n",
    "                    line = line[:-1]\n",
    "                entity =json.loads(line)\n",
    "                for run in entity.keys():\n",
    "                    # i  = 0\n",
    "                    for item in entity[run]:\n",
    "                        # print(len(entity[run]))\n",
    "                        # struc = Structure.from_dict(item['structure'])\n",
    "                        # print(run['structure'])\n",
    "                        # print(item['structure'])\n",
    "                        st = item['structure']\n",
    "                        # struc_arr[0] = st\n",
    "\n",
    "                        struc_arr[i] = st\n",
    "\n",
    "                        i += 1\n",
    "                        \n",
    "                        # struc_array = np.append(struc_array, [st], axis=0)\n",
    "                        # st = item['structure'][i]\n",
    "\n",
    "                        # struc.append(st)\n",
    "                        \n",
    "\n",
    "    return struc_arr"
   ]
  },
  {
   "cell_type": "code",
   "execution_count": null,
   "metadata": {},
   "outputs": [],
   "source": [
    "struc_arr = get_struc_data(\"geo_opt\")\n",
    "# MIGHT RUN INTO MEMORY ISSUES"
   ]
  },
  {
   "cell_type": "code",
   "execution_count": null,
   "metadata": {},
   "outputs": [],
   "source": [
    "print(type(struc_arr))\n",
    "print(struc_arr.dtype)\n",
    "print(type(struc_arr)[0])\n",
    "print(np.shape(struc_arr))\n",
    "test_str = Structure.from_dict(struc_arr[0])\n",
    "print(test_str)"
   ]
  },
  {
   "attachments": {},
   "cell_type": "markdown",
   "metadata": {},
   "source": [
    "#### Split val, test and train data"
   ]
  },
  {
   "cell_type": "code",
   "execution_count": null,
   "metadata": {},
   "outputs": [],
   "source": [
    "train, test_val = train_test_split(data, test_size=0.1, train_size=0.9, random_state=1, shuffle=True)\n",
    "test, val = train_test_split(test_val, test_size=0.5, train_size=0.5, random_state=2, shuffle=True)"
   ]
  },
  {
   "attachments": {},
   "cell_type": "markdown",
   "metadata": {},
   "source": [
    "#### Save and load data arrays"
   ]
  },
  {
   "cell_type": "code",
   "execution_count": 7,
   "metadata": {},
   "outputs": [],
   "source": [
    "def save_arr_json(arr, path):\n",
    "    with open(path, mode = 'w') as line:\n",
    "        json.dump(arr, line)\n",
    "\n",
    "def read_arr_json(path):\n",
    "    with open(path, mode = 'r') as line:\n",
    "        arr = json.load(line)\n",
    "    return np.array(arr)\n",
    "\n",
    "def save_id_dict(dict, path):\n",
    "    # BEWARE JSON turns keys into strings and not int\n",
    "    with open(path, 'w') as line:\n",
    "        json.dump(dict, line)\n",
    "\n",
    "def load_id_dict(path):\n",
    "    with open(path, 'r') as line:\n",
    "        arr = json.load(line)\n",
    "    return arr"
   ]
  },
  {
   "cell_type": "code",
   "execution_count": null,
   "metadata": {},
   "outputs": [],
   "source": [
    "np.save(\"struc_arr_complete\", struc_arr)\n",
    "# save_arr_json(struc_arr, \"struc_arr.txt\")\n",
    "save_arr_json(forces_arr, \"forces_arr.txt\")\n",
    "save_arr_json(stress_arr, \"stress_arr.txt\")\n",
    "save_arr_json(energy_arr, \"energy_arr.txt\")\n",
    "save_id_dict(dict_id, \"id_run.txt\")"
   ]
  },
  {
   "cell_type": "code",
   "execution_count": 1,
   "metadata": {},
   "outputs": [
    {
     "ename": "NameError",
     "evalue": "name 'np' is not defined",
     "output_type": "error",
     "traceback": [
      "\u001b[0;31m---------------------------------------------------------------------------\u001b[0m",
      "\u001b[0;31mNameError\u001b[0m                                 Traceback (most recent call last)",
      "Cell \u001b[0;32mIn[1], line 1\u001b[0m\n\u001b[0;32m----> 1\u001b[0m struc_arr_d \u001b[39m=\u001b[39m np\u001b[39m.\u001b[39mload(\u001b[39m\"\u001b[39m\u001b[39mstruc_arr_complete.npy\u001b[39m\u001b[39m\"\u001b[39m, allow_pickle\u001b[39m=\u001b[39m\u001b[39mTrue\u001b[39;00m)\n\u001b[1;32m      2\u001b[0m \u001b[39mprint\u001b[39m(np\u001b[39m.\u001b[39mshape(struc_arr_d))\n",
      "\u001b[0;31mNameError\u001b[0m: name 'np' is not defined"
     ]
    }
   ],
   "source": [
    "struc_arr_d = np.load(\"struc_arr_complete.npy\", allow_pickle=True)\n",
    "print(np.shape(struc_arr_d))"
   ]
  },
  {
   "cell_type": "code",
   "execution_count": 8,
   "metadata": {},
   "outputs": [
    {
     "name": "stderr",
     "output_type": "stream",
     "text": [
      "/var/folders/nd/4g615zb158g4h62pfnnjmy0m0000gn/T/ipykernel_50390/1067728059.py:8: VisibleDeprecationWarning: Creating an ndarray from ragged nested sequences (which is a list-or-tuple of lists-or-tuples-or ndarrays with different lengths or shapes) is deprecated. If you meant to do this, you must specify 'dtype=object' when creating the ndarray.\n",
      "  return np.array(arr)\n"
     ]
    },
    {
     "name": "stdout",
     "output_type": "stream",
     "text": [
      "(5889788,)\n",
      "(5889788,)\n",
      "(5889788, 3, 3)\n"
     ]
    }
   ],
   "source": [
    "# struc_arr = read_arr_json(\"struc_arr.txt\")\n",
    "forces_arr = read_arr_json(\"forces_arr.txt\")\n",
    "energy_arr = read_arr_json(\"energy_arr.txt\")\n",
    "stress_arr = read_arr_json(\"stress_arr.txt\")\n",
    "id_run = load_id_dict(\"id_run.txt\")\n",
    "\n",
    "\n",
    "print(np.shape(forces_arr))\n",
    "print(np.shape(energy_arr))\n",
    "print(np.shape(stress_arr))"
   ]
  },
  {
   "cell_type": "code",
   "execution_count": 10,
   "metadata": {},
   "outputs": [
    {
     "name": "stderr",
     "output_type": "stream",
     "text": [
      "100%|██████████| 5889788/5889788 [00:42<00:00, 138215.09it/s]\n"
     ]
    }
   ],
   "source": [
    "nr_atoms_per_run = [np.shape(x)[0] for x in tqdm(forces_arr[:])]"
   ]
  },
  {
   "attachments": {},
   "cell_type": "markdown",
   "metadata": {},
   "source": [
    "#### Reformat kbar to Gpa for stress"
   ]
  },
  {
   "cell_type": "code",
   "execution_count": null,
   "metadata": {},
   "outputs": [],
   "source": [
    "# REFORMAT THE STRUCTURE ARRAY TO GPA AND SAVE IT\n",
    "# stress_arr_ref = np.array(-0.1*stress_arr/160.21766208) #kbar to GPa for m3gnet\n",
    "stress_arr_ref = np.array(-0.1*stress_arr) #convert from kbar to GPa for m3gnet\n",
    "np.savetxt('stress_arr_gpa.txt', stress_arr_ref.reshape(-1, stress_arr_ref.shape[-1])) #reshape into a 2D array to save it"
   ]
  },
  {
   "attachments": {},
   "cell_type": "markdown",
   "metadata": {},
   "source": [
    "#### Load the GPa stress array"
   ]
  },
  {
   "cell_type": "code",
   "execution_count": null,
   "metadata": {},
   "outputs": [],
   "source": [
    "stress_arr_gpa = np.loadtxt('stress_arr_gpa.txt').reshape(np.shape(energy_arr)[0], 3, 3) #reshape the imported 2d array into the 3d array\n",
    "print(np.shape(stress_arr_gpa))"
   ]
  },
  {
   "attachments": {},
   "cell_type": "markdown",
   "metadata": {},
   "source": [
    "#### Reformat Key dictionary"
   ]
  },
  {
   "cell_type": "code",
   "execution_count": null,
   "metadata": {},
   "outputs": [],
   "source": [
    "id_reformated = {}\n",
    "for key, val in id_run.items():\n",
    "    # print(key, val)\n",
    "    try:\n",
    "        id_reformated[val].append(key)\n",
    "    except:\n",
    "        id_reformated[val] = [key]"
   ]
  },
  {
   "cell_type": "code",
   "execution_count": null,
   "metadata": {},
   "outputs": [],
   "source": [
    "save_id_dict(id_reformated, \"id_run_reformat.txt\")"
   ]
  },
  {
   "cell_type": "code",
   "execution_count": 46,
   "metadata": {},
   "outputs": [
    {
     "name": "stdout",
     "output_type": "stream",
     "text": [
      "5889788\n",
      "88483\n"
     ]
    }
   ],
   "source": [
    "print(len(id_run.keys()))\n",
    "print(len(id_reformated.keys()))"
   ]
  },
  {
   "cell_type": "code",
   "execution_count": 43,
   "metadata": {},
   "outputs": [],
   "source": [
    "id_reformated = load_id_dict(\"id_run_reformat.txt\")"
   ]
  },
  {
   "attachments": {},
   "cell_type": "markdown",
   "metadata": {},
   "source": [
    "### Energies"
   ]
  },
  {
   "cell_type": "code",
   "execution_count": 21,
   "metadata": {},
   "outputs": [],
   "source": [
    "def histogram_1d_energy(arr, name, xrange = [-160,100]):\n",
    "    fig, ax = plt.subplots()\n",
    "    n, bins, patches = ax.hist(arr, bins = 1000)\n",
    "    ax.set_xlabel(\"{}\".format(\"Energy\"))\n",
    "    ax.set_xlim(xrange)\n",
    "    ax.set_ylabel(\"Counts\")\n",
    "    plt.tight_layout()\n",
    "    plt.savefig(\"Figures/{}.pdf\".format(name))"
   ]
  },
  {
   "attachments": {},
   "cell_type": "markdown",
   "metadata": {},
   "source": [
    "#### Outlier Removal energy"
   ]
  },
  {
   "cell_type": "code",
   "execution_count": null,
   "metadata": {},
   "outputs": [],
   "source": [
    "energy_arr = np.array(energy_arr)\n",
    "\n",
    "id_outlier_energy = np.where((energy_arr < 0.0) & (energy_arr > -150))[0]\n",
    "id_outlier_stress = np.where((stress_arr[:,0,0] < 50) & (stress_arr[:, 0,0] > -50))[0]\n",
    "\n",
    "print(id_outlier_energy)\n",
    "print(id_outlier_stress)\n",
    "\n",
    "outlier_id = np.intersect1d(id_outlier_energy, id_outlier_stress)\n",
    "\n",
    "energy_arr_cut = energy_arr[id_outlier_energy]\n",
    "\n",
    "energy_arr_cut\n",
    "\n",
    "\n",
    "energy_arr_cut_complete = energy_arr[outlier_id]\n",
    "stress_arr_cut_complete = stress_arr[outlier_id, 0, 0]\n",
    "\n",
    "\n",
    "# print(np.shape(energy_arr))\n",
    "print(np.shape(energy_arr_cut))\n",
    "print(np.shape(energy_arr_cut_complete))\n",
    "\n",
    "\n",
    "print(np.shape(stress_arr_cut_complete))\n",
    "\n",
    "\n",
    "\n",
    "print(np.max(energy_arr_cut_complete))\n",
    "\n",
    "\n",
    "# arr = set([id_run[x] for x in id_outlier])"
   ]
  },
  {
   "attachments": {},
   "cell_type": "markdown",
   "metadata": {},
   "source": [
    "#### Energy per atom histogram"
   ]
  },
  {
   "cell_type": "code",
   "execution_count": 22,
   "metadata": {},
   "outputs": [],
   "source": [
    "def find_outliers(arr, larger_than, smaller_than):\n",
    "\n",
    "    if smaller_than == None and larger_than != None:\n",
    "        id_outliers = np.where(arr > larger_than)[0]\n",
    "        # id_outliers_top = np.where(arr < smaller_than)[0]\n",
    "        # id_outliers = np.concatenate((id_outliers_bottom, id_outliers_top))\n",
    "    elif larger_than and smaller_than != None:\n",
    "        id_outliers_bottom = np.where(arr > larger_than)[0]\n",
    "        id_outliers_top = np.where(arr < smaller_than)[0]\n",
    "        id_outliers = np.concatenate((id_outliers_bottom, id_outliers_top))\n",
    "\n",
    "    outlier_energy_names = set([id_run[\"{}\".format(x)] for x in tqdm(id_outliers)])\n",
    "\n",
    "    return outlier_energy_names, id_outliers\n",
    "\n",
    "def remove_outliers(arr, cut_top, cut_bot):\n",
    "    cropped_arr = [x for x in arr if x <= cut_top and  x >= cut_bot]\n",
    "    id_outliers_bottom = np.where(arr > cut_bot)[0]\n",
    "    id_outliers_top = np.where(arr < cut_top)[0]\n",
    "    id_outliers = np.intersect1d(id_outliers_bottom, id_outliers_top)\n",
    "    return cropped_arr, id_outliers"
   ]
  },
  {
   "cell_type": "code",
   "execution_count": 23,
   "metadata": {},
   "outputs": [],
   "source": [
    "energy_per_atoms = np.divide(energy_arr, nr_atoms_per_run)\n",
    "energy_per_atom_cropped, id_out_energy =remove_outliers(energy_per_atoms, cut_top = 0, cut_bot = -12.5)"
   ]
  },
  {
   "cell_type": "code",
   "execution_count": 24,
   "metadata": {},
   "outputs": [
    {
     "name": "stdout",
     "output_type": "stream",
     "text": [
      "(5885754,)\n",
      "(5885754,)\n",
      "(5889788,)\n"
     ]
    }
   ],
   "source": [
    "print(np.shape(energy_per_atom_cropped))\n",
    "print(np.shape(id_out_energy))\n",
    "print(np.shape(energy_per_atoms))"
   ]
  },
  {
   "cell_type": "code",
   "execution_count": 25,
   "metadata": {},
   "outputs": [
    {
     "data": {
      "image/png": "[encoded data removed]",
      "text/plain": [
       "<Figure size 640x480 with 1 Axes>"
      ]
     },
     "metadata": {},
     "output_type": "display_data"
    }
   ],
   "source": [
    "histogram_1d_energy(energy_per_atom_cropped, \"energy_per_atom\", xrange = [-20,0])"
   ]
  },
  {
   "attachments": {},
   "cell_type": "markdown",
   "metadata": {},
   "source": [
    "### Forces"
   ]
  },
  {
   "attachments": {},
   "cell_type": "markdown",
   "metadata": {},
   "source": [
    "#### Create concatenated forces array"
   ]
  },
  {
   "cell_type": "code",
   "execution_count": 34,
   "metadata": {},
   "outputs": [],
   "source": [
    "def get_concat_force(arr):\n",
    "    forces_arr_concat = [np.array(x) for x in tqdm(arr)]\n",
    "    print(\"Shape force array: {}\".format(np.shape(forces_arr_concat)))\n",
    "    forces_arr_concat = np.concatenate(forces_arr_concat, axis = 0)\n",
    "    print(\"Concat force array: {}\".format(np.shape(forces_arr_concat)))\n",
    "    return forces_arr_concat"
   ]
  },
  {
   "cell_type": "code",
   "execution_count": 35,
   "metadata": {},
   "outputs": [
    {
     "name": "stderr",
     "output_type": "stream",
     "text": [
      "100%|██████████| 5889788/5889788 [00:38<00:00, 154486.91it/s]\n",
      "/Users/fabianjaeger/miniconda/envs/master_thesis/lib/python3.11/site-packages/numpy/core/fromnumeric.py:2009: VisibleDeprecationWarning: Creating an ndarray from ragged nested sequences (which is a list-or-tuple of lists-or-tuples-or ndarrays with different lengths or shapes) is deprecated. If you meant to do this, you must specify 'dtype=object' when creating the ndarray.\n",
      "  result = asarray(a).shape\n"
     ]
    },
    {
     "name": "stdout",
     "output_type": "stream",
     "text": [
      "Shape force array: (5889788,)\n",
      "Concat force array: (64854016, 3)\n"
     ]
    }
   ],
   "source": [
    "force_arr_concat = get_concat_force(forces_arr)"
   ]
  },
  {
   "cell_type": "code",
   "execution_count": null,
   "metadata": {},
   "outputs": [],
   "source": [
    "np.savetxt('force_arr_concat.txt', force_arr_concat, delimiter = '')\n",
    "# Load the concatenated force arr from the txt file\n",
    "force_arr_concat = np.genfromtxt(\"force_arr_concat.txt\")"
   ]
  },
  {
   "cell_type": "code",
   "execution_count": null,
   "metadata": {},
   "outputs": [],
   "source": [
    "#! Can be removed\n",
    "# forces_arr_concat = [np.array(x) for x in forces_arr]\n",
    "# print(np.shape(forces_arr_concat))\n",
    "# forces_arr_concat = np.concatenate(forces_arr_concat, axis = 0)\n",
    "# print(np.shape(forces_arr_concat))\n",
    "# # Save the concatenate force arr\n",
    "# np.savetxt('force_arr_concat.txt', forces_arr_concat, delimiter = '')\n",
    "# # Load the concatenated force arr from the txt file\n",
    "# force_arr_concat = np.genfromtxt(\"force_arr_concat.txt\")"
   ]
  },
  {
   "attachments": {},
   "cell_type": "markdown",
   "metadata": {},
   "source": [
    "#### Histogram Forces"
   ]
  },
  {
   "cell_type": "code",
   "execution_count": 33,
   "metadata": {},
   "outputs": [],
   "source": [
    "def histogram_1d_forces(arr, component, xrange = [-160,100], ylim = None):\n",
    "    fig, ax = plt.subplots()\n",
    "    n, bins, patches = ax.hist(arr, bins = 500)\n",
    "    ax.set_xlabel(\"Force {}\".format(component))\n",
    "    ax.set_xlim(xrange)\n",
    "    ax.set_ylabel(\"Counts\")\n",
    "    plt.tight_layout()\n",
    "    if ylim != None:\n",
    "        ax.set_ylim([0, ylim])\n",
    "        plt.savefig(\"Figures/forces_{}_cut.pdf\".format(component))\n",
    "    else:\n",
    "        plt.savefig(\"Figures/forces_{}.pdf\".format(component))\n",
    "\n",
    "def force_ravelled(arr):\n",
    "    # Flattens the 2nd dimension of the force array\n",
    "    ravelled_force = []\n",
    "    for id in tqdm(range(np.shape(arr)[0])):\n",
    "        forces_ravelled = np.ravel(arr[id])\n",
    "        # print(np.shape(forces_ravelled))\n",
    "        # print(forces_ravelled )\n",
    "        ravelled_force.append(forces_ravelled)\n",
    "        # ravelled_force = np.append(ravelled_force, forces_ravelled, axis = 1)\n",
    "\n",
    "    return np.array(ravelled_force, dtype = object)\n"
   ]
  },
  {
   "cell_type": "code",
   "execution_count": 36,
   "metadata": {},
   "outputs": [
    {
     "name": "stderr",
     "output_type": "stream",
     "text": [
      "100%|██████████| 5889788/5889788 [00:42<00:00, 138178.15it/s]\n"
     ]
    }
   ],
   "source": [
    "force_ravell = force_ravelled(forces_arr)"
   ]
  },
  {
   "cell_type": "code",
   "execution_count": 32,
   "metadata": {},
   "outputs": [],
   "source": [
    "def remove_outliers_forces(arr, cut_top, cut_bot):\n",
    "    # cropped_arr = [x for x in arr if x <= cut_top and  x >= cut_bot]\n",
    "    # cropped_arr = np.where(arr.all() > cut_bot)\n",
    "    # np.where(arr > cut_bot, arr)\n",
    "    # print(np.any(arr > cut_bot, axis = 1))\n",
    "    keep_entry = []\n",
    "    \n",
    "    for i in tqdm(range(np.shape(arr)[0])):\n",
    "        # bool_bot =  np.all((arr[i] >= cut_bot))\n",
    "        # bool_top = np.all(((arr[i] <= cut_top)))\n",
    "\n",
    "        # print(arr[i])\n",
    "        bool = np.all((arr[i] >= cut_bot) & (arr[i] <= cut_top))\n",
    "        keep_entry.append(bool)\n",
    "            # print(arr[i])\n",
    "    # id_keep = np.where(keep_entry==True)\n",
    "    # print(id_keep)\n",
    "    # print(len(keep_entry))\n",
    "    print(len(keep_entry))\n",
    "    id_keep = np.where(keep_entry)[0]\n",
    "    print(np.shape(id_keep))\n",
    "    arr_cut = arr[np.where(keep_entry)]\n",
    "    # print(\"Max: {}, Min: {}\".format(np.max(arr_cut), np.min(arr_cut)))\n",
    "    return arr_cut, id_keep\n",
    "    # np.where(np.any(arr > cut_bot), axis = 1)\n",
    "    # cropped_arr = np.any(np.where(arr > cut_bot))\n",
    "    # print(np.max(cropped_arr))\n",
    "\n",
    "\n",
    "    # print(\"Max: {}, Min: {}\".format(np.max(cropped_arr), np,min(cropped_arr)))\n",
    "    # id_outliers_bottom = np.where(arr > cut_bot)[0]\n",
    "    # id_outliers_top = np.where(arr < cut_top)[0]\n",
    "    # id_outliers = np.intersect1d(id_outliers_bottom, id_outliers_top)\n",
    "    # return cropped_arr, id_outliers"
   ]
  },
  {
   "cell_type": "code",
   "execution_count": 19,
   "metadata": {},
   "outputs": [
    {
     "name": "stderr",
     "output_type": "stream",
     "text": [
      "100%|██████████| 5889788/5889788 [00:20<00:00, 286986.68it/s]\n"
     ]
    },
    {
     "name": "stdout",
     "output_type": "stream",
     "text": [
      "5889788\n",
      "(5887173,)\n",
      "(5887173,)\n",
      "(5887173,)\n"
     ]
    }
   ],
   "source": [
    "force_ravelled_cropped, id_force_outliers = remove_outliers_forces(force_ravell, cut_top = 20, cut_bot=-20)\n",
    "print(np.shape(force_ravelled_cropped))\n",
    "print(np.shape(id_force_outliers))"
   ]
  },
  {
   "attachments": {},
   "cell_type": "markdown",
   "metadata": {},
   "source": [
    "#### Merge the energy and force id"
   ]
  },
  {
   "cell_type": "code",
   "execution_count": 27,
   "metadata": {},
   "outputs": [
    {
     "name": "stdout",
     "output_type": "stream",
     "text": [
      "5885754\n",
      "5884314\n"
     ]
    }
   ],
   "source": [
    "id_outl_rm = np.intersect1d(id_force_outliers, id_out_energy)\n",
    "print(len(id_out_energy))\n",
    "print(len(id_outl_rm))"
   ]
  },
  {
   "attachments": {},
   "cell_type": "markdown",
   "metadata": {},
   "source": [
    "Crop the forces_arr using the id from the outlier removal"
   ]
  },
  {
   "cell_type": "code",
   "execution_count": 28,
   "metadata": {},
   "outputs": [
    {
     "name": "stdout",
     "output_type": "stream",
     "text": [
      "(5884314,)\n"
     ]
    }
   ],
   "source": [
    "force_arr_cropped = forces_arr[id_outl_rm]\n",
    "print(np.shape(force_arr_cropped))"
   ]
  },
  {
   "attachments": {},
   "cell_type": "markdown",
   "metadata": {},
   "source": [
    "#### Get the concat forces array for the outlier removed force array"
   ]
  },
  {
   "cell_type": "code",
   "execution_count": 37,
   "metadata": {},
   "outputs": [
    {
     "name": "stderr",
     "output_type": "stream",
     "text": [
      "100%|██████████| 5884314/5884314 [00:42<00:00, 139193.40it/s]\n"
     ]
    },
    {
     "name": "stdout",
     "output_type": "stream",
     "text": [
      "Shape force array: (5884314,)\n",
      "Concat force array: (64806691, 3)\n",
      "19.97788279\n",
      "-19.98967072\n"
     ]
    }
   ],
   "source": [
    "force_arr_cropped_concat = get_concat_force(force_arr_cropped)\n",
    "print(np.max(force_arr_cropped_concat))\n",
    "print(np.min(force_arr_cropped_concat))"
   ]
  },
  {
   "cell_type": "code",
   "execution_count": 40,
   "metadata": {},
   "outputs": [
    {
     "data": {
      "image/png": "[encoded data removed]",
      "text/plain": [
       "<Figure size 640x480 with 1 Axes>"
      ]
     },
     "metadata": {},
     "output_type": "display_data"
    }
   ],
   "source": [
    "forces_arr_z = force_arr_cropped_concat[:,2]\n",
    "histogram_1d_forces(forces_arr_z, component = \"z\", xrange = None, ylim = None)"
   ]
  },
  {
   "cell_type": "code",
   "execution_count": 326,
   "metadata": {},
   "outputs": [
    {
     "data": {
      "image/png": "[encoded data removed]",
      "text/plain": [
       "<Figure size 640x480 with 1 Axes>"
      ]
     },
     "metadata": {},
     "output_type": "display_data"
    }
   ],
   "source": [
    "forces_arr_x = force_arr_cropped_concat[:,0]\n",
    "histogram_1d_forces(forces_arr_x, component = \"x\", xrange = None, ylim = 1e3)"
   ]
  },
  {
   "cell_type": "code",
   "execution_count": 327,
   "metadata": {},
   "outputs": [
    {
     "data": {
      "image/png": "[encoded data removed]",
      "text/plain": [
       "<Figure size 640x480 with 1 Axes>"
      ]
     },
     "metadata": {},
     "output_type": "display_data"
    }
   ],
   "source": [
    "forces_arr_y = force_arr_cropped_concat[:,1]\n",
    "histogram_1d_forces(forces_arr_y, component = \"y\", xrange = None, ylim = 1e3)"
   ]
  },
  {
   "cell_type": "code",
   "execution_count": 328,
   "metadata": {},
   "outputs": [
    {
     "data": {
      "image/png": "[encoded data removed]",
      "text/plain": [
       "<Figure size 640x480 with 1 Axes>"
      ]
     },
     "metadata": {},
     "output_type": "display_data"
    }
   ],
   "source": [
    "forces_arr_z = force_arr_cropped_concat[:,2]\n",
    "histogram_1d_forces(forces_arr_z, component = \"z\", xrange = None, ylim = 1e3)"
   ]
  },
  {
   "attachments": {},
   "cell_type": "markdown",
   "metadata": {},
   "source": [
    "### Stress"
   ]
  },
  {
   "cell_type": "code",
   "execution_count": null,
   "metadata": {},
   "outputs": [],
   "source": [
    "def stress_cut(stress_arr, component, cutoff):\n",
    "    stress_comp = stress_arr[:, component[0], component[1]]\n",
    "    stress_comp_cut = stress_comp[np.where(abs(stress_comp) < cutoff)]\n",
    "    print(\"Min: {}, Max: {}\".format(np.min(stress_comp_cut), np.max(stress_comp_cut)))\n",
    "    return stress_comp_cut\n",
    "\n",
    "def stress_cut_hist(stress_arr, component, cutoff, nr_bin, y_lim):\n",
    "    stress_comp = stress_arr[:, component[0], component[1]]\n",
    "\n",
    "    switcher = {\n",
    "        0: \"x\",\n",
    "        1: \"y\",\n",
    "        2: \"z\"\n",
    "    }\n",
    "\n",
    "    axis_1 = switcher.get(component[0], \"nothing\")\n",
    "    axis_2 = switcher.get(component[1], \"nothing\")\n",
    "\n",
    "    print('Chosen component: {}'.format(axis_1 + axis_2))\n",
    "    \n",
    "    stress_arr_cut = stress_cut(stress_arr, component, cutoff)\n",
    "\n",
    "    plt.xlabel(\"Stress_{}\".format(axis_1 + axis_2))\n",
    "    \n",
    "    plt.hist(stress_arr_cut, bins = nr_bin)\n",
    "    plt.tight_layout()\n",
    "    if y_lim!= None:\n",
    "        plt.ylim([0, y_lim])\n",
    "        plt.savefig(\"Figures/stress_{}{}_cut.pdf\".format(axis_1, axis_2))\n",
    "    else:\n",
    "        plt.savefig(\"Figures/stress_{}{}.pdf\".format(axis_1, axis_2))\n",
    "\n",
    "\n",
    "def stress_cut_hist_comb(stress_arr, cutoff, nr_bin, ylim):\n",
    "    stress_xx = stress_arr[:, 0, 0]\n",
    "    stress_xy = stress_arr[:, 0, 1]\n",
    "    stress_yx = stress_arr[:, 1, 0]\n",
    "    stress_yy = stress_arr[:, 1, 1]\n",
    "\n",
    "\n",
    "    fig, axs = plt.subplots(2, 2)\n",
    "    fig.set_figheight(10)\n",
    "    fig.set_figwidth(10)\n",
    "    axs[0, 0].hist(stress_xx, bins = nr_bin)\n",
    "    # axs[0, 0].set_title('Axis [0,0]')\n",
    "    axs[0, 1].hist(stress_xy, bins = nr_bin)\n",
    "    # axs[0, 1].set_title('Axis [0,1]')\n",
    "    axs[1, 0].hist(stress_yx, bins = nr_bin)\n",
    "    # axs[1, 0].set_title('Axis [1,0]')\n",
    "    axs[1, 1].hist(stress_yy, bins = nr_bin)\n",
    "\n",
    "    plt.setp(axs, xlim = [-cutoff, cutoff], ylim=[0, ylim])\n",
    "    fig.savefig(\"Figures/stress_comb.pdf\")\n",
    "\n",
    "    # axs[0, 0].set_ylim([0, ylim])\n",
    "    # axs[0, 1].set_ylim\n",
    "    # axs[1, 1].set_title('Axis [1,1]')"
   ]
  },
  {
   "attachments": {},
   "cell_type": "markdown",
   "metadata": {},
   "source": [
    "#### Remove outliers from force and energy"
   ]
  },
  {
   "cell_type": "code",
   "execution_count": 342,
   "metadata": {},
   "outputs": [
    {
     "name": "stdout",
     "output_type": "stream",
     "text": [
      "(5884314, 3, 3)\n"
     ]
    }
   ],
   "source": [
    "stress_arr_cut = stress_arr[id_outl_rm]\n",
    "print(np.shape(stress_arr_cut))"
   ]
  },
  {
   "attachments": {},
   "cell_type": "markdown",
   "metadata": {},
   "source": [
    "#### Histograms"
   ]
  },
  {
   "cell_type": "code",
   "execution_count": 346,
   "metadata": {},
   "outputs": [
    {
     "data": {
      "image/png": "[encoded data removed]",
      "text/plain": [
       "<Figure size 1000x1000 with 4 Axes>"
      ]
     },
     "metadata": {},
     "output_type": "display_data"
    }
   ],
   "source": [
    "stress_cut_hist_comb(stress_arr_cut, cutoff = 500, nr_bin=1000, ylim = 1e2)"
   ]
  },
  {
   "attachments": {},
   "cell_type": "markdown",
   "metadata": {},
   "source": [
    "### Ravel and find stress outliers"
   ]
  },
  {
   "cell_type": "code",
   "execution_count": null,
   "metadata": {},
   "outputs": [],
   "source": [
    "def stress_ravelled(arr):\n",
    "    # Flattens the 2nd dimension of the force array\n",
    "    ravelled_stress = []\n",
    "    for id in tqdm(range(np.shape(arr)[0])):\n",
    "        stress_ravelled = np.ravel(arr[id])\n",
    "        # print(np.shape(forces_ravelled))\n",
    "        # print(forces_ravelled )\n",
    "        ravelled_stress.append(stress_ravelled)\n",
    "        # ravelled_force = np.append(ravelled_force, forces_ravelled, axis = 1)\n",
    "\n",
    "    return np.array(ravelled_stress, dtype = object)"
   ]
  },
  {
   "cell_type": "code",
   "execution_count": null,
   "metadata": {},
   "outputs": [
    {
     "name": "stderr",
     "output_type": "stream",
     "text": [
      "100%|██████████| 5889788/5889788 [00:02<00:00, 2009157.78it/s]\n"
     ]
    }
   ],
   "source": [
    "stress_ravelled_arr = stress_ravelled(stress_arr)"
   ]
  },
  {
   "cell_type": "code",
   "execution_count": null,
   "metadata": {},
   "outputs": [
    {
     "name": "stderr",
     "output_type": "stream",
     "text": [
      "100%|██████████| 5889788/5889788 [00:26<00:00, 223749.17it/s]\n"
     ]
    },
    {
     "name": "stdout",
     "output_type": "stream",
     "text": [
      "5889788\n",
      "(5887147,)\n"
     ]
    }
   ],
   "source": [
    "stress_ravelled_arr_cut, id_stress_outliers = remove_outliers_forces(stress_ravelled_arr, cut_top = 300, cut_bot = -300)"
   ]
  },
  {
   "cell_type": "code",
   "execution_count": null,
   "metadata": {},
   "outputs": [],
   "source": [
    "id_outl_rm = np.intersect1d(id_stress_outliers, id_outl_rm)"
   ]
  },
  {
   "cell_type": "code",
   "execution_count": 358,
   "metadata": {},
   "outputs": [
    {
     "name": "stdout",
     "output_type": "stream",
     "text": [
      "(5877821, 3, 3)\n"
     ]
    }
   ],
   "source": [
    "stress_arr_cut_complete = stress_arr[id_outl_rm]\n",
    "print(np.shape(stress_arr_cut_complete))"
   ]
  },
  {
   "cell_type": "code",
   "execution_count": 360,
   "metadata": {},
   "outputs": [
    {
     "data": {
      "image/png": "[encoded data removed]",
      "text/plain": [
       "<Figure size 1000x1000 with 4 Axes>"
      ]
     },
     "metadata": {},
     "output_type": "display_data"
    }
   ],
   "source": [
    "# HISTOGRAM WITH OUTLIER REMOVED STRESSES\n",
    "stress_cut_hist_comb(stress_arr_cut_complete, cutoff = 310, nr_bin=1000, ylim = 1e2)"
   ]
  },
  {
   "attachments": {},
   "cell_type": "markdown",
   "metadata": {},
   "source": [
    "### Outliers"
   ]
  },
  {
   "attachments": {},
   "cell_type": "markdown",
   "metadata": {},
   "source": [
    "#### Find id and name of all outliers"
   ]
  },
  {
   "cell_type": "code",
   "execution_count": 381,
   "metadata": {},
   "outputs": [
    {
     "name": "stdout",
     "output_type": "stream",
     "text": [
      "Number of outliers found: (11967,)\n"
     ]
    },
    {
     "name": "stderr",
     "output_type": "stream",
     "text": [
      "100%|██████████| 11967/11967 [00:00<00:00, 146006.92it/s]\n"
     ]
    }
   ],
   "source": [
    "outlier_ids = np.setdiff1d(np.arange(start = 0, stop = np.shape(energy_arr)[0]), id_outl_rm)\n",
    "print(\"Number of outliers found: {}\".format(np.shape(outlier_ids)))\n",
    "outlier_names = set([id_run[\"{}\".format(x)] for x in tqdm(outlier_ids)])"
   ]
  },
  {
   "cell_type": "code",
   "execution_count": 382,
   "metadata": {},
   "outputs": [],
   "source": [
    "with open(\"outliers_names.txt\", \"w\") as f:\n",
    "    for s in outlier_names:\n",
    "        f.write(str(s) +\"\\n\")\n",
    "\n",
    "with open(\"outliers_id.txt\", \"w\") as f:\n",
    "    for s in outlier_ids:\n",
    "        f.write(str(s) +\"\\n\")"
   ]
  },
  {
   "attachments": {},
   "cell_type": "markdown",
   "metadata": {},
   "source": [
    "#### Find positive energy outliers"
   ]
  },
  {
   "cell_type": "code",
   "execution_count": null,
   "metadata": {},
   "outputs": [],
   "source": [
    "outlier_energy_pos, id_energy_outliers_pos = find_outliers(energy_arr, larger_than= 0, smaller_than = None)"
   ]
  },
  {
   "cell_type": "code",
   "execution_count": null,
   "metadata": {},
   "outputs": [],
   "source": [
    "print(np.shape(id_energy_outliers_pos))\n",
    "print(np.min(energy_arr[id_energy_outliers_pos]))"
   ]
  },
  {
   "cell_type": "code",
   "execution_count": null,
   "metadata": {},
   "outputs": [],
   "source": [
    "with open(\"energy_outliers_pos.txt\", \"w\") as f:\n",
    "    for s in outlier_energy_pos:\n",
    "        f.write(str(s) +\"\\n\")"
   ]
  },
  {
   "attachments": {},
   "cell_type": "markdown",
   "metadata": {},
   "source": [
    "### Plot quantities with outliers removed"
   ]
  },
  {
   "cell_type": "code",
   "execution_count": 29,
   "metadata": {},
   "outputs": [],
   "source": [
    "energy_per_atoms = np.divide(energy_arr, nr_atoms_per_run)\n",
    "energy_per_atoms_outrm = energy_per_atoms[id_outl_rm]"
   ]
  },
  {
   "cell_type": "code",
   "execution_count": 30,
   "metadata": {},
   "outputs": [
    {
     "data": {
      "image/png": "[encoded data removed]",
      "text/plain": [
       "<Figure size 640x480 with 1 Axes>"
      ]
     },
     "metadata": {},
     "output_type": "display_data"
    }
   ],
   "source": [
    "histogram_1d_energy(energy_per_atom_cropped, \"energy_per_atom_outlrm\", xrange = [-20,0])"
   ]
  },
  {
   "attachments": {},
   "cell_type": "markdown",
   "metadata": {},
   "source": [
    "### Obtain Train, Test and validation Data"
   ]
  },
  {
   "attachments": {},
   "cell_type": "markdown",
   "metadata": {},
   "source": [
    "#### Remove outliers runs from id list"
   ]
  },
  {
   "cell_type": "code",
   "execution_count": 112,
   "metadata": {},
   "outputs": [
    {
     "name": "stdout",
     "output_type": "stream",
     "text": [
      "Number of total runs: 88483\n",
      "['runs_2/spg29/Ag/Ag2Te/xxx_02p-00_29-2-Ag4b.Te2a', 'runs_2/spg29/Ag/Ag2Te3/xxx_02p-00_29-2-Ag4b.Te4b.Te2a', 'runs_2/spg29/Al/Al2S3/xxx_02p-00_29-2-Al4b.S4b.S2a', 'runs_2/spg29/Al/AlAs/xxx_02p-00_29-2-Al2a.As2a', 'runs_2/spg29/Al/AlBr3/xxx_02p-00_29-2-Al2a.Br4b.Br2a', 'runs_2/spg29/Al/AlCl3/xxx_02p-00_29-2-Al2a.Cl4b.Cl2a', 'runs_2/spg29/Al/AlP/xxx_02p-00_29-2-Al2a.P2a', 'runs_2/spg29/Al/AlTl3/xxx_02p-00_29-2-Al2a.Tl4b.Tl2a', 'runs_2/spg29/As/As2Ba3/xxx_02p-00_29-2-As4b.Ba4b.Ba2a', 'runs_2/spg29/As/As2Hg3/xxx_02p-00_29-2-As4b.Hg4b.Hg2a', 'runs_2/spg29/As/As2Re/xxx_02p-00_29-2-As4b.Re2a', 'runs_2/spg29/As/As2Sn3/xxx_02p-00_29-2-As4b.Sn4b.Sn2a', 'runs_2/spg29/As/AsAg/xxx_02p-00_29-2-As2a.Ag2a', 'runs_2/spg29/As/AsBi/xxx_02p-00_29-2-As2a.Bi2a', 'runs_2/spg29/As/AsDy/xxx_02p-00_29-2-As2a.Dy2a', 'runs_2/spg29/As/AsEr/xxx_02p-00_29-2-As4b.Er4b', 'runs_2/spg29/As/AsEu/xxx_02p-00_29-2-As4b.Eu4b', 'runs_2/spg29/As/AsGd/xxx_02p-00_29-2-As2a.Gd2a', 'runs_2/spg29/As/AsHo/xxx_02p-00_29-2-As2a.Ho2a', 'runs_2/spg29/As/AsIn/xxx_02p-00_29-2-As2a.In2a', 'runs_2/spg29/As/AsIn/xxx_02p-00_29-2-As4b.In4b', 'runs_2/spg29/As/AsNd/xxx_02p-00_29-2-As4b.As2a.Nd4b.Nd2a', 'runs_2/spg29/As/AsRb3/xxx_02p-00_29-2-As2a.Rb4b.Rb2a', 'runs_2/spg29/As/AsSb/xxx_02p-00_29-2-As2a.Sb2a', 'runs_2/spg29/As/AsSm/xxx_02p-00_29-2-As4b.As2a.Sm4b.Sm2a', 'runs_2/spg29/As/AsTa/xxx_02p-00_29-2-As4b.As2a.Ta4b.Ta2a', 'runs_2/spg29/As/AsTl/xxx_02p-00_29-2-As2a.Tl2a', 'runs_2/spg29/As/AsTl3/xxx_02p-00_29-2-As2a.Tl4b.Tl2a', 'runs_2/spg29/As/AsTm/xxx_02p-00_29-2-As4b.As2a.Tm4b.Tm2a', 'runs_2/spg29/As/AsY/xxx_02p-00_29-2-As2a.Y2a', 'runs_2/spg29/As/AsYb/xxx_02p-00_29-2-As2a.Yb2a', 'runs_2/spg29/As/AsYb/xxx_02p-00_29-2-As4b.As2a.Yb4b.Yb2a', 'runs_2/spg29/As/AsYb/xxx_02p-00_29-2-As4b.Yb4b', 'runs_2/spg29/B/B2S3/xxx_02p-00_29-2-B4b.S4b.S2a', 'runs_2/spg29/B/B2Se3/xxx_02p-00_29-2-B4b.Se4b.Se2a', 'runs_2/spg29/B/BBr3/xxx_02p-00_29-2-B2a.Br4b.Br2a', 'runs_2/spg29/B/BF3/xxx_02p-00_29-2-B2a.F4b.F2a', 'runs_2/spg29/B/BI3/xxx_02p-00_29-2-B2a.I4b.I2a', 'runs_2/spg29/B/BN/xxx_02p-00_29-2-B2a.N2a', 'runs_2/spg29/B/BP/xxx_02p-00_29-2-B2a.P2a', 'runs_2/spg29/B/BP/xxx_02p-00_29-2-B4b.P4b', 'runs_2/spg29/Be/Be3As2/xxx_02p-00_29-2-Be4b.Be2a.As4b', 'runs_2/spg29/Be/Be3N2/xxx_02p-00_29-2-Be4b.Be2a.N4b', 'runs_2/spg29/Be/Be3P2/xxx_02p-00_29-2-Be4b.Be2a.P4b', 'runs_2/spg29/Be/BeBr2/xxx_02p-00_29-2-Be2a.Br4b', 'runs_2/spg29/Be/BeCl2/xxx_02p-00_29-2-Be2a.Cl4b', 'runs_2/spg29/Be/BeS/xxx_02p-00_29-2-Be2a.S2a', 'runs_2/spg29/Be/BeTl2/xxx_02p-00_29-2-Be2a.Tl4b', 'runs_2/spg29/Br/Br2Ba/xxx_02p-00_29-2-Br4b.Ba2a', 'runs_2/spg29/Br/Br2Hg/xxx_02p-00_29-2-Br4b.Hg2a', 'runs_2/spg29/Br/Br2Nb/xxx_02p-00_29-2-Br4b.Nb2a', 'runs_2/spg29/Br/Br2Sn/xxx_02p-00_29-2-Br4b.Sn2a', 'runs_2/spg29/Br/Br2Sr/xxx_02p-00_29-2-Br4b.Sr2a', 'runs_2/spg29/Br/Br3Ag/xxx_02p-00_29-2-Br4b.Br2a.Ag2a', 'runs_2/spg29/Br/Br3Bi/xxx_02p-00_29-2-Br4b.Br2a.Bi2a', 'runs_2/spg29/Br/Br3Dy/xxx_02p-00_29-2-Br4b.Br2a.Dy2a', 'runs_2/spg29/Br/Br3Er/xxx_02p-00_29-2-Br4b.Br2a.Er2a', 'runs_2/spg29/Br/Br3Ho/xxx_02p-00_29-2-Br4b.Br2a.Ho2a', 'runs_2/spg29/Br/Br3In/xxx_02p-00_29-2-Br4b.Br2a.In2a', 'runs_2/spg29/Br/Br3La/xxx_02p-00_29-2-Br4b.Br2a.La2a', 'runs_2/spg29/Br/Br3Nd/xxx_02p-00_29-2-Br4b.Br2a.Nd2a', 'runs_2/spg29/Br/Br3Rh/xxx_02p-00_29-2-Br4b.Br2a.Rh2a', 'runs_2/spg29/Br/Br3Sb/xxx_02p-00_29-2-Br4b.Br2a.Sb2a', 'runs_2/spg29/Br/Br3Sm/xxx_02p-00_29-2-Br4b.Br2a.Sm2a', 'runs_2/spg29/Br/Br3Tb/xxx_02p-00_29-2-Br4b.Br2a.Tb2a', 'runs_2/spg29/Br/Br3Tm/xxx_02p-00_29-2-Br4b.Br2a.Tm2a', 'runs_2/spg29/Br/Br3Y/xxx_02p-00_29-2-Br4b.Br2a.Y2a', 'runs_2/spg29/Br/BrAg/xxx_02p-00_29-2-Br2a.Ag2a', 'runs_2/spg29/Br/BrAg/xxx_02p-00_29-2-Br4b.Br2a.Ag4b.Ag2a', 'runs_2/spg29/Br/BrAu/xxx_02p-00_29-2-Br2a.Au2a', 'runs_2/spg29/Br/BrAu/xxx_02p-00_29-2-Br4b.Au4b', 'runs_2/spg29/Br/BrIn/xxx_02p-00_29-2-Br4b.In4b', 'runs_2/spg29/Br/BrRb/xxx_02p-00_29-2-Br4b.Rb4b', 'runs_2/spg29/Br/BrTl/xxx_02p-00_29-2-Br4b.Br2a.Tl4b.Tl2a', 'runs_2/spg29/C/CO2/xxx_02p-00_29-2-C2a.O4b', 'runs_2/spg29/Ca/Ca3As2/xxx_02p-00_29-2-Ca4b.Ca2a.As4b', 'runs_2/spg29/Ca/CaBr2/xxx_02p-00_29-2-Ca2a.Br4b', 'runs_2/spg29/Ca/CaI2/xxx_02p-00_29-2-Ca2a.I4b', 'runs_2/spg29/Ca/CaSe/xxx_02p-00_29-2-Ca2a.Se2a', 'runs_2/spg29/Ca/CaSe/xxx_02p-00_29-2-Ca4b.Ca2a.Se4b.Se2a', 'runs_2/spg29/Ca/CaTl2/xxx_02p-00_29-2-Ca2a.Tl4b', 'runs_2/spg29/Cd/CdI2/xxx_02p-00_29-2-Cd2a.I4b', 'runs_2/spg29/Cd/CdTe/xxx_02p-00_29-2-Cd2a.Te2a', 'runs_2/spg29/Cl/Cl2Ca/xxx_02p-00_29-2-Cl4b.Ca2a', 'runs_2/spg29/Cl/Cl2Cd/xxx_02p-00_29-2-Cl4b.Cd2a', 'runs_2/spg29/Cl/Cl2Cr/xxx_02p-00_29-2-Cl4b.Cr2a', 'runs_2/spg29/Cl/Cl2Cu/xxx_02p-00_29-2-Cl4b.Cu2a', 'runs_2/spg29/Cl/Cl2Fe/xxx_02p-00_29-2-Cl4b.Fe2a', 'runs_2/spg29/Cl/Cl2Nb/xxx_02p-00_29-2-Cl4b.Nb2a', 'runs_2/spg29/Cl/Cl2Ni/xxx_02p-00_29-2-Cl4b.Ni2a', 'runs_2/spg29/Cl/Cl2Pd/xxx_02p-00_29-2-Cl4b.Pd2a', 'runs_2/spg29/Cl/Cl2Sr/xxx_02p-00_29-2-Cl4b.Sr2a', 'runs_2/spg29/Cl/Cl2V/xxx_02p-00_29-2-Cl4b.V2a', 'runs_2/spg29/Cl/Cl2Zn/xxx_02p-00_29-2-Cl4b.Zn2a', 'runs_2/spg29/Cl/Cl3Ag/xxx_02p-00_29-2-Cl4b.Cl2a.Ag2a', 'runs_2/spg29/Cl/Cl3Au/xxx_02p-00_29-2-Cl4b.Cl2a.Au2a', 'runs_2/spg29/Cl/Cl3Cr/xxx_02p-00_29-2-Cl4b.Cl2a.Cr2a', 'runs_2/spg29/Cl/Cl3Fe/xxx_02p-00_29-2-Cl4b.Cl2a.Fe2a', 'runs_2/spg29/Cl/Cl3Ga/xxx_02p-00_29-2-Cl4b.Cl2a.Ga2a', 'runs_2/spg29/Cl/Cl3Gd/xxx_02p-00_29-2-Cl4b.Cl2a.Gd2a']\n",
      "Number of outlier runs: 1706\n",
      "86777\n"
     ]
    }
   ],
   "source": [
    "all_runs = load_id_dict(\"id_run_reformat.txt\")\n",
    "\n",
    "print(\"Number of total runs: {}\".format(len(all_runs)))\n",
    "print(list(id_reformated.keys())[:100])\n",
    "\n",
    "with open(\"outliers_names.txt\", \"r\") as f:\n",
    "    outlier_runs = f.readlines()\n",
    "# outlier_runs = np.loadtxt(\"outliers_names.txt\")\n",
    "print(\"Number of outlier runs: {}\".format(len(outlier_runs)))\n",
    "\n",
    "for outl in outlier_runs:\n",
    "    del all_runs[outl[:-1]]\n",
    "\n",
    "runs_outlrm = all_runs\n",
    "\n",
    "print(len(runs_outlrm))"
   ]
  },
  {
   "cell_type": "code",
   "execution_count": 113,
   "metadata": {},
   "outputs": [],
   "source": [
    "save_id_dict(runs_outlrm, \"id_run_outlrm.txt\")"
   ]
  },
  {
   "cell_type": "code",
   "execution_count": 115,
   "metadata": {},
   "outputs": [],
   "source": [
    "from sklearn.model_selection import train_test_split\n",
    "\n",
    "# Create run array\n",
    "run_keys = list(runs_outlrm.keys())\n",
    "\n",
    "train, test_val = train_test_split(run_keys, test_size=0.1, train_size=0.9, random_state=1, shuffle=True)\n",
    "test, val = train_test_split(test_val, test_size=0.5, train_size=0.5, random_state=2, shuffle=True)"
   ]
  },
  {
   "cell_type": "code",
   "execution_count": 117,
   "metadata": {},
   "outputs": [
    {
     "name": "stdout",
     "output_type": "stream",
     "text": [
      "Train len: 78099, Test len: 4339, Val len: 4339\n"
     ]
    }
   ],
   "source": [
    "print(\"Train len: {}, Test len: {}, Val len: {}\".format(len(train), len(test), len(val)))"
   ]
  },
  {
   "cell_type": "code",
   "execution_count": 146,
   "metadata": {},
   "outputs": [],
   "source": [
    "def get_indices(runs):\n",
    "    idx = []\n",
    "    for id, run in enumerate(tqdm(runs)):\n",
    "        # print(run)\n",
    "        # print(runs_outlrm[run])\n",
    "        # print(\"Indices: {} - {} - {}\".format(min_id_run, middle_run, max_id_run))\n",
    "        min_id_run = runs_outlrm[run][0]\n",
    "        max_id_run = runs_outlrm[run][-1]\n",
    "        middle_run = runs_outlrm[run][len(runs_outlrm[run])//2]\n",
    "    \n",
    "        idx.append(min_id_run)\n",
    "        idx.append(middle_run)\n",
    "        idx.append(max_id_run)\n",
    "    return idx"
   ]
  },
  {
   "cell_type": "code",
   "execution_count": 150,
   "metadata": {},
   "outputs": [
    {
     "name": "stderr",
     "output_type": "stream",
     "text": [
      "100%|██████████| 78099/78099 [00:00<00:00, 279479.99it/s]\n",
      "100%|██████████| 4339/4339 [00:00<00:00, 824308.59it/s]\n",
      "100%|██████████| 4339/4339 [00:00<00:00, 852296.40it/s]"
     ]
    },
    {
     "name": "stdout",
     "output_type": "stream",
     "text": [
      "['1094590', '1094626', '1094662', '4076869', '4077076', '4077283', '2619190', '2619196', '2619201', '4459828', '4459943', '4460058', '203048', '203066', '203084', '464581', '464635', '464688', '2277182', '2277194', '2277205', '832971', '833057', '833142', '5799938', '5799964', '5799989', '2111470', '2111476', '2111481', '3918263', '3918305', '3918346', '4372983', '4373031', '4373078', '186316', '186322', '186328', '885942', '885949', '885955', '3634155', '3634168', '3634181', '3554128', '3554141', '3554154', '2997567', '2997584', '2997601', '5220220', '5220264', '5220308', '233786', '233794', '233802', '723906', '723936', '723966', '270103', '270107', '270111', '5138616', '5138721', '5138826', '591349', '591434', '591519', '381987', '381991', '381995', '2210407', '2210410', '2210413', '4344216', '4344306', '4344396', '1709296', '1709307', '1709317', '2175786', '2175810', '2175834', '4279185', '4279235', '4279285', '105212', '105242', '105272', '2564463', '2564467', '2564470', '3681677', '3681708', '3681739', '480512', '480515', '480517', '4859432', '4859484', '4859536', '4008217', '4008229', '4008241', '1460216', '1460224', '1460231', '3072158', '3072174', '3072189', '3515658', '3515664', '3515669', '1368840', '1368850', '1368859', '5565117', '5565191', '5565265', '3498117', '3498152', '3498187', '1353447', '1353465', '1353482', '2264327', '2264393', '2264459', '2712829', '2712863', '2712897', '274676', '274680', '274683', '2605558', '2605559', '2605560', '4749192', '4749236', '4749280', '5795496', '5795546', '5795595', '3632865', '3632867', '3632868', '152847', '152849', '152851', '2229955', '2230001', '2230047', '579836', '579882', '579927', '537461', '537483', '537505', '1417227', '1417240', '1417253', '3584139', '3584155', '3584170', '1649724', '1649780', '1649836', '448447', '448460', '448473', '1271480', '1271604', '1271727', '2604275', '2604276', '2604277', '5234224', '5234240', '5234256', '3201699', '3201710', '3201721', '846542', '846544', '846546', '1350931', '1350939', '1350947', '3893467', '3893516', '3893565', '5837773', '5837808', '5837842', '2608060', '2608062', '2608063', '3688259', '3688292', '3688324', '2516531', '2516549', '2516567', '1679928', '1679940', '1679952', '1750456', '1750500', '1750543', '958049', '958073', '958097', '1194801', '1194883', '1194964', '583291', '583322', '583353', '5872238', '5872263', '5872288', '1004673', '1004703', '1004733', '4627964', '4627971', '4627978', '2681761', '2681770', '2681778', '3441742', '3441764', '3441785', '1414971', '1414988', '1415005', '1056730', '1056837', '1056943', '2624927', '2624932', '2624936', '2831497', '2831499', '2831501', '1769989', '1769990', '1769991', '817702', '817725', '817748', '2262660', '2262681', '2262702', '1792238', '1792280', '1792322', '3642897', '3642907', '3642916', '4302312', '4302327', '4302341', '4904961', '4905076', '4905190', '1197093', '1197102', '1197111', '200234', '200255', '200276', '4000545', '4000604', '4000663', '291896', '291897', '291898', '1451565', '1451578', '1451591', '1083785', '1083839', '1083893', '2609230', '2609233', '2609235', '234820', '234909', '234997', '5641035', '5641066', '5641097', '2937110', '2937117', '2937124', '947008', '947045', '947082', '2216935', '2216993', '2217051', '4247883', '4247898', '4247913', '511645', '511656', '511666', '3029650', '3029652', '3029654', '264637', '264639', '264641', '3419197', '3419232', '3419267', '1080681', '1080727', '1080772', '3419084', '3419140', '3419196', '2298177', '2298202', '2298226', '3204365', '3204476', '3204586', '3544469', '3544474', '3544478', '2395812', '2395825', '2395837', '4716162', '4716214', '4716265', '766488', '766626', '766763', '4643521', '4643535', '4643549', '1201111', '1201158', '1201204', '2445058', '2445073', '2445087', '397867', '397901', '397935', '462415', '462416', '462417', '2574757', '2574766', '2574775', '4217023', '4217108', '4217192', '266852', '266857', '266862', '4596759', '4596808', '4596857', '647620', '647685', '647750', '2576342', '2576345', '2576348', '1499543', '1499545', '1499547', '3200554', '3200582', '3200610', '5363834', '5363841', '5363847', '277454', '277482', '277509', '2742495', '2742504', '2742513', '2302795', '2302804', '2302813', '269521', '269527', '269533', '1511855', '1511879', '1511903', '3837173', '3837249', '3837325', '2118617', '2118660', '2118702', '1775092', '1775093', '1775094', '3261053', '3261104', '3261155', '5233464', '5233468', '5233471', '2791818', '2791831', '2791843', '5468837', '5468877', '5468916', '1137815', '1137830', '1137845', '5251268', '5251359', '5251450', '2268382', '2268473', '2268563', '2577909', '2577911', '2577912', '3270568', '3270578', '3270587', '386059', '386061', '386063', '1988849', '1988871', '1988893', '1356000', '1356017', '1356033', '4960115', '4960182', '4960249', '2593414', '2593415', '2593416', '4159108', '4159174', '4159240', '2550504', '2550553', '2550601', '5478371', '5478504', '5478636', '3130276', '3130281', '3130286', '810834', '810910', '810986', '271671', '271674', '271676', '4453976', '4454060', '4454143', '4155063', '4155088', '4155113', '587248', '587295', '587341', '2508741', '2508762', '2508783', '1678073', '1678152', '1678230', '4990772', '4990891', '4991010', '4814593', '4814704', '4814814', '3029416', '3029417', '3029418', '1845166', '1845215', '1845264', '3950879', '3950891', '3950902', '3954497', '3954499', '3954500', '5036311', '5036319', '5036326', '1396373', '1396396', '1396418', '183647', '183654', '183661', '4124808', '4124841', '4124874', '2107929', '2107934', '2107938', '3156815', '3156822', '3156828', '2309735', '2309755', '2309774', '2600383', '2600384', '2600385', '2593098', '2593099', '2593100', '215440', '215446', '215451', '1530274', '1530294', '1530313', '2991190', '2991264', '2991337', '5192278', '5192281', '5192283', '1002713', '1002755', '1002797', '3145088', '3145149', '3145210', '3536012', '3536147', '3536282', '266780', '266782', '266784', '220110', '220115', '220119', '3729694', '3729718', '3729742', '856699', '856715', '856731', '1494930', '1494947', '1494964', '2470876', '2470888', '2470900', '1077825', '1077846', '1077866', '877324', '877329', '877334', '2551676', '2551682', '2551688', '3283978', '3284016', '3284053', '2551655', '2551665', '2551675', '3808281', '3808310', '3808339', '483754', '483797', '483839', '3519377', '3519406', '3519434', '939885', '940009', '940133', '2209059', '2209075', '2209091', '2600641', '2600655', '2600669', '3525897', '3525901', '3525904', '1096548', '1096574', '1096599', '4499964', '4500014', '4500063', '2571308', '2571309', '2571310', '959377', '959455', '959532', '544084', '544099', '544114', '637387', '637461', '637534', '969434', '969437', '969440', '3776682', '3776711', '3776739', '3312665', '3312757', '3312849', '2567509', '2567510', '2567511', '755048', '755147', '755245', '4978960', '4979008', '4979055', '1443405', '1443406', '1443406', '4639375', '4639442', '4639509', '3449478', '3449485', '3449492', '1401384', '1401398', '1401411', '3574642', '3574696', '3574749', '2608001', '2608003', '2608004', '515988', '515991', '515993', '5075039', '5075046', '5075052', '3388525', '3388561', '3388596', '3649109', '3649110', '3649111', '3040691', '3040712', '3040732', '2412536', '2412569', '2412602', '3343702', '3343717', '3343732', '2730240', '2730258', '2730276', '1982321', '1982340', '1982358', '916058', '916070', '916082', '4029979', '4030056', '4030132', '3103649', '3103650', '3103651', '5165519', '5165588', '5165656', '802917', '802985', '803052', '5193563', '5193580', '5193597', '4601615', '4601687', '4601758', '179956', '179964', '179972', '1669726', '1669800', '1669874', '4824', '4883', '4941', '2334985', '2335028', '2335070', '5414180', '5414389', '5414597', '5826768', '5826790', '5826812', '5273241', '5273257', '5273273', '2803824', '2803830', '2803836', '2437263', '2437353', '2437443', '3023376', '3023392', '3023407', '3200611', '3200647', '3200682', '4704857', '4704973', '4705088', '1614326', '1614355', '1614383', '2599466', '2599474', '2599482', '2403729', '2403777', '2403824', '1361117', '1361127', '1361136', '1312109', '1312117', '1312124', '4856703', '4856771', '4856839', '2619499', '2619501', '2619503', '1775192', '1775193', '1775194', '4833091', '4833132', '4833173', '2172510', '2172513', '2172515', '2819346', '2819350', '2819353', '5863392', '5863451', '5863510', '3214731', '3214771', '3214811', '3732545', '3732566', '3732587', '905364', '905368', '905372', '832653', '832691', '832728', '5309851', '5309910', '5309969', '2922225', '2922231', '2922237', '275032', '275033', '275034', '5091886', '5091970', '5092054', '5017186', '5017205', '5017223', '2361996', '2362008', '2362019', '3631848', '3631856', '3631864', '5633400', '5633426', '5633452', '2303205', '2303220', '2303235', '2917867', '2917890', '2917912', '2595553', '2595554', '2595555', '2364536', '2364541', '2364546', '3318509', '3318586', '3318662', '2567750', '2567752', '2567753', '4976359', '4976424', '4976488', '1376206', '1376215', '1376224', '3212502', '3212527', '3212552', '2427814', '2427990', '2428166', '2973731', '2973880', '2974029', '1681101', '1681125', '1681149', '4354253', '4354313', '4354373', '2224186', '2224206', '2224226', '3274777', '3274790', '3274803', '2283831', '2283841', '2283851', '3298572', '3298609', '3298646', '5808859', '5808881', '5808903', '1775101', '1775103', '1775104', '712850', '712866', '712881', '645862', '645921', '645979', '1869270', '1869286', '1869302', '3648210', '3648217', '3648223', '1534703', '1534745', '1534786', '257209', '257217', '257225', '280925', '280957', '280989', '1411574', '1411589', '1411603', '3163920', '3163925', '3163930', '5688817', '5688910', '5689002', '779755', '779824', '779892', '982997', '983007', '983016', '3822076', '3822105', '3822134', '2273897', '2273905', '2273913', '816088', '816135', '816181', '3826081', '3826161', '3826241', '1849221', '1849251', '1849281', '3646686', '3646690', '3646693', '435802', '435814', '435826', '3128319', '3128322', '3128325', '5537247', '5537294', '5537341', '2922895', '2922900', '2922904', '767899', '768048', '768196', '5537958', '5537987', '5538015', '179118', '179255', '179391', '3812278', '3812311', '3812344', '3145483', '3145491', '3145498', '2594941', '2594943', '2594945', '2675270', '2675271', '2675272', '2145362', '2145365', '2145368', '5233084', '5233091', '5233097', '2600727', '2600745', '2600762', '5032042', '5032043', '5032044', '4646336', '4646413', '4646490', '1401611', '1401617', '1401623', '5201439', '5201456', '5201472', '2333772', '2333784', '2333795', '1453452', '1453462', '1453471', '2844914', '2844978', '2845041', '2707361', '2707381', '2707401', '5417014', '5417088', '5417162', '4920372', '4920414', '4920455', '2828749', '2828792', '2828835', '1902896', '1902899', '1902901', '1089341', '1089350', '1089358', '4665509', '4665608', '4665706', '978727', '978731', '978734', '2231126', '2231155', '2231183', '318318', '318356', '318393', '5584269', '5584285', '5584300', '661265', '661280', '661295', '1945831', '1945845', '1945858', '2106915', '2106924', '2106933', '3645298', '3645322', '3645345', '3150218', '3150222', '3150225', '5767233', '5767262', '5767290', '3095840', '3095849', '3095857', '95731', '95783', '95834', '273269', '273293', '273316', '3242907', '3242987', '3243067', '4815519', '4815577', '4815635', '3232336', '3232386', '3232436', '5532562', '5532599', '5532635', '940613', '940619', '940624', '2286644', '2286651', '2286658', '3904410', '3904445', '3904480', '1940771', '1940824', '1940877', '2709914', '2709953', '2709992', '5331575', '5331625', '5331675', '5877032', '5877064', '5877096', '1205121', '1205138', '1205154', '2605278', '2605279', '2605280', '1477599', '1477627', '1477654', '461853', '461863', '461872', '1971900', '1971916', '1971931', '904234', '904244', '904254', '1686507', '1686625', '1686743', '1442417', '1442503', '1442589', '3953279', '3953285', '3953290', '2039694', '2039714', '2039733', '249284', '249310', '249336', '2579141', '2579142', '2579143', '3114585', '3114618', '3114651', '5629709', '5629726', '5629743', '451900', '451901', '451902', '2622176', '2622182', '2622188', '3510410', '3510419', '3510428', '5874603', '5874622', '5874640', '2170966', '2170981', '2170995', '2554561', '2554616', '2554671', '1390785', '1390919', '1391052', '2663644', '2663859', '2664074', '2220702', '2220809', '2220915', '2660336', '2660407', '2660478', '82960', '83012', '83064', '186461', '186467', '186472', '3954017', '3954019', '3954021', '722953', '722983', '723013', '5286653', '5286764', '5286875', '3470342', '3470344', '3470346', '5017228', '5017246', '5017263', '5389369', '5389420', '5389471', '2081560', '2081594', '2081627', '5033887', '5033888', '5033889', '5639097', '5639155', '5639212', '2571954', '2571956', '2571957', '2839683', '2839747', '2839811', '3697699', '3697713', '3697726', '4316311', '4316472', '4316632', '5744922', '5744984', '5745046', '2609159', '2609166', '2609172', '5849852', '5849855', '5849857', '771961', '772022', '772082', '5079692', '5079723', '5079753', '3995640', '3995653', '3995665', '2381516', '2381521', '2381525', '4033671', '4033816', '4033961', '2154277', '2154293', '2154309', '2902565', '2902670', '2902775', '2715513', '2715531', '2715549', '5262159', '5262201', '5262243', '3799286', '3799316', '3799345', '182501', '182511', '182520', '3296328', '3296338', '3296347', '4712413', '4712486', '4712558', '753631', '753637', '753643', '479706', '479707', '479708', '4731583', '4731615', '4731646', '2641554', '2641590', '2641625', '1477102', '1477104', '1477105', '1033023', '1033084', '1033145', '4206889', '4206908', '4206927', '1801137', '1801156', '1801175', '1841996', '1842032', '1842068', '2200672', '2200684', '2200695', '3496237', '3496247', '3496256', '3782931', '3782954', '3782977', '3220102', '3220142', '3220181', '511966', '512019', '512071', '3148542', '3148543', '3148544', '2616606', '2616624', '2616642', '593730', '593751', '593771', '4818097', '4818230', '4818362', '4725029', '4725071', '4725113', '3766587', '3766628', '3766668', '3503667', '3503695', '3503723', '154026', '154043', '154059', '3306717', '3306765', '3306812', '1429741', '1429750', '1429759', '2696883', '2696899', '2696914', '226721', '226795', '226869', '1852032', '1852063', '1852094', '5465870', '5465917', '5465963', '5425878', '5425902', '5425926', '2113758', '2113765', '2113771', '2362871', '2362885', '2362898', '2602675', '2602722', '2602768', '3168092', '3168196', '3168300', '2273027', '2273037', '2273047', '1478380', '1478392', '1478404', '5719544', '5719588', '5719631', '1769073', '1769074', '1769075', '1441811', '1441816', '1441820', '5770191', '5770219', '5770246', '3382822', '3382875', '3382928', '952439', '952449', '952459', '5009313', '5009315', '5009316', '3994958', '3994992', '3995026', '1174434', '1174437', '1174439', '3036106', '3036107', '3036108', '1478848', '1478864', '1478880', '1200193', '1200234', '1200274', '5844526', '5844549', '5844571', '3399863', '3399873', '3399883', '1687308', '1687328', '1687348', '4325301', '4325369', '4325436', '4700929', '4701001', '4701072', '2125509', '2125513', '2125517', '504300', '504309', '504318', '2559962', '2559987', '2560011', '602508', '602569', '602629', '170737', '170752', '170767', '3656154', '3656190', '3656225', '4847823', '4847942', '4848060', '1941871', '1941956', '1942040', '3539942', '3539991', '3540040', '1986631', '1986647', '1986662', '3484546', '3484547', '3484548', '3955007', '3955018', '3955028', '1185268', '1185331', '1185393', '929790', '929802', '929813', '1421308', '1421322', '1421335', '181763', '181770', '181776', '673965', '674032', '674099', '1446675', '1446694', '1446713', '4250327', '4250361', '4250395', '1980636', '1980652', '1980667', '3326201', '3326273', '3326345', '3915137', '3915181', '3915224', '3632667', '3632669', '3632671', '263242', '263341', '263440', '1821451', '1821500', '1821548', '353062', '353080', '353097', '596518', '596540', '596562', '2706029', '2706041', '2706052', '1869118', '1869194', '1869269', '269288', '269293', '269297', '2963811', '2963823', '2963835', '3957762', '3957763', '3957764', '1153688', '1153694', '1153700', '1202346', '1202352', '1202358', '4608334', '4608449', '4608563', '1119655', '1119662', '1119668', '2624741', '2624742', '2624743', '4087042', '4087114', '4087186', '2380547', '2380580', '2380613', '3093116', '3093227', '3093338', '350363', '350418', '350472', '436324', '436333', '436342', '1775027', '1775049', '1775070', '2569869', '2569870', '2569871', '162921', '162939', '162956', '5009838', '5009847', '5009856', '2296355', '2296383', '2296410', '2566053', '2566054', '2566055', '4246727', '4246791', '4246854', '5139754', '5139864', '5139973', '247731', '247764', '247797', '3254443', '3254487', '3254530', '530725', '530743', '530761', '1864951', '1864972', '1864992', '4487956', '4488011', '4488066', '1719170', '1719241', '1719311', '1085352', '1085366', '1085379', '169930', '169944', '169958', '1609102', '1609206', '1609309', '617739', '617752', '617765', '2479076', '2479108', '2479139', '2198152', '2198159', '2198166', '5838052', '5838298', '5838544', '270299', '270313', '270326', '5027038', '5027040', '5027041', '5197700', '5197702', '5197704', '1432512', '1432652', '1432792', '3030609', '3030626', '3030643', '5475884', '5475885', '5475885', '5821802', '5821827', '5821852', '5230007', '5230009', '5230011', '489270', '489352', '489433', '505875', '505886', '505896', '801045', '801048', '801051', '4035722', '4035727', '4035731', '4435290', '4435333', '4435376', '5879555', '5879557', '5879559', '4243142', '4243225', '4243308', '262851', '262864', '262876', '777241', '777268', '777295', '2938004', '2938012', '2938020', '1289658', '1289763', '1289867', '627561', '627629', '627697', '5020822', '5020824', '5020825', '5838545', '5838647', '5838749', '231352', '231360', '231368', '1000387', '1000417', '1000447', '2560395', '2560414', '2560432', '5449348', '5449423', '5449497', '255724', '255739', '255754', '2128006', '2128026', '2128045', '5192923', '5192956', '5192989', '267853', '267854', '267855', '5223801', '5223852', '5223903', '468621', '468633', '468645', '1406469', '1406491', '1406513', '3653648', '3653683', '3653717', '5477272', '5477383', '5477493', '454949', '454962', '454974', '2314159', '2314176', '2314193', '2288088', '2288089', '2288090', '2580604', '2580618', '2580631', '3486725', '3486728', '3486730', '517587', '517589', '517590', '2520652', '2520660', '2520667', '2283852', '2283885', '2283918', '5559435', '5559436', '5559437', '4160972', '4161040', '4161107', '2609224', '2609225', '2609226', '183428', '183436', '183443', '2035940', '2035992', '2036043', '273550', '273551', '273552', '1771737', '1771739', '1771740', '3576675', '3576696', '3576716', '3957829', '3957831', '3957832', '3546557', '3546679', '3546801', '1656635', '1656763', '1656891', '3537791', '3537812', '3537833', '2366208', '2366216', '2366223', '993336', '993357', '993377', '3311013', '3311111', '3311209', '2567859', '2567863', '2567866', '2084122', '2084198', '2084273', '1546514', '1546528', '1546541', '2618521', '2618523', '2618524', '5395379', '5395463', '5395546', '3491354', '3491355', '3491356', '274027', '274029', '274030', '2584548', '2584554', '2584559', '5078961', '5078982', '5079003', '3937566', '3937571', '3937575', '4458990', '4459033', '4459076', '1934866', '1934869', '1934871', '267004', '267014', '267024', '2282340', '2282341', '2282342', '269922', '269924', '269926', '3348456', '3348478', '3348500', '3013864', '3013873', '3013882', '476289', '476371', '476453', '803160', '803167', '803173', '2232865', '2232872', '2232879', '1217213', '1217228', '1217243', '2859373', '2859392', '2859411', '2622639', '2622640', '2622641', '2046411', '2046494', '2046577', '4918022', '4918057', '4918092', '2569249', '2569250', '2569251', '3941461', '3941462', '3941463', '2898765', '2898803', '2898841', '251746', '251766', '251785', '617468', '617524', '617580', '270703', '270787', '270871', '2630022', '2630045', '2630068', '3377184', '3377218', '3377251', '575266', '575318', '575369', '4038069', '4038076', '4038083', '5142712', '5142819', '5142926', '5589323', '5589384', '5589444', '5879873', '5879874', '5879875', '4418939', '4418975', '4419011', '4088373', '4088390', '4088406', '182627', '182634', '182640', '2447124', '2447153', '2447181', '2858939', '2859000', '2859061', '2895212', '2895236', '2895260', '3191683', '3191832', '3191981', '437869', '437877', '437884', '2922448', '2922450', '2922452', '2403103', '2403104', '2403105', '5013006', '5013013', '5013020', '5015893', '5015894', '5015895', '4560881', '4560930', '4560978', '5799001', '5799022', '5799042', '5280574', '5280720', '5280866', '479901', '479902', '479903', '2615514', '2615515', '2615516', '1393877', '1393889', '1393900', '3928354', '3928386', '3928417', '1970608', '1970620', '1970632', '423609', '423625', '423641', '1281788', '1281808', '1281827', '1306865', '1306870', '1306875', '2611578', '2611591', '2611603', '1225314', '1225322', '1225330', '601989', '602000', '602010', '972984', '973020', '973056', '4520345', '4520359', '4520372', '5364576', '5364660', '5364743', '5600853', '5600900', '5600946', '235445', '235457', '235469', '2621098', '2621099', '2621100', '3642412', '3642441', '3642470', '3030244', '3030245', '3030246', '853417', '853429', '853440', '1427565', '1427574', '1427582', '3169007', '3169070', '3169133', '1097618', '1097717', '1097815', '2716125', '2716134', '2716142', '2515635', '2515703', '2515770', '3840255', '3840288', '3840321', '938323', '938336', '938349', '5860678', '5860688', '5860698', '3912874', '3912901', '3912928', '5009556', '5009557', '5009558', '2240904', '2240938', '2240971', '3259817', '3259834', '3259851', '617332', '617348', '617363', '3163699', '3163703', '3163707', '5025448', '5025464', '5025480', '3547792', '3547832', '3547871', '1432476', '1432480', '1432484', '3854257', '3854279', '3854300', '255161', '255250', '255339', '1770275', '1770277', '1770278', '4391084', '4391103', '4391122', '3425174', '3425249', '3425324', '4921065', '4921098', '4921131', '939021', '939035', '939048', '1039549', '1039559', '1039568', '5166235', '5166332', '5166429', '221077', '221083', '221088', '4562322', '4562539', '4562756', '2624275', '2624276', '2624277', '224630', '224663', '224695', '4910469', '4910516', '4910562', '3415555', '3415627', '3415698', '3140530', '3140637', '3140744', '808724', '808767', '808809', '4036046', '4036047', '4036048', '4037242', '4037243', '4037244', '1501861', '1501963', '1502065', '3554155', '3554184', '3554213', '1227666', '1227669', '1227672', '932867', '932873', '932878', '1390088', '1390101', '1390113', '2251914', '2251950', '2251985', '3039933', '3039946', '3039958', '1563953', '1564128', '1564302', '1588853', '1588967', '1589081', '969818', '969822', '969825', '1637178', '1637223', '1637268', '2094489', '2094512', '2094535', '428938', '428979', '429019', '250016', '250023', '250029', '5241954', '5242071', '5242188', '1432962', '1432965', '1432968', '878771', '878810', '878849', '2580166', '2580174', '2580182', '2855195', '2855200', '2855204', '5191709', '5191711', '5191713', '5231010', '5231047', '5231083', '470753', '470827', '470901', '1772555', '1772556', '1772557', '618394', '618414', '618434', '4723020', '4723117', '4723213', '1115879', '1115888', '1115897', '90984', '91040', '91096', '1203799', '1203804', '1203808', '247300', '247304', '247308', '885291', '885308', '885325', '1957486', '1957501', '1957516', '1134533', '1134535', '1134537', '2587886', '2587889', '2587892', '2693070', '2693121', '2693171', '1050062', '1050192', '1050321', '5223161', '5223173', '5223184', '920463', '920478', '920492', '479886', '479888', '479889', '1421354', '1421362', '1421369', '3100665', '3100666', '3100667', '2614646', '2614656', '2614665', '2660187', '2660221', '2660255', '2619598', '2619599', '2619600', '5523214', '5523256', '5523297', '3034322', '3034323', '3034324', '4470134', '4470169', '4470203', '5861400', '5861423', '5861445', '32406', '32436', '32465', '2412881', '2412942', '2413003', '710286', '710306', '710326', '2612890', '2612892', '2612893', '2671930', '2672010', '2672089', '2129934', '2129948', '2129961', '5275508', '5275531', '5275554', '5546877', '5546906', '5546934', '1377757', '1377771', '1377784', '1444596', '1444599', '1444602', '1202467', '1202478', '1202489', '1367830', '1367837', '1367844', '1554914', '1554938', '1554961', '2935790', '2935795', '2935800', '3952192', '3952193', '3952194', '5027121', '5027122', '5027123', '3980733', '3980735', '3980737', '1020964', '1020968', '1020972', '3705657', '3705690', '3705722', '3050083', '3050160', '3050236', '2763587', '2763650', '2763713', '3145307', '3145338', '3145368', '5670435', '5670539', '5670643', '5178337', '5178408', '5178479', '4260606', '4260718', '4260829', '3111581', '3111582', '3111583', '509956', '509962', '509967', '1437700', '1437708', '1437716', '3942310', '3942311', '3942312', '1419122', '1419131', '1419140', '2621901', '2621903', '2621904', '2612944', '2612945', '2612946', '295842', '295850', '295858', '1289868', '1289885', '1289902', '1037053', '1037095', '1037137', '263755', '263758', '263760', '444086', '444100', '444113', '1352556', '1352576', '1352595', '3098800', '3098818', '3098835', '3914768', '3914789', '3914810', '306963', '307000', '307037', '1422865', '1422875', '1422884', '1925620', '1925728', '1925835', '5882591', '5882595', '5882599', '2760590', '2760628', '2760665', '1113468', '1113482', '1113495', '3021036', '3021037', '3021038', '189305', '189330', '189355', '685499', '685546', '685593', '1453888', '1453893', '1453897', '4310663', '4310724', '4310784', '1745360', '1745466', '1745571', '1272373', '1272380', '1272387', '1219311', '1219430', '1219549', '3231727', '3231862', '3231997', '2114896', '2114904', '2114912', '3792936', '3792967', '3792997', '4208051', '4208172', '4208293', '608654', '608698', '608741', '436146', '436154', '436161', '2064585', '2064599', '2064612', '4851015', '4851278', '4851541', '2295430', '2295441', '2295451', '856494', '856503', '856511', '3413558', '3413621', '3413684', '2994498', '2994516', '2994533', '324636', '324637', '324638', '2306914', '2306923', '2306931', '1096812', '1096820', '1096827', '1266745', '1266785', '1266825', '1043380', '1043429', '1043478', '1140679', '1140692', '1140704', '1768679', '1768681', '1768682', '3460308', '3460387', '3460465', '2288488', '2288489', '2288490', '4326', '4351', '4375', '3992761', '3992762', '3992763', '3643367', '3643374', '3643380', '1417720', '1417734', '1417747', '964857', '964897', '964937', '14350', '14353', '14356', '3985969', '3986000', '3986031', '5162462', '5162482', '5162501', '5206951', '5206962', '5206972', '1341175', '1341193', '1341211', '3097889', '3097890', '3097891', '2876208', '2876226', '2876243', '3039983', '3039995', '3040006', '29172', '29214', '29256', '5145060', '5145070', '5145080', '201638', '201668', '201697', '3855944', '3855975', '3856005', '2291686', '2291721', '2291756', '5072519', '5072549', '5072578', '309137', '309164', '309191', '4638984', '4639042', '4639100', '2467762', '2467910', '2468058', '5221069', '5221138', '5221207', '3520739', '3520740', '3520741', '3955659', '3955660', '3955661', '226491', '226526', '226561', '1202038', '1202055', '1202072', '4290621', '4290796', '4290970', '3499962', '3499963', '3499964', '33670', '33733', '33795', '2264118', '2264151', '2264183', '3243595', '3243636', '3243677', '1005517', '1005566', '1005614', '344715', '344815', '344914', '5031427', '5031429', '5031430', '207414', '207418', '207422', '4400909', '4400953', '4400996', '1419141', '1419156', '1419170', '1403830', '1403841', '1403852', '1356831', '1356844', '1356857', '949623', '949642', '949660', '4007962', '4007963', '4007964', '4044355', '4044356', '4044357', '2729936', '2729950', '2729963', '199876', '199893', '199910', '1728753', '1728907', '1729060', '2433463', '2433479', '2433494', '44023', '44085', '44147', '789506', '789556', '789605', '997835', '997915', '997995', '2382068', '2382087', '2382105', '949721', '949781', '949840', '3596780', '3596851', '3596921', '4738373', '4738413', '4738452', '165909', '165911', '165913', '1539664', '1539680', '1539696', '2936673', '2936678', '2936682', '1372515', '1372525', '1372534', '3013525', '3013602', '3013679', '3514600', '3514653', '3514705', '3996643', '3996644', '3996645', '2675093', '2675128', '2675163', '510865', '510868', '510871', '2584764', '2584765', '2584766', '3730921', '3730946', '3730970', '4203038', '4203050', '4203061', '2233344', '2233371', '2233397', '5222315', '5222338', '5222360', '5166028', '5166056', '5166084', '2326462', '2326477', '2326491', '2368743', '2368754', '2368765', '1600272', '1600300', '1600327', '2684403', '2684417', '2684431', '2895555', '2895615', '2895675', '174374', '174504', '174634', '246812', '246830', '246847', '91548', '91586', '91623', '3151366', '3151367', '3151368', '5406653', '5406727', '5406800', '2237946', '2238033', '2238119', '461752', '461755', '461757', '3951636', '3951638', '3951639', '1972370', '1972391', '1972411', '4105418', '4105459', '4105500', '3728527', '3728542', '3728557', '4038062', '4038064', '4038065', '5041056', '5041080', '5041103', '3155129', '3155134', '3155138', '1203463', '1203553', '1203643', '371880', '371906', '371932', '5607614', '5607635', '5607655', '4762289', '4762326', '4762363', '5826616', '5826656', '5826695', '3710178', '3710192', '3710205', '3904729', '3904772', '3904814', '2010199', '2010259', '2010318', '445712', '445720', '445727', '4007520', '4007521', '4007522', '1368280', '1368291', '1368301', '204605', '204610', '204614', '5502537', '5502574', '5502610', '1248694', '1248716', '1248738', '1497573', '1497587', '1497600', '2965380', '2965449', '2965518', '1764080', '1764115', '1764150', '3936650', '3936663', '3936676', '3135815', '3135816', '3135817', '2772280', '2772297', '2772314', '1453825', '1453834', '1453843', '671730', '671820', '671909', '2326826', '2326843', '2326859', '1027852', '1027867', '1027881', '2571424', '2571425', '2571426', '3505130', '3505137', '3505144', '4081817', '4081864', '4081910', '3805739', '3805760', '3805780', '4201934', '4202003', '4202072', '5492837', '5492881', '5492924', '5473921', '5474001', '5474081', '262668', '262669', '262670', '3921222', '3921247', '3921272', '758994', '759062', '759130', '3396749', '3396813', '3396876', '5813157', '5813199', '5813241', '2659790', '2659945', '2660100', '158123', '158137', '158150', '4289268', '4289317', '4289365', '2997602', '2997641', '2997680', '5119199', '5119486', '5119773', '219994', '220000', '220006', '5526091', '5526116', '5526140', '4003738', '4003782', '4003825', '1237354', '1237371', '1237387', '1949535', '1949545', '1949555', '2593765', '2593766', '2593767', '2622014', '2622016', '2622018', '4581466', '4581571', '4581675', '5301178', '5301247', '5301315', '3593169', '3593175', '3593181', '1774540', '1774542', '1774543', '1513920', '1513966', '1514011', '1770958', '1770987', '1771016', '5150734', '5150785', '5150835', '3955605', '3955606', '3955607', '3852797', '3852814', '3852831', '2569794', '2569799', '2569803', '1212344', '1212376', '1212408', '380680', '380684', '380687', '5871781', '5871793', '5871805', '769895', '769965', '770034', '2507222', '2507248', '2507274', '932102', '932116', '932130', '695050', '695107', '695164', '4344764', '4344819', '4344874', '5864583', '5864584', '5864585', '3055936', '3055946', '3055955', '5199035', '5199040', '5199044', '206312', '206323', '206333', '3993755', '3993756', '3993757', '1451710', '1451717', '1451724', '3095993', '3095995', '3095997', '5293165', '5293228', '5293291', '426395', '426428', '426461', '3556285', '3556297', '3556308', '4792770', '4792822', '4792874', '1964837', '1964861', '1964885', '4612659', '4612695', '4612731', '2945292', '2945420', '2945547', '2959863', '2959867', '2959870', '309874', '309917', '309960', '1770295', '1770296', '1770297', '4151067', '4151115', '4151163', '4394852', '4394894', '4394936', '2608024', '2608042', '2608059', '1636402', '1636445', '1636487', '3902508', '3902575', '3902641', '2597123', '2597125', '2597126', '5745211', '5745232', '5745252', '3579730', '3579740', '3579750', '5432406', '5432436', '5432466', '5598756', '5598795', '5598833', '2574545', '2574546', '2574547', '939157', '939195', '939233', '4631361', '4631394', '4631427', '3119391', '3119393', '3119394', '4945941', '4946015', '4946089', '465518', '465564', '465610', '2428269', '2428280', '2428290', '911871', '911873', '911875', '5875937', '5875962', '5875986', '3437015', '3437031', '3437046', '5075571', '5075624', '5075677', '1783678', '1783726', '1783773', '2874661', '2874748', '2874835', '3714695', '3714710', '3714724', '1449484', '1449494', '1449504', '254469', '254477', '254484', '2111836', '2111845', '2111854', '578819', '578844', '578869', '2748568', '2748575', '2748581', '2736874', '2736900', '2736926', '1704155', '1704168', '1704180', '3734251', '3734280', '3734308', '1291620', '1291630', '1291639', '2617468', '2617469', '2617470', '748122', '748131', '748140', '2750468', '2750483', '2750498', '229022', '229033', '229043', '5017612', '5017711', '5017810', '2025440', '2025468', '2025496', '2980810', '2980828', '2980845', '3539015', '3539073', '3539130', '275537', '275538', '275539', '5390450', '5390471', '5390492', '496261', '496265', '496268', '4964999', '4965021', '4965043', '3955342', '3955343', '3955344', '3857663', '3857702', '3857740', '1066039', '1066111', '1066183', '1532053', '1532150', '1532246', '1472721', '1472731', '1472740', '5212409', '5212411', '5212413', '109039', '109081', '109122', '5226113', '5226126', '5226138', '3412672', '3412711', '3412749', '5798890', '5798920', '5798950', '5586300', '5586316', '5586332', '5031516', '5031523', '5031529', '3853786', '3853809', '3853831', '1930302', '1930317', '1930332', '2290932', '2290955', '2290978', '3793504', '3793540', '3793575', '135650', '135677', '135704', '3891055', '3891075', '3891094', '2111125', '2111132', '2111138', '460860', '460915', '460970', '887964', '887977', '887990', '3921273', '3921317', '3921360', '4582762', '4582911', '4583060', '5230948', '5230963', '5230978', '3023369', '3023372', '3023375', '2620721', '2620723', '2620725', '2420037', '2420074', '2420110', '2588515', '2588516', '2588517', '567145', '567146', '567147', '2305396', '2305417', '2305438', '214328', '214333', '214338', '2959955', '2959959', '2959963', '3941820', '3941830', '3941840', '3198701', '3198782', '3198862', '1715189', '1715272', '1715355', '1515700', '1515730', '1515760', '2226668', '2226683', '2226698', '198545', '198557', '198568', '3920659', '3920680', '3920700', '5705388', '5705419', '5705449', '310242', '310287', '310331', '3085478', '3085479', '3085480', '3196556', '3196580', '3196604', '4699510', '4699655', '4699800', '2583626', '2583644', '2583662', '2925762', '2925766', '2925769', '31155', '31225', '31294', '5659727', '5659786', '5659844', '320276', '320306', '320336', '4943180', '4943259', '4943337', '681190', '681206', '681222', '3978075', '3978083', '3978090', '4719516', '4719530', '4719544', '5079757', '5079769', '5079780', '5511424', '5511430', '5511435', '1006233', '1006254', '1006274', '2626778', '2626782', '2626786', '958613', '958627', '958640', '3330750', '3330774', '3330797', '3894369', '3894385', '3894401', '2626660', '2626662', '2626663', '3623995', '3624011', '3624027', '2906096', '2906147', '2906198', '2217066', '2217086', '2217105', '1772380', '1772390', '1772400', '4448453', '4448535', '4448616', '1436446', '1436456', '1436466', '1195040', '1195131', '1195221', '3131653', '3131654', '3131655', '783768', '783821', '783873', '5355442', '5355510', '5355577', '1363696', '1363700', '1363703', '487383', '487418', '487452', '5159640', '5159751', '5159861', '1148918', '1148936', '1148953', '4497244', '4497283', '4497322', '3257284', '3257318', '3257352', '2309468', '2309520', '2309571', '3753641', '3753672', '3753703', '5466310', '5466381', '5466451', '1052978', '1053013', '1053048', '5009914', '5009920', '5009926', '3091514', '3091515', '3091516', '4193163', '4193224', '4193284', '5008870', '5008871', '5008872', '5200970', '5201056', '5201142', '254802', '254810', '254817', '5276356', '5276398', '5276440', '2674377', '2674389', '2674401', '2566393', '2566394', '2566395', '609549', '609671', '609793', '2904319', '2904335', '2904350', '3793958', '3794021', '3794083', '1442023', '1442034', '1442044', '5035834', '5035835', '5035836', '5596488', '5596522', '5596555', '2619161', '2619162', '2619163', '3971083', '3971243', '3971403', '1478881', '1478900', '1478918', '130139', '130155', '130171', '2400350', '2400361', '2400371', '1410875', '1410885', '1410895', '2574715', '2574717', '2574718', '4895282', '4895394', '4895505', '1775150', '1775151', '1775152', '949546', '949584', '949622', '2978101', '2978181', '2978261', '5841568', '5841604', '5841639', '295151', '295259', '295367', '4602702', '4602885', '4603067', '4328005', '4328076', '4328146', '865443', '865454', '865464', '1367125', '1367134', '1367142', '3209209', '3209217', '3209225', '4175279', '4175356', '4175433', '137902', '137924', '137946', '3295732', '3295741', '3295750', '1280866', '1280884', '1280901', '686915', '686947', '686978', '466129', '466136', '466143', '460530', '460534', '460538', '2732792', '2732863', '2732934', '4036418', '4036419', '4036420', '462039', '462047', '462054', '5031688', '5031690', '5031691', '3800955', '3801036', '3801117', '4504297', '4504331', '4504364', '1378091', '1378104', '1378116', '4129034', '4129068', '4129102', '5293542', '5293611', '5293679', '5833949', '5833989', '5834029', '3693468', '3693492', '3693516', '2593090', '2593092', '2593094', '2954106', '2954251', '2954395', '5036097', '5036098', '5036099', '2454133', '2454145', '2454157', '972902', '972943', '972983', '3098613', '3098693', '3098772', '318394', '318416', '318438', '5822774', '5822789', '5822803', '4008133', '4008139', '4008145', '5198137', '5198139', '5198141', '2968198', '2968217', '2968236', '2569863', '2569864', '2569865', '3002737', '3002738', '3002739', '4719826', '4719889', '4719952', '930906', '930956', '931005', '585151', '585214', '585276', '1341663', '1341670', '1341676', '1128334', '1128348', '1128362', '5825208', '5825230', '5825252', '4976223', '4976259', '4976295', '1213755', '1213772', '1213789', '2939384', '2939396', '2939408', '3119388', '3119389', '3119390', '3069698', '3069733', '3069768', '2018952', '2018984', '2019015', '3902764', '3902788', '3902811', '3165297', '3165298', '3165299', '1027757', '1027766', '1027775', '505185', '505192', '505199', '5533378', '5533400', '5533422', '1177973', '1178025', '1178076', '5175002', '5175046', '5175090', '4396096', '4396148', '4396199', '233530', '233590', '233649', '2016444', '2016518', '2016592', '2461893', '2461909', '2461924', '5028815', '5028816', '5028817', '4028342', '4028343', '4028344', '1823794', '1823795', '1823796', '78121', '78165', '78209', '2417844', '2417855', '2417866', '5511202', '5511306', '5511409', '1230217', '1230226', '1230235', '3810571', '3810712', '3810853', '488063', '488120', '488176', '2313257', '2313299', '2313340', '1055523', '1055667', '1055811', '2561972', '2561978', '2561984', '246602', '246617', '246631', '3119443', '3119445', '3119446', '5759089', '5759138', '5759186', '767498', '767585', '767672', '4254438', '4254453', '4254467', '4715393', '4715496', '4715599', '525131', '525203', '525274', '3622777', '3622800', '3622823', '546356', '546431', '546505', '3041145', '3041162', '3041178', '2603672', '2603682', '2603691', '774018', '774027', '774036', '4777728', '4777772', '4777815', '1819696', '1819725', '1819754', '1020541', '1020552', '1020562', '5196523', '5196595', '5196667', '1916563', '1916592', '1916621', '2344386', '2344401', '2344415', '3504813', '3504817', '3504820', '1174777', '1174858', '1174939', '785672', '785691', '785710', '4350436', '4350571', '4350705', '3714070', '3714081', '3714092', '2333211', '2333213', '2333214', '2581080', '2581081', '2581082', '269937', '269940', '269943', '3978296', '3978297', '3978298', '279990', '280015', '280040', '2084033', '2084077', '2084121', '606091', '606094', '606096', '3462728', '3462760', '3462791', '2181321', '2181344', '2181367', '3274909', '3274929', '3274948', '1213066', '1213075', '1213084', '1773969', '1773972', '1773975', '160284', '160295', '160305', '3953362', '3953363', '3953364', '1062014', '1062102', '1062190', '1316805', '1316856', '1316906', '5840765', '5840908', '5841050', '275024', '275028', '275031', '419153', '419186', '419218', '1416337', '1416342', '1416346', '537054', '537075', '537095', '2062943', '2063080', '2063217', '2737691', '2737701', '2737710', '4403952', '4403963', '4403973', '2645174', '2645225', '2645275', '142902', '142933', '142963', '261198', '261200', '261201', '1232934', '1233008', '1233081', '1404444', '1404449', '1404454', '2617640', '2617645', '2617650', '3103643', '3103644', '3103645', '171806', '171826', '171845', '1119574', '1119598', '1119621', '1672895', '1672935', '1672974', '2723719', '2723727', '2723735', '954901', '955033', '955165', '2220944', '2220955', '2220966', '7061', '7086', '7110', '2958406', '2958411', '2958415', '1519329', '1519361', '1519393', '2486638', '2486645', '2486652', '838310', '838335', '838359', '3919723', '3919743', '3919762', '2515543', '2515545', '2515546', '1940347', '1940358', '1940369', '3318023', '3318069', '3318114', '5262989', '5263113', '5263236', '1989473', '1989484', '1989495', '4037684', '4037685', '4037686', '2589302', '2589304', '2589306', '878144', '878153', '878161', '2089886', '2089905', '2089923', '1443322', '1443329', '1443335', '4342127', '4342307', '4342487', '5141058', '5141134', '5141210', '1584810', '1584863', '1584916', '2661809', '2661845', '2661881', '495268', '495370', '495472', '3753072', '3753116', '3753159', '3432255', '3432256', '3432257', '2443748', '2443770', '2443792', '261671', '261673', '261674', '1187915', '1187918', '1187921', '207672', '207681', '207690', '3232321', '3232328', '3232335', '2902401', '2902432', '2902463', '3492126', '3492128', '3492129', '273553', '273559', '273565', '1512565', '1512666', '1512766', '1406984', '1406992', '1407000', '1798052', '1798066', '1798079', '1783774', '1783784', '1783793', '122555', '122579', '122603', '3018652', '3018655', '3018658', '1933940', '1933992', '1934043', '1527468', '1527478', '1527488', '374678', '374800', '374921', '3623151', '3623157', '3623163', '3930284', '3930308', '3930331', '3922552', '3922566', '3922580', '271508', '271511', '271513', '1286276', '1286319', '1286361', '4713003', '4713077', '4713151', '415464', '415564', '415664', '2605351', '2605352', '2605353', '5748834', '5748893', '5748951', '3648187', '3648194', '3648200', '4121376', '4121399', '4121421', '187154', '187178', '187201', '11500', '11616', '11732', '276189', '276191', '276192', '1770486', '1770487', '1770488', '3836339', '3836376', '3836413', '851282', '851301', '851320', '3144688', '3144693', '3144698', '63151', '63198', '63245', '2619981', '2619982', '2619983', '259647', '259699', '259751', '353315', '353336', '353356', '2618528', '2618530', '2618531', '2300084', '2300089', '2300094', '1897795', '1897845', '1897895', '2557533', '2557552', '2557571', '1867235', '1867313', '1867391', '2571305', '2571306', '2571307', '1076497', '1076513', '1076528', '2570971', '2570977', '2570982', '1429865', '1429890', '1429914', '1046251', '1046353', '1046454', '1901461', '1901507', '1901553', '2370008', '2370104', '2370200', '3466150', '3466184', '3466218', '415070', '415100', '415129', '1028986', '1028989', '1028991', '3507685', '3507713', '3507741', '681865', '681905', '681945', '2777322', '2777343', '2777363', '5725029', '5725047', '5725065', '1082391', '1082415', '1082439', '5460418', '5460475', '5460532', '223878', '223882', '223886', '3251097', '3251191', '3251284', '2752049', '2752097', '2752145', '3435685', '3435694', '3435702', '1887389', '1887421', '1887453', '269428', '269429', '269430', '123553', '123593', '123633', '1774193', '1774196', '1774199', '3634317', '3634326', '3634334', '2673716', '2673730', '2673743', '5080850', '5080876', '5080902', '1454910', '1454918', '1454925', '2942514', '2942519', '2942523', '152545', '152546', '152547', '2778251', '2778347', '2778442', '266822', '266837', '266851', '2646740', '2646752', '2646763', '1111351', '1111362', '1111373', '1386421', '1386428', '1386435', '2183717', '2183772', '2183826', '1196917', '1196939', '1196961', '4866901', '4866954', '4867006', '1774107', '1774112', '1774117', '5333515', '5333565', '5333615', '3532944', '3532994', '3533044', '1916622', '1916683', '1916744', '2914148', '2914158', '2914168', '445221', '445231', '445241', '3094396', '3094506', '3094615', '2300199', '2300263', '2300327', '2434004', '2434021', '2434037', '5212751', '5212755', '5212758', '3316203', '3316318', '3316432', '3395630', '3395704', '3395778', '2592566', '2592573', '2592580', '1345820', '1345834', '1345847', '1947563', '1947582', '1947601', '5414051', '5414115', '5414179', '1883029', '1883069', '1883109', '687785', '687884', '687982', '2575899', '2575901', '2575903', '964068', '964101', '964133', '300248', '300280', '300312', '1192149', '1192160', '1192171', '4775253', '4775280', '4775307', '4185969', '4185988', '4186007', '463383', '463388', '463393', '1417063', '1417073', '1417083', '1266467', '1266500', '1266533', '1326127', '1326222', '1326317', '3397039', '3397078', '3397116', '1020973', '1020993', '1021012', '5637990', '5638093', '5638196', '2149002', '2149064', '2149126', '274654', '274656', '274657', '2306325', '2306343', '2306360', '916029', '916043', '916057', '4784166', '4784208', '4784250', '1090869', '1090879', '1090889', '4011649', '4011707', '4011764', '3749377', '3749420', '3749462', '3219177', '3219240', '3219302', '1453915', '1453922', '1453928', '479904', '479905', '479906', '3022051', '3022103', '3022155', '3468406', '3468434', '3468461', '4234754', '4234775', '4234795', '3953107', '3953117', '3953127', '4069736', '4069863', '4069989', '4393835', '4393854', '4393873', '1958001', '1958015', '1958029', '1371531', '1371547', '1371563', '3647915', '3647927', '3647939', '2011559', '2011582', '2011604', '915672', '915695', '915717', '5853765', '5853766', '5853767', '1420899', '1420913', '1420927', '86', '105', '123', '5876764', '5876769', '5876774', '3214901', '3215029', '3215156', '3187948', '3187969', '3187989', '1706730', '1706822', '1706914', '433304', '433313', '433321', '2178012', '2178155', '2178298', '176266', '176305', '176343', '730070', '730084', '730097', '157134', '157142', '157149', '1966480', '1966494', '1966507', '267740', '267742', '267743', '3954907', '3954909', '3954910', '479063', '479064', '479065', '3551787', '3551833', '3551878', '2785099', '2785116', '2785133', '2605370', '2605372', '2605374', '1960534', '1960554', '1960573', '81430', '81447', '81463', '3641912', '3641919', '3641926', '1841654', '1841691', '1841727', '1556349', '1556472', '1556595', '5880328', '5880353', '5880377', '4570892', '4570903', '4570914', '2617820', '2617829', '2617838', '5149909', '5149947', '5149984', '4620276', '4620303', '4620329', '2771967', '2771998', '2772029', '2588751', '2588757', '2588763', '2318421', '2318440', '2318458', '1374119', '1374136', '1374152', '204759', '204776', '204793', '4349957', '4350023', '4350088', '3020869', '3020881', '3020892', '1847222', '1847275', '1847328', '3979052', '3979054', '3979055', '2979096', '2979102', '2979108', '3408980', '3409040', '3409100', '3381919', '3381962', '3382004', '4789284', '4789378', '4789472', '1858380', '1858411', '1858442', '2503372', '2503389', '2503405', '3157250', '3157275', '3157299', '3907499', '3907523', '3907547', '3090792', '3090793', '3090794', '4656489', '4656571', '4656652', '2570831', '2570836', '2570841', '1068701', '1068760', '1068818', '2145093', '2145227', '2145361', '1816183', '1816225', '1816267', '5589846', '5589903', '5589959', '320663', '320693', '320723', '4889153', '4889187', '4889220', '4265820', '4265872', '4265924', '4774149', '4774185', '4774221', '5779317', '5779330', '5779342', '1425993', '1426005', '1426017', '158402', '158410', '158417', '200819', '200825', '200830', '2943659', '2943662', '2943664', '5593380', '5593385', '5593389', '1044418', '1044479', '1044539', '3460542', '3460554', '3460566', '2587511', '2587513', '2587514', '2162652', '2162672', '2162691', '3476134', '3476220', '3476306', '230384', '230407', '230429', '5034656', '5034658', '5034659', '1953656', '1953670', '1953683', '3630907', '3630915', '3630923', '2909431', '2909490', '2909549', '4527824', '4527883', '4527942', '3892190', '3892211', '3892232', '1472586', '1472589', '1472592', '3072413', '3072424', '3072434', '3399214', '3399250', '3399285', '5627152', '5627221', '5627289', '2402180', '2402186', '2402191', '479266', '479267', '479268', '2626901', '2626904', '2626907', '3336340', '3336667', '3336993', '3687411', '3687429', '3687446', '1101108', '1101123', '1101138', '2736538', '2736548', '2736557', '171777', '171785', '171793', '4296073', '4296115', '4296156', '5427603', '5427630', '5427656', '5841874', '5841900', '5841925', '5527731', '5527763', '5527795', '2217106', '2217110', '2217113', '3449192', '3449199', '3449206', '5870500', '5870514', '5870527', '932131', '932151', '932171', '902583', '902590', '902596', '5479024', '5479153', '5479282', '97463', '97509', '97554', '1883515', '1883583', '1883650', '2334923', '2334935', '2334947', '1149001', '1149018', '1149034', '3139825', '3139834', '3139843', '1373939', '1373954', '1373969', '5640782', '5640908', '5641034', '214348', '214363', '214378', '2618374', '2618384', '2618393', '3847896', '3847921', '3847945', '2236025', '2236069', '2236112', '2387227', '2387252', '2387277', '20100', '20107', '20114', '3896125', '3896149', '3896173', '4945653', '4945797', '4945940', '5032787', '5032799', '5032810', '3942116', '3942120', '3942124', '2950781', '2950788', '2950795', '486487', '486738', '486989', '2144259', '2144307', '2144354', '2913947', '2913973', '2913999', '3705139', '3705209', '3705278', '782663', '782668', '782672', '4266219', '4266311', '4266403', '5205666', '5205668', '5205669', '4827613', '4827614', '4827615', '2565618', '2565623', '2565628', '2125273', '2125290', '2125307', '3561488', '3561526', '3561564', '1034383', '1034396', '1034408', '2816926', '2816995', '2817064', '1923018', '1923034', '1923050', '305074', '305084', '305094', '5312992', '5313008', '5313023', '3635424', '3635430', '3635435', '3942422', '3942423', '3942424', '2566664', '2566665', '2566666', '504727', '504772', '504817', '1471369', '1471370', '1471371', '3417321', '3417390', '3417458', '5077723', '5077761', '5077798', '303547', '303576', '303604', '1770873', '1770874', '1770875', '2090516', '2090658', '2090799', '2057220', '2057363', '2057506', '5192029', '5192034', '5192038', '1375869', '1375889', '1375908', '425567', '425700', '425833', '5061560', '5061603', '5061646', '992878', '992892', '992905', '456439', '456456', '456472', '3604763', '3604791', '3604818', '2907443', '2907500', '2907556', '2803837', '2803877', '2803917', '5716974', '5717005', '5717036', '3906974', '3907002', '3907029', '3095574', '3095576', '3095577', '1371641', '1371650', '1371658', '3699892', '3699922', '3699952', '3950201', '3950202', '3950203', '3545260', '3545284', '3545308', '3093692', '3093693', '3093694', '2111044', '2111057', '2111070', '5306888', '5306968', '5307047', '4098171', '4098172', '4098173', '3491232', '3491293', '3491353', '4372704', '4372843', '4372982', '1405419', '1405428', '1405436', '5093749', '5093773', '5093796', '1086874', '1086884', '1086893', '1369548', '1369570', '1369591', '3380132', '3380213', '3380294', '3134935', '3135036', '3135137', '266541', '266552', '266562', '3179138', '3179196', '3179253', '1464905', '1465053', '1465201', '5086183', '5086208', '5086232', '2565984', '2566008', '2566031', '151270', '151296', '151321', '647270', '647290', '647309', '876369', '876377', '876384', '600869', '600895', '600920', '3464712', '3464767', '3464822', '2608745', '2608779', '2608812', '387099', '387138', '387177', '5881623', '5881631', '5881638', '4837033', '4837255', '4837476', '5037268', '5037270', '5037272', '268503', '268506', '268509', '269437', '269438', '269439', '1743389', '1743445', '1743500', '1484380', '1484386', '1484392', '4408150', '4408156', '4408162', '2183111', '2183132', '2183153', '2079005', '2079033', '2079061', '1421268', '1421277', '1421285', '4291076', '4291100', '4291123', '3583608', '3583615', '3583621', '1299230', '1299239', '1299248', '1446844', '1446857', '1446869', '5155245', '5155281', '5155317', '767', '770', '773', '183134', '183143', '183152', '5009713', '5009740', '5009767', '467338', '467376', '467414', '929511', '929527', '929542', '3294242', '3294298', '3294353', '257889', '257903', '257916', '170819', '170827', '170834', '3282694', '3282713', '3282731', '2806597', '2806598', '2806599', '2594204', '2594313', '2594421', '261675', '261697', '261719', '2736740', '2736796', '2736851', '3402006', '3402036', '3402065', '2192284', '2192293', '2192301', '659653', '659740', '659827', '2584664', '2584665', '2584666', '2554672', '2554684', '2554695', '1224799', '1224814', '1224828', '210662', '210670', '210677', '2228053', '2228121', '2228189', '3142477', '3142479', '3142481', '2945233', '2945240', '2945247', '3909205', '3909228', '3909251', '1213576', '1213583', '1213590', '804737', '804767', '804797', '199639', '199655', '199670', '2276456', '2276482', '2276508', '1835876', '1835931', '1835985', '2341877', '2341904', '2341930', '430891', '430924', '430956', '3095837', '3095838', '3095839', '1260805', '1260866', '1260926', '3019024', '3019025', '3019026', '4152631', '4152672', '4152713', '2254191', '2254271', '2254351', '883199', '883215', '883231', '3239047', '3239060', '3239072', '4258129', '4258143', '4258157', '3469010', '3469036', '3469061', '1391849', '1391869', '1391889', '5448251', '5448324', '5448397', '1347455', '1347467', '1347479', '3667424', '3667448', '3667472', '4947636', '4947738', '4947840', '1472711', '1472716', '1472720', '1892717', '1892755', '1892793', '685978', '685998', '686017', '5009857', '5009861', '5009865', '1673783', '1673806', '1673828', '4094947', '4095056', '4095164', '1046139', '1046145', '1046151', '1427850', '1427859', '1427868', '1948685', '1948789', '1948892', '2417923', '2417929', '2417934', '1550678', '1550711', '1550744', '2398740', '2398754', '2398767', '3952169', '3952170', '3952171', '5511039', '5511120', '5511201', '5032045', '5032048', '5032050', '404940', '405003', '405066', '5510175', '5510193', '5510210', '393547', '393551', '393555', '2116834', '2116839', '2116843', '5036784', '5036785', '5036786', '3182949', '3182959', '3182968', '2589365', '2589366', '2589367', '3126680', '3126693', '3126705', '1771744', '1771745', '1771746', '50550', '50581', '50612', '2093490', '2093570', '2093649', '4008160', '4008169', '4008178', '1678349', '1678390', '1678430', '3070186', '3070189', '3070191', '5865484', '5865497', '5865510', '435470', '435497', '435523', '5207795', '5207811', '5207826', '2975306', '2975389', '2975471', '1083243', '1083248', '1083252', '2385765', '2385781', '2385797', '3873528', '3873575', '3873621', '3771270', '3771293', '3771316', '2617561', '2617562', '2617563', '2923012', '2923017', '2923022', '1498605', '1498620', '1498634', '3342787', '3343133', '3343478', '5601643', '5601674', '5601705', '1735022', '1735078', '1735133', '2299294', '2299307', '2299320', '1372627', '1372638', '1372649', '3603003', '3603006', '3603008', '1402470', '1402484', '1402498', '1382974', '1382982', '1382989', '2736420', '2736438', '2736455', '4037687', '4037694', '4037701', '1576967', '1577030', '1577093', '3669193', '3669206', '3669218', '4798152', '4798169', '4798185', '3285916', '3285951', '3285986', '5858147', '5858156', '5858165', '1042921', '1042958', '1042995', '1471177', '1471189', '1471200', '2633465', '2633734', '2634003', '5230833', '5230844', '5230855', '3822135', '3822166', '3822196', '4396316', '4396326', '4396336', '2863141', '2863208', '2863275', '2612602', '2612648', '2612693', '1034033', '1034039', '1034045', '3538189', '3538208', '3538227', '2236634', '2236639', '2236643', '4898877', '4898919', '4898960', '3098408', '3098409', '3098410', '708518', '708534', '708549', '2117182', '2117211', '2117239', '363724', '363773', '363822', '4916096', '4916173', '4916250', '3098405', '3098406', '3098407', '3431868', '3431873', '3431877', '1880452', '1880507', '1880561', '639360', '639365', '639370', '3996878', '3996879', '3996880', '5226165', '5226184', '5226203', '5878956', '5878960', '5878964', '3567518', '3567560', '3567601', '3777887', '3777939', '3777990', '333424', '333471', '333517', '1383213', '1383224', '1383234', '657216', '657256', '657295', '278874', '278960', '279045', '1280902', '1280908', '1280913', '5539515', '5539536', '5539557', '4658604', '4658842', '4659079', '2386517', '2386534', '2386550', '4409811', '4409895', '4409979', '3556641', '3556650', '3556658', '3383974', '3383997', '3384020', '4394484', '4394514', '4394543', '3142232', '3142234', '3142235', '3124473', '3124597', '3124721', '296559', '296581', '296602', '2981688', '2981706', '2981723', '565129', '565130', '565131', '3520460', '3520491', '3520521', '2574511', '2574512', '2574513', '2450725', '2450807', '2450889', '4728471', '4728479', '4728487', '2949521', '2949531', '2949541', '88852', '88883', '88914', '3836795', '3836835', '3836874', '1125804', '1125942', '1126079', '4379109', '4379154', '4379198', '85796', '85839', '85881', '1970422', '1970433', '1970444', '4915012', '4915019', '4915026', '977194', '977222', '977250', '1754480', '1754739', '1754998', '5234046', '5234075', '5234103', '937139', '937201', '937263', '2495188', '2495198', '2495208', '155384', '155410', '155436', '3864260', '3864282', '3864304', '855980', '855989', '855998', '5586489', '5586611', '5586733', '3922067', '3922111', '3922155', '2585974', '2586049', '2586123', '150052', '150060', '150067', '5364892', '5365039', '5365185', '3604970', '3605012', '3605053', '4885889', '4885978', '4886067', '3111662', '3111663', '3111664', '3884757', '3884793', '3884828', '412308', '412325', '412341', '310332', '310346', '310359', '3101217', '3101219', '3101221', '4803169', '4803273', '4803376', '5016651', '5016656', '5016661', '1690809', '1690870', '1690931', '2372267', '2372293', '2372318', '5846113', '5846149', '5846184', '5227546', '5227554', '5227562', '2138515', '2138583', '2138650', '1520118', '1520163', '1520207', '5404055', '5404080', '5404105', '1110066', '1110095', '1110124', '512141', '512143', '512145', '4990546', '4990659', '4990771', '4098026', '4098029', '4098032', '3584793', '3584826', '3584859', '176782', '176792', '176801', '3670117', '3670156', '3670194', '3648289', '3648290', '3648291', '2057741', '2057928', '2058114', '4392977', '4392987', '4392996', '1347398', '1347418', '1347437', '269158', '269159', '269160', '2626186', '2626202', '2626217', '2394937', '2394950', '2394962', '3486152', '3486177', '3486201', '1752747', '1753055', '1753362', '2868163', '2868186', '2868208', '3646694', '3646715', '3646735', '2694333', '2694471', '2694609', '34692', '34755', '34817', '4093299', '4093310', '4093320', '108578', '108635', '108691', '1364772', '1364788', '1364804', '5312005', '5312049', '5312092', '1343512', '1343524', '1343535', '1397316', '1397324', '1397332', '1087871', '1087912', '1087952', '849337', '849348', '849359', '2587224', '2587239', '2587254', '1770272', '1770273', '1770274', '4087297', '4087418', '4087538', '2309995', '2310001', '2310007', '126128', '126171', '126213', '3463423', '3463428', '3463433', '2978745', '2978776', '2978806', '898961', '899045', '899129', '175538', '175571', '175604', '5033884', '5033885', '5033886', '3123471', '3123477', '3123482', '3434856', '3434867', '3434877', '1378446', '1378466', '1378486', '1074743', '1074750', '1074757', '1929067', '1929078', '1929088', '3056506', '3056560', '3056614', '4048337', '4048524', '4048710', '5312168', '5312196', '5312224', '1850232', '1850239', '1850246', '186499', '186513', '186526', '5203398', '5203411', '5203423', '3616725', '3616746', '3616767', '2783982', '2784020', '2784058', '1186052', '1186137', '1186222', '5415227', '5415355', '5415483', '5024050', '5024066', '5024082', '5073426', '5073431', '5073435', '2055341', '2055414', '2055487', '992714', '992719', '992724', '3764733', '3764754', '3764775', '5392598', '5392622', '5392645', '4864273', '4864355', '4864437', '5620412', '5620439', '5620465', '1574534', '1574646', '1574757', '2361248', '2361264', '2361280', '2598420', '2598421', '2598422', '4898540', '4898616', '4898691', '3661466', '3661481', '3661495', '1359378', '1359389', '1359399', '3920081', '3920102', '3920123', '2255261', '2255281', '2255300', '334192', '334209', '334226', '3696328', '3696355', '3696382', '5223717', '5223723', '5223728', '1475148', '1475163', '1475177', '4105751', '4105906', '4106060', '2595879', '2595881', '2595882', '3766304', '3766330', '3766355', '4171608', '4171664', '4171719', '3133825', '3133826', '3133827', '4661056', '4661105', '4661154', '3259943', '3259972', '3260000', '2599102', '2599105', '2599107', '4841886', '4841947', '4842007', '171977', '171989', '172001', '3133730', '3133777', '3133824', '2491332', '2491359', '2491386', '2622275', '2622277', '2622279', '185889', '185893', '185896', '3917298', '3917316', '3917333', '3475963', '3475980', '3475997', '1930533', '1930556', '1930579', '3646348', '3646445', '3646541', '3647622', '3647623', '3647624', '3797012', '3797062', '3797112', '5238581', '5238598', '5238614', '4321833', '4321854', '4321875', '2275503', '2275532', '2275560', '2115566', '2115567', '2115568', '2949652', '2949660', '2949667', '3069769', '3069802', '3069835', '2351244', '2351262', '2351280', '433522', '433533', '433544', '845071', '845125', '845179', '2247227', '2247260', '2247293', '2565745', '2565746', '2565747', '789018', '789019', '789020', '3109031', '3109033', '3109035', '255755', '255773', '255791', '1927105', '1927129', '1927152', '163282', '163293', '163304', '4727881', '4727996', '4728110', '2834520', '2834575', '2834629', '1220933', '1220945', '1220957', '5026855', '5026858', '5026861', '1432802', '1432803', '1432803', '1776142', '1776159', '1776176', '4843106', '4843168', '4843229', '1959261', '1959273', '1959284', '5474997', '5475127', '5475257', '3994353', '3994356', '3994358', '240423', '240435', '240447', '283809', '283823', '283837', '3992830', '3992832', '3992833', '912509', '912522', '912534', '4038709', '4038711', '4038712', '2130144', '2130164', '2130183', '2197346', '2197457', '2197568', '152751', '152776', '152801', '2587619', '2587623', '2587627', '1768968', '1768970', '1768972', '3933139', '3933161', '3933183', '887574', '887614', '887654', '3004680', '3004749', '3004817', '1040285', '1040296', '1040306', '3234250', '3234315', '3234379', '931352', '931371', '931390', '1548098', '1548109', '1548119', '3079327', '3079332', '3079336', '2152685', '2152690', '2152694', '1497841', '1497856', '1497870', '1399910', '1399922', '1399934', '5558926', '5559023', '5559119', '2614905', '2614909', '2614912', '4654722', '4654756', '4654789', '1355919', '1355929', '1355939', '2410848', '2410859', '2410870', '2448338', '2448354', '2448370', '3856469', '3856487', '3856504', '2890319', '2890356', '2890393', '2564460', '2564461', '2564462', '3070215', '3070217', '3070219', '4812230', '4812339', '4812448', '273777', '273781', '273785', '1965019', '1965026', '1965032', '2598274', '2598283', '2598292', '1202952', '1202985', '1203017', '443796', '443806', '443816', '4950171', '4950190', '4950208', '5267188', '5267243', '5267297', '608121', '608224', '608327', '2400262', '2400278', '2400293', '4600392', '4600400', '4600408', '3952346', '3952347', '3952348', '5461550', '5461648', '5461746', '2877192', '2877261', '2877330', '2591647', '2591651', '2591654', '3980012', '3980014', '3980015', '16954', '16978', '17001', '3641021', '3641043', '3641065', '3648864', '3648872', '3648880', '3746153', '3746177', '3746200', '1100742', '1100777', '1100812', '902946', '902999', '903052', '4843499', '4843516', '4843532', '802856', '802886', '802916', '1775424', '1775426', '1775427', '2397254', '2397276', '2397298', '522495', '522542', '522588', '3459592', '3459632', '3459671', '1226812', '1226822', '1226831', '893764', '893818', '893871', '538800', '538805', '538810', '3435105', '3435121', '3435136', '205342', '205351', '205359', '2605844', '2605845', '2605846', '5515377', '5515389', '5515401', '1942566', '1942571', '1942576', '4043242', '4043251', '4043259', '5231587', '5231601', '5231614', '388308', '388314', '388320', '3106411', '3106417', '3106423', '3148504', '3148505', '3148506', '959853', '959900', '959947', '5830330', '5830360', '5830389', '3144552', '3144615', '3144677', '5028651', '5028660', '5028668', '5109633', '5109704', '5109774', '2116261', '2116269', '2116276', '1950969', '1950972', '1950974', '5882923', '5882925', '5882927', '5642138', '5642193', '5642247', '5725192', '5725198', '5725204', '2593384', '2593388', '2593392', '5524216', '5524264', '5524312', '2689706', '2689746', '2689786', '1392666', '1392683', '1392700', '1094561', '1094564', '1094567', '2606712', '2606739', '2606765', '5219603', '5219612', '5219621', '2931949', '2931963', '2931976', '1401412', '1401426', '1401440', '505141', '505148', '505155', '5172703', '5172764', '5172824', '1402667', '1402678', '1402688', '2103220', '2103274', '2103328', '4496455', '4496482', '4496508', '1374176', '1374190', '1374204', '1192036', '1192041', '1192046', '3504238', '3504239', '3504240', '1147148', '1147159', '1147169', '2565056', '2565057', '2565058', '5387127', '5387192', '5387257', '176145', '176172', '176198', '2616542', '2616544', '2616546', '2858647', '2858721', '2858795', '2614278', '2614279', '2614280', '3181849', '3181923', '3181997', '170971', '170978', '170984', '3000636', '3000639', '3000641', '2571705', '2571709', '2571712', '525546', '525562', '525578', '403017', '403018', '403019', '1274430', '1274501', '1274572', '1475974', '1475984', '1475993', '20011', '20013', '20015', '654130', '654159', '654188', '4199072', '4199092', '4199111', '3600109', '3600126', '3600142', '481539', '481572', '481605', '144694', '144723', '144751', '4117018', '4117049', '4117079', '2441345', '2441365', '2441384', '3691073', '3691089', '3691104', '951452', '951465', '951477', '1119777', '1119781', '1119784', '604548', '604563', '604577', '1122448', '1122457', '1122465', '5856585', '5856602', '5856618', '3057602', '3057718', '3057833', '2292533', '2292578', '2292623', '2398936', '2398949', '2398961', '5819567', '5819617', '5819667', '1030586', '1030681', '1030776', '4500123', '4500131', '4500138', '1266144', '1266163', '1266181', '5320322', '5320402', '5320481', '2253088', '2253162', '2253236', '564634', '564673', '564712', '3647786', '3647789', '3647792', '931330', '931335', '931340', '1958869', '1958880', '1958890', '5564749', '5564773', '5564797', '5857842', '5857888', '5857934', '2925413', '2925465', '2925517', '3955397', '3955400', '3955403', '856757', '856772', '856787', '2161252', '2161268', '2161283', '2487748', '2487759', '2487770', '5582168', '5582199', '5582230', '3022562', '3022564', '3022566', '2271389', '2271406', '2271423', '1341643', '1341653', '1341662', '873492', '873510', '873527', '180877', '180893', '180909', '5433607', '5433856', '5434104', '5003126', '5003191', '5003256', '2618394', '2618407', '2618419', '5057634', '5057706', '5057778', '4683175', '4683196', '4683217', '181068', '181075', '181082', '634676', '634711', '634745', '3560895', '3560912', '3560928', '5665699', '5665726', '5665753', '3448484', '3448496', '3448508', '2684977', '2685019', '2685060', '4459077', '4459112', '4459146', '951165', '951176', '951187', '99885', '99927', '99968', '4464145', '4464197', '4464249', '4651460', '4651535', '4651610', '3929649', '3929675', '3929701', '272856', '272857', '272858', '3744877', '3745001', '3745124', '161406', '161418', '161429', '1343723', '1343737', '1343750', '2013563', '2013600', '2013636', '5149023', '5149056', '5149088', '827494', '827506', '827517', '5488397', '5488505', '5488613', '2547648', '2547664', '2547680', '5251863', '5251934', '5252005', '4500064', '4500093', '4500122', '2334861', '2334861', '2334861', '4922300', '4922317', '4922334', '3051534', '3051682', '3051829', '480546', '480547', '480548', '1418764', '1418779', '1418793', '2187389', '2187423', '2187456', '4310489', '4310533', '4310577', '2367042', '2367082', '2367122', '2130219', '2130232', '2130245', '1745851', '1745969', '1746087', '1432981', '1433029', '1433077', '1423653', '1423661', '1423669', '4889010', '4889030', '4889049', '510394', '510423', '510452', '2566145', '2566146', '2566147', '109881', '109940', '109998', '2345751', '2345775', '2345799', '2570372', '2570392', '2570412', '2178324', '2178378', '2178431', '2497753', '2497822', '2497891', '1959107', '1959121', '1959135', '4150244', '4150279', '4150314', '457422', '457438', '457454', '1390358', '1390367', '1390375', '4471128', '4471162', '4471196', '2816646', '2816669', '2816692', '5232039', '5232044', '5232049', '4682703', '4682749', '4682795', '1202501', '1202508', '1202514', '732298', '732401', '732504', '2179318', '2179341', '2179364', '2064692', '2064705', '2064717', '2227760', '2227779', '2227798', '4388361', '4388381', '4388400', '3326504', '3326518', '3326532', '2584175', '2584191', '2584206', '2375768', '2375815', '2375861', '5047158', '5047173', '5047188', '2646281', '2646302', '2646322', '270330', '270331', '270332', '2711004', '2711017', '2711029', '603101', '603115', '603129', '15685', '15691', '15697', '422112', '422133', '422154', '5080749', '5080760', '5080770', '5316178', '5316194', '5316210', '4029287', '4029291', '4029295', '3713745', '3713773', '3713800', '5612506', '5612526', '5612545', '2536069', '2536076', '2536082', '2595049', '2595050', '2595051', '1299049', '1299139', '1299229', '341976', '342002', '342027', '810359', '810379', '810398', '5308418', '5308465', '5308511', '2288024', '2288039', '2288054', '2763059', '2763093', '2763126', '3519798', '3519806', '3519814', '1096771', '1096791', '1096811', '2219065', '2219118', '2219171', '5640243', '5640380', '5640516', '2748632', '2748692', '2748752', '3310829', '3310842', '3310855', '291839', '291867', '291895', '497655', '497658', '497660', '3089191', '3089195', '3089199', '3367524', '3367613', '3367702', '305151', '305167', '305183', '2105772', '2105773', '2105774', '5195903', '5195907', '5195910', '3165962', '3165967', '3165971', '4817033', '4817086', '4817139', '3912078', '3912104', '3912129', '3912832', '3912853', '3912873', '5321568', '5321579', '5321590', '5413907', '5413979', '5414050', '4355849', '4355878', '4355906', '4432947', '4432965', '4432982', '5170137', '5170225', '5170312', '121201', '121228', '121254', '2137311', '2137323', '2137334', '2768211', '2768231', '2768251', '3908634', '3908666', '3908698', '1353116', '1353126', '1353136', '3520742', '3520760', '3520778', '3041406', '3041415', '3041424', '1045596', '1045600', '1045604', '2600016', '2600026', '2600036', '1549606', '1549607', '1549608', '5230683', '5230693', '5230702', '1548567', '1548597', '1548626', '772083', '772090', '772096', '271491', '271492', '271493', '4942', '4977', '5011', '3809017', '3809057', '3809096', '3139278', '3139285', '3139292', '455278', '455292', '455306', '2835695', '2835752', '2835808', '2367580', '2367613', '2367645', '5214588', '5214591', '5214594', '2588510', '2588512', '2588514', '322655', '322657', '322659', '2595870', '2595871', '2595872', '5882656', '5882686', '5882716', '2923761', '2923763', '2923765', '888770', '888882', '888994', '2553386', '2553388', '2553389', '180976', '180992', '181008', '2866235', '2866292', '2866348', '5432467', '5432500', '5432533', '1374499', '1374514', '1374528', '2341960', '2342016', '2342071', '663390', '663419', '663447', '2589816', '2589817', '2589818', '3684090', '3684136', '3684181', '3942431', '3942433', '3942434', '3796016', '3796030', '3796043', '5382369', '5382421', '5382472', '5219041', '5219043', '5219045', '463179', '463195', '463211', '4871711', '4871754', '4871796', '643883', '643937', '643990', '4825827', '4825842', '4825857', '38956', '39030', '39103', '163027', '163034', '163040', '5112684', '5112733', '5112782', '3072749', '3072751', '3072753', '2601624', '2601672', '2601720', '5034104', '5034114', '5034123', '3978308', '3978533', '3978757', '231919', '232054', '232189', '3095630', '3095638', '3095645', '5722378', '5722450', '5722521', '5386547', '5386600', '5386653', '93873', '93925', '93977', '3977381', '3977382', '3977383', '2813067', '2813156', '2813244', '237373', '237385', '237397', '198475', '198482', '198489', '5233472', '5233473', '5233474', '2662681', '2662702', '2662722', '3978002', '3978005', '3978007', '1285118', '1285174', '1285229', '1476730', '1476741', '1476752', '1183790', '1183880', '1183970', '3473462', '3473481', '3473499', '268782', '268784', '268785', '1521897', '1521938', '1521979', '5440263', '5440344', '5440425', '3169898', '3169927', '3169955', '1774395', '1774396', '1774397', '2573818', '2573819', '2573820', '916703', '916731', '916759', '2588066', '2588124', '2588182', '4037268', '4037269', '4037270', '1350168', '1350180', '1350191', '1375762', '1375781', '1375800', '2618428', '2618433', '2618438', '661232', '661248', '661264', '1664475', '1664597', '1664718', '2705954', '2705991', '2706028', '364626', '364666', '364706', '2007870', '2007890', '2007909', '4705486', '4705535', '4705584', '269434', '269435', '269436', '2813280', '2813284', '2813287', '575416', '575465', '575513', '4283640', '4283676', '4283711', '2618574', '2618575', '2618576', '465226', '465232', '465238', '1004643', '1004658', '1004672', '249948', '249964', '249979', '1223880', '1223924', '1223967', '3119910', '3119921', '3119931', '5431009', '5431070', '5431130', '2036044', '2036170', '2036295', '4369671', '4369750', '4369829', '4733430', '4733496', '4733562', '461358', '461360', '461362', '3632235', '3632256', '3632277', '2364898', '2364913', '2364927', '2829421', '2829464', '2829507', '3593210', '3593230', '3593249', '1722184', '1722457', '1722730', '1952167', '1952204', '1952241', '5242557', '5242582', '5242607', '1656481', '1656558', '1656634', '4639282', '4639328', '4639374', '3937350', '3937351', '3937352', '1304269', '1304312', '1304354', '1090909', '1090921', '1090932', '5154906', '5154936', '5154965', '213221', '213224', '213227', '2259074', '2259081', '2259088', '3932805', '3932831', '3932856', '165835', '165850', '165865', '3034566', '3034656', '3034745', '3993560', '3993571', '3993582', '184706', '184714', '184721', '2605602', '2605603', '2605604', '3863924', '3863966', '3864007', '1940891', '1940902', '1940913', '3505145', '3505161', '3505177', '4057774', '4057924', '4058074', '2409230', '2409240', '2409249', '1518078', '1518114', '1518150', '3201487', '3201509', '3201531', '752380', '752408', '752436', '2276724', '2276763', '2276802', '2751699', '2751723', '2751747', '1937297', '1937326', '1937354', '2383948', '2383954', '2383960', '4010545', '4010552', '4010558', '788205', '788218', '788231', '3024329', '3024330', '3024331', '4387010', '4387033', '4387055', '5230459', '5230464', '5230469', '1655249', '1655282', '1655314', '5067435', '5067450', '5067465', '1033688', '1033720', '1033751', '2158253', '2158261', '2158269', '1036662', '1036671', '1036680', '2026884', '2027022', '2027160', '5011150', '5011151', '5011152', '3248746', '3248811', '3248875', '3803713', '3803760', '3803806', '2968430', '2968486', '2968542', '5161966', '5161986', '5162005', '285314', '285350', '285385', '3572195', '3572213', '3572230', '4762749', '4762858', '4762966', '3867180', '3867220', '3867259', '4388601', '4388712', '4388823', '3882717', '3882746', '3882774', '371649', '371670', '371690', '444604', '444619', '444634', '5439180', '5439271', '5439362', '582909', '582934', '582959', '5458165', '5458188', '5458211', '3349147', '3349188', '3349229', '2595567', '2595569', '2595570', '567977', '567993', '568009', '4811683', '4811697', '4811710', '3477293', '3477305', '3477316', '1425363', '1425375', '1425386', '274658', '274659', '274660', '505568', '505602', '505636', '4495697', '4495721', '4495745', '207030', '207033', '207036', '1553691', '1553822', '1553952', '3902713', '3902738', '3902763', '19543', '19552', '19561', '4009975', '4009976', '4009977', '1500190', '1500195', '1500199', '5098075', '5098253', '5098431', '1509470', '1509504', '1509538', '1392744', '1392766', '1392787', '36693', '36756', '36818', '4468675', '4468825', '4468975', '5134987', '5134996', '5135005', '4028319', '4028320', '4028321', '2328646', '2328657', '2328667', '1840497', '1840516', '1840534', '1354332', '1354343', '1354353', '1206585', '1206617', '1206648', '2462096', '2462115', '2462133', '1397451', '1397460', '1397468', '3465768', '3465782', '3465795', '2587461', '2587462', '2587463', '3361066', '3361079', '3361091', '4028502', '4028533', '4028564', '4401454', '4401488', '4401521', '4951073', '4951139', '4951205', '424808', '424868', '424928', '2095503', '2095560', '2095617', '2357047', '2357157', '2357267', '931670', '931681', '931691', '2368510', '2368526', '2368542', '762826', '762836', '762845', '1427309', '1427317', '1427325', '528419', '528454', '528489', '92842', '92915', '92987', '3979044', '3979048', '3979051', '3773059', '3773082', '3773105', '3637266', '3637273', '3637279', '438112', '438131', '438150', '5421505', '5421526', '5421547', '3083781', '3083898', '3084014', '1248739', '1248844', '1248948', '2937545', '2937556', '2937566', '4427318', '4427334', '4427349', '2163535', '2163576', '2163616', '1241726', '1241755', '1241783', '5288945', '5289011', '5289077', '5405615', '5405651', '5405687', '2587378', '2587379', '2587380', '1436636', '1436681', '1436725', '2595531', '2595532', '2595533', '1322389', '1322414', '1322439', '449798', '449806', '449814', '116126', '116144', '116162', '296747', '296797', '296847', '4909427', '4909431', '4909434', '5844572', '5844603', '5844634', '1329680', '1329778', '1329876', '3292012', '3292027', '3292041', '604210', '604237', '604264', '2577917', '2577918', '2577919', '1815887', '1815899', '1815911', '148464', '148496', '148527', '4775081', '4775108', '4775134', '4758871', '4758922', '4758973', '4291124', '4291233', '4291341', '2366371', '2366443', '2366515', '1163602', '1163657', '1163712', '3932857', '3932889', '3932920', '1502315', '1502390', '1502465', '3547039', '3547051', '3547063', '2130425', '2130443', '2130461', '3045788', '3045790', '3045791', '2338241', '2338252', '2338262', '785072', '785084', '785096', '1381497', '1381504', '1381511', '5357328', '5357375', '5357421', '2247739', '2247847', '2247954', '1346319', '1346345', '1346370', '5534463', '5534595', '5534726', '4160307', '4160353', '4160399', '5327806', '5327861', '5327915', '3303608', '3303609', '3303610', '5257434', '5257503', '5257572', '5486494', '5486588', '5486682', '262437', '262438', '262439', '2186413', '2186455', '2186497', '1888882', '1888946', '1889009', '5036183', '5036184', '5036185', '2845042', '2845123', '2845204', '3736656', '3736725', '3736794', '2773096', '2773194', '2773292', '3565565', '3565599', '3565632', '602335', '602336', '602337', '587029', '587045', '587060', '389870', '389907', '389944', '3891748', '3891769', '3891789', '1159559', '1159574', '1159588', '5224195', '5224198', '5224200', '2415855', '2415871', '2415886', '2386644', '2386646', '2386647', '2740813', '2740826', '2740839', '5477012', '5477094', '5477175', '550125', '550151', '550176', '229865', '229885', '229904', '4426630', '4426671', '4426711', '1009163', '1009188', '1009213', '2474590', '2474660', '2474729', '5102212', '5102253', '5102294', '1938665', '1938715', '1938765', '3315432', '3315454', '3315476', '1376085', '1376092', '1376098', '5785108', '5785215', '5785321', '397691', '397729', '397766', '5873628', '5873632', '5873635', '1534300', '1534342', '1534384', '4697730', '4697853', '4697976', '2322363', '2322387', '2322410', '2234997', '2235003', '2235009', '1917018', '1917129', '1917240', '456399', '456419', '456438', '3691281', '3691341', '3691401', '2705830', '2705846', '2705861', '1775421', '1775422', '1775423', '4565157', '4565182', '4565206', '1703019', '1703038', '1703056', '1945641', '1945648', '1945655', '1414502', '1414518', '1414534', '5027177', '5027278', '5027378', '2333501', '2333505', '2333508', '5827662', '5827675', '5827688', '5055154', '5055276', '5055397', '566035', '566058', '566081', '5472747', '5472843', '5472938', '3236751', '3236756', '3236760', '133010', '133047', '133083', '5795831', '5795878', '5795924', '3595065', '3595072', '3595078', '2481663', '2481684', '2481704', '2600471', '2600472', '2600473', '1629673', '1629763', '1629853', '2173473', '2173518', '2173563', '4086862', '4086952', '4087041', '2536083', '2536130', '2536176', '1313031', '1313149', '1313266', '1377785', '1377800', '1377815', '269015', '269020', '269024', '166370', '166381', '166392', '4600451', '4600463', '4600475', '236477', '236490', '236502', '273179', '273181', '273183', '194298', '194306', '194314', '5283501', '5283534', '5283567', '2343050', '2343142', '2343233', '951977', '951980', '951982', '4381275', '4381290', '4381304', '771882', '771921', '771960', '2590090', '2590091', '2590092', '409802', '409823', '409844', '1782731', '1782767', '1782803', '2790020', '2790068', '2790115', '818516', '818560', '818604', '3142456', '3142458', '3142460', '107092', '107202', '107311', '3560688', '3560689', '3560690', '4295465', '4295613', '4295760', '2486920', '2486937', '2486954', '3072493', '3072548', '3072603', '603201', '603216', '603231', '3954762', '3954775', '3954788', '5825136', '5825172', '5825207', '2468532', '2468597', '2468662', '3852892', '3852925', '3852958', '2233209', '2233228', '2233247', '3643149', '3643150', '3643151', '5013849', '5013851', '5013852', '593852', '593871', '593890', '5578189', '5578194', '5578198', '1524112', '1524124', '1524136', '4340764', '4340795', '4340825', '1486086', '1486118', '1486149', '2375949', '2375968', '2375987', '5592038', '5592122', '5592205', '3621860', '3621863', '3621866', '1174001', '1174029', '1174056', '2107450', '2107458', '2107465', '5879522', '5879538', '5879554', '179832', '179868', '179904', '5037804', '5037826', '5037848', '1583404', '1583525', '1583646', '2704070', '2704098', '2704126', '1487621', '1487628', '1487634', '5255729', '5255754', '5255779', '560919', '561042', '561165', '2495028', '2495053', '2495077', '2124262', '2124318', '2124373', '435327', '435337', '435346', '2987246', '2987306', '2987365', '4088705', '4088750', '4088794', '2573321', '2573350', '2573379', '3541510', '3541581', '3541651', '1392547', '1392559', '1392570', '1384943', '1384951', '1384958', '3991520', '3991532', '3991544', '1417902', '1417910', '1417918', '4387777', '4387806', '4387835', '2535146', '2535191', '2535235', '1887646', '1887680', '1887714', '2727078', '2727196', '2727314', '1774215', '1774216', '1774217', '830716', '830729', '830741', '5614476', '5614492', '5614508', '3514505', '3514513', '3514520', '3909635', '3909660', '3909684', '530051', '530058', '530064', '2576679', '2576698', '2576716', '3140369', '3140387', '3140404', '3074555', '3074558', '3074560', '2635523', '2635831', '2636138', '4028141', '4028144', '4028146', '2642733', '2642751', '2642768', '5515402', '5515408', '5515413', '1359792', '1359807', '1359821', '1771727', '1771728', '1771729', '501990', '502003', '502015', '1771669', '1771670', '1771671', '4332691', '4332732', '4332773', '5094827', '5094857', '5094886', '3878392', '3878494', '3878596', '761649', '761676', '761703', '4049930', '4050020', '4050110', '4377309', '4377343', '4377377', '3220448', '3220575', '3220701', '2613320', '2613325', '2613329', '65404', '65453', '65502', '218647', '218708', '218768', '162957', '162963', '162969', '3519539', '3519545', '3519550', '2592673', '2592677', '2592680', '848949', '848953', '848956', '2577359', '2577366', '2577373', '2226350', '2226409', '2226467', '5079754', '5079755', '5079756', '3022253', '3022273', '3022293', '3730867', '3730894', '3730920', '2360735', '2360747', '2360758', '2952412', '2952418', '2952424', '1074216', '1074223', '1074229', '519007', '519017', '519027', '2597503', '2597504', '2597505', '2614366', '2614378', '2614389', '2589183', '2589184', '2589185', '3643189', '3643205', '3643221', '3604617', '3604638', '3604658', '2663249', '2663265', '2663280', '5424305', '5424381', '5424456', '4702792', '4702888', '4702983', '2545099', '2545132', '2545164', '3145540', '3145609', '3145677', '1472219', '1472222', '1472224', '442840', '442859', '442878', '5569795', '5569810', '5569825', '1442977', '1442982', '1442986', '3952649', '3952657', '3952665', '4576813', '4576865', '4576916', '388930', '388933', '388935', '1099071', '1099081', '1099090', '4792228', '4792288', '4792348', '1957013', '1957028', '1957043', '4303759', '4303854', '4303948', '240173', '240188', '240203', '1225235', '1225245', '1225254', '1251160', '1251242', '1251324', '229440', '229446', '229452', '2097354', '2097370', '2097385', '371691', '371698', '371704', '1037870', '1037873', '1037875', '373096', '373109', '373121', '442986', '443003', '443020', '2689447', '2689472', '2689497', '2380521', '2380534', '2380546', '1608648', '1608667', '1608686', '5190933', '5190945', '5190956', '4741652', '4741680', '4741708', '427265', '427444', '427622', '4680254', '4680358', '4680462', '871799', '871811', '871823', '2821155', '2821167', '2821179', '1278021', '1278083', '1278144', '5377808', '5377831', '5377854', '2817065', '2817088', '2817111', '1947208', '1947236', '1947263', '2475125', '2475182', '2475238', '337817', '337896', '337975', '1865007', '1865038', '1865069', '2189526', '2189542', '2189557', '3072481', '3072484', '3072486', '2345180', '2345192', '2345204', '470719', '470725', '470731', '3302145', '3302175', '3302204', '4940169', '4940275', '4940380', '2587994', '2587996', '2587997', '2213068', '2213086', '2213103', '4045674', '4045675', '4045676', '2924579', '2924585', '2924590', '2885177', '2885198', '2885219', '5594107', '5594141', '5594174', '1451725', '1451737', '1451749', '1940082', '1940091', '1940099', '4717967', '4718000', '4718032', '2996338', '2996353', '2996367', '3079644', '3079645', '3079646', '1923948', '1923988', '1924027', '2134261', '2134275', '2134288', '3851903', '3851918', '3851933', '5215371', '5215383', '5215395', '5330041', '5330071', '5330100', '2732506', '2732533', '2732559', '3723836', '3723846', '3723855', '3660624', '3660655', '3660686', '2587315', '2587317', '2587318', '313804', '313829', '313854', '2931897', '2931902', '2931906', '5227468', '5227470', '5227472', '3055391', '3055413', '3055434', '2302970', '2302982', '2302994', '3977986', '3977988', '3977989', '905793', '905795', '905797', '2482170', '2482257', '2482343', '5435943', '5435986', '5436028', '5187068', '5187088', '5187107', '4432571', '4432607', '4432643', '246088', '246097', '246105', '924266', '924289', '924311', '1387234', '1387244', '1387253', '146002', '146155', '146307', '1923094', '1923136', '1923177', '2865844', '2865891', '2865938', '1338150', '1338160', '1338169', '1382706', '1382719', '1382731', '727612', '727626', '727640', '2613690', '2613692', '2613694', '1842257', '1842339', '1842420', '3726195', '3726222', '3726248', '1051892', '1051907', '1051921', '3273661', '3273674', '3273686', '5011006', '5011007', '5011008', '2589441', '2589444', '2589447', '3602937', '3602970', '3603002', '2738384', '2738428', '2738472', '5184028', '5184148', '5184267', '1389972', '1389997', '1390021', '2318220', '2318232', '2318244', '465636', '465640', '465643', '4423264', '4423298', '4423331', '3440457', '3440472', '3440487', '2576054', '2576063', '2576071', '3699860', '3699876', '3699891', '4205817', '4205827', '4205836', '2225467', '2225473', '2225479', '5851365', '5851407', '5851448', '483603', '483678', '483753', '1743627', '1743668', '1743709', '2957155', '2957158', '2957161', '2681995', '2682008', '2682021', '3622718', '3622747', '3622776', '2129728', '2129751', '2129774', '2923869', '2923875', '2923880', '270685', '270686', '270687', '2608586', '2608587', '2608588', '4426178', '4426246', '4426314', '379880', '379911', '379942', '2430333', '2430395', '2430457', '1535785', '1535814', '1535843', '1586164', '1586205', '1586246', '799162', '799230', '799298', '5834862', '5834892', '5834922', '1189539', '1189569', '1189599', '3690708', '3690745', '3690781', '3918051', '3918069', '3918086', '1803568', '1803623', '1803678', '3962991', '3963052', '3963113', '2782080', '2782108', '2782135', '4033465', '4033473', '4033481', '1092197', '1092201', '1092205', '5882928', '5882931', '5882934', '3491401', '3491418', '3491434', '1614713', '1614736', '1614758', '3773137', '3773152', '3773166', '931986', '932007', '932028', '3643053', '3643097', '3643141', '3305780', '3305810', '3305839', '2599642', '2599647', '2599652', '3953356', '3953357', '3953358', '3139814', '3139816', '3139818', '4223756', '4223808', '4223860', '5121164', '5121177', '5121190', '164767', '164772', '164777', '3150213', '3150215', '3150217', '1305290', '1305374', '1305458', '176936', '176954', '176971', '2073091', '2073131', '2073171', '198212', '198227', '198242', '5846038', '5846060', '5846081', '5586734', '5586750', '5586765', '274684', '274685', '274686', '1397298', '1397307', '1397315', '763819', '763851', '763882', '2604292', '2604298', '2604303', '846165', '846183', '846201', '2089812', '2089849', '2089885', '1758999', '1759011', '1759023', '4153453', '4153513', '4153572', '1975779', '1975797', '1975815', '3324125', '3324135', '3324145', '2594682', '2594692', '2594701', '5012594', '5012602', '5012610', '991502', '991515', '991527', '389703', '389786', '389869', '1452590', '1452598', '1452605', '1953684', '1953696', '1953708', '4322028', '4322097', '4322165', '4364529', '4364606', '4364682', '5878862', '5878866', '5878870', '1729762', '1729813', '1729864', '5267468', '5267484', '5267500', '1016347', '1016376', '1016405', '2285206', '2285213', '2285220', '5120137', '5120192', '5120247', '2264719', '2264797', '2264874', '503509', '503527', '503545', '4742535', '4742616', '4742696', '2588451', '2588454', '2588457', '5665009', '5665093', '5665177', '1861216', '1861284', '1861352', '5073676', '5073691', '5073706', '2931665', '2931677', '2931688', '5851571', '5851574', '5851576', '2719919', '2719974', '2720028', '4451665', '4451703', '4451740', '2298643', '2298647', '2298650', '3749006', '3749046', '3749086', '3491609', '3491610', '3491611', '912500', '912504', '912508', '4826054', '4826120', '4826185', '5322714', '5322735', '5322755', '965259', '965373', '965487', '5879655', '5879675', '5879695', '4910886', '4910940', '4910993', '5539385', '5539414', '5539442', '2240611', '2240702', '2240792', '1369724', '1369733', '1369742', '162848', '162855', '162861', '2565111', '2565112', '2565113', '2274019', '2274034', '2274049', '3631351', '3631359', '3631367', '3219303', '3219319', '3219335', '2202394', '2202462', '2202530', '1403118', '1403123', '1403127', '1467823', '1467911', '1467998', '4073482', '4073604', '4073726', '1980182', '1980197', '1980211', '142509', '142535', '142560', '5342831', '5342849', '5342867', '1440942', '1440947', '1440952', '2501209', '2501217', '2501224', '724011', '724102', '724193', '1075975', '1075994', '1076013', '458728', '458737', '458746', '3522797', '3522827', '3522856', '3935184', '3935231', '3935278', '2619288', '2619312', '2619336', '2375552', '2375588', '2375623', '2278058', '2278077', '2278095', '436859', '436860', '436860', '2578632', '2578634', '2578636', '5710295', '5710390', '5710484', '1541204', '1541235', '1541265', '48250', '48302', '48354', '1763527', '1763545', '1763563', '3994001', '3994005', '3994009', '243511', '243524', '243537', '5234257', '5234271', '5234284', '4672723', '4672747', '4672770', '2709297', '2709317', '2709337', '5339899', '5339973', '5340047', '3112495', '3112561', '3112626', '3409540', '3409555', '3409569', '158239', '158312', '158385', '2312110', '2312122', '2312134', '2255822', '2255891', '2255960', '1442055', '1442063', '1442070', '723479', '723548', '723616', '263860', '263861', '263862', '4038320', '4038321', '4038322', '461610', '461613', '461615', '3139525', '3139608', '3139690', '3477089', '3477106', '3477122', '5290503', '5290551', '5290599', '1175840', '1175880', '1175920', '3615818', '3615871', '3615923', '2547510', '2547525', '2547539', '3027580', '3027583', '3027586', '4519865', '4519908', '4519950', '885551', '885558', '885565', '3771037', '3771047', '3771056', '98023', '98095', '98167', '1114732', '1114755', '1114778', '3994010', '3994030', '3994050', '154662', '154692', '154721', '2592830', '2592834', '2592837', '1791545', '1791658', '1791770', '2936888', '2936898', '2936907', '4202466', '4202481', '4202496', '2097577', '2097594', '2097611', '1838588', '1838719', '1838849', '479194', '479195', '479196', '4546342', '4546353', '4546364', '2545982', '2546011', '2546040', '5221732', '5221778', '5221824', '2211237', '2211263', '2211289', '2608740', '2608742', '2608744', '172646', '172654', '172662', '220705', '220713', '220720', '956307', '956324', '956340', '5207983', '5207996', '5208008', '1072170', '1072209', '1072247', '1499814', '1499825', '1499836', '4178067', '4178122', '4178176', '917709', '917732', '917754', '1340695', '1340709', '1340723', '4739436', '4739450', '4739464', '997243', '997316', '997389', '5794743', '5794847', '5794951', '76784', '76843', '76901', '1427206', '1427217', '1427228', '2117940', '2117997', '2118053', '1430775', '1430785', '1430795', '1032431', '1032449', '1032466', '1822617', '1822665', '1822713', '185966', '185977', '185988', '4995060', '4995097', '4995134', '5029158', '5029173', '5029187', '895849', '895929', '896009', '3101154', '3101178', '3101201', '3977993', '3977994', '3977995', '5830670', '5830747', '5830823', '269204', '269205', '269206', '952721', '952724', '952726', '2598415', '2598417', '2598419', '5380596', '5380619', '5380642', '2554179', '2554225', '2554271', '3941965', '3941966', '3941967', '4028432', '4028433', '4028434', '1840109', '1840129', '1840148', '2424112', '2424149', '2424186', '2691640', '2691654', '2691668', '966024', '966049', '966073', '3735940', '3735990', '3736039', '1165370', '1165390', '1165410', '2383344', '2383354', '2383364', '1487533', '1487545', '1487556', '4026018', '4026109', '4026199', '42053', '42083', '42112', '1822877', '1822942', '1823006', '1863567', '1863603', '1863639', '784551', '784575', '784598', '636619', '636634', '636648', '2470509', '2470519', '2470529', '5048567', '5048575', '5048583', '4866116', '4866164', '4866211', '2457468', '2457588', '2457707', '1905099', '1905202', '1905304', '4165878', '4165948', '4166017', '2092234', '2092281', '2092327', '214967', '214979', '214991', '1994213', '1994446', '1994679', '387863', '387967', '388071', '3642116', '3642125', '3642134', '3133828', '3133829', '3133830', '3436986', '3437000', '3437014', '2770744', '2770797', '2770849', '3938409', '3938462', '3938514', '2498968', '2498990', '2499012', '158728', '158761', '158794', '5225178', '5225195', '5225212', '1892395', '1892448', '1892501', '4040505', '4040579', '4040653', '264100', '264174', '264247', '3958602', '3958603', '3958604', '5759745', '5759769', '5759792', '486159', '486265', '486370', '1400512', '1400522', '1400531', '588597', '588618', '588639', '2741726', '2741756', '2741785', '4175100', '4175107', '4175113', '5231185', '5231195', '5231205', '1402903', '1402917', '1402931', '5879333', '5879340', '5879346', '919289', '919306', '919323', '3958122', '3958124', '3958126', '1443383', '1443389', '1443395', '1772583', '1772592', '1772601', '479399', '479400', '479401', '2853123', '2853160', '2853196', '5192403', '5192409', '5192414', '2951701', '2951887', '2952072', '5029543', '5029546', '5029548', '162607', '162614', '162621', '637195', '637248', '637301', '2601724', '2601725', '2601726', '5235714', '5235718', '5235722', '3290769', '3290786', '3290803', '480036', '480037', '480038', '4033504', '4033505', '4033506', '2466299', '2466316', '2466333', '437686', '437707', '437728', '5571804', '5571824', '5571844', '1548463', '1548473', '1548483', '2116951', '2116995', '2117038', '1555591', '1555626', '1555660', '3221128', '3221157', '3221186', '3704621', '3704650', '3704678', '1443281', '1443286', '1443290', '2114363', '2114404', '2114445', '849002', '849012', '849022', '219586', '219595', '219604', '5354338', '5354473', '5354608', '2156044', '2156113', '2156181', '27766', '27827', '27887', '3991914', '3991917', '3991920', '1247767', '1247867', '1247967', '1872549', '1872584', '1872618', '3101639', '3101737', '3101834', '4594664', '4594675', '4594686', '4549477', '4549551', '4549625', '3333538', '3333564', '3333589', '414506', '414592', '414677', '3773413', '3773438', '3773463', '1324284', '1324364', '1324444', '1607461', '1607528', '1607595', '1257197', '1257285', '1257373', '3077574', '3077575', '3077576', '5336117', '5336149', '5336181', '853662', '853668', '853673', '4425397', '4425461', '4425525', '5217308', '5217310', '5217312', '3599239', '3599284', '3599328', '5072260', '5072275', '5072289', '1382645', '1382653', '1382661', '1966033', '1966049', '1966065', '5216878', '5216896', '5216914', '2937189', '2937194', '2937199', '1115977', '1116064', '1116151', '3523334', '3523387', '3523439', '269811', '269832', '269852', '3305903', '3305933', '3305963', '972172', '972287', '972401', '5040950', '5040971', '5040992', '3714893', '3714922', '3714951', '4368437', '4368541', '4368644', '3558425', '3558432', '3558439', '4578717', '4578741', '4578764', '2137411', '2137413', '2137415', '5382686', '5382733', '5382779', '463378', '463380', '463382', '827672', '827785', '827898', '1385090', '1385103', '1385116', '2590904', '2590920', '2590936', '5020618', '5020619', '5020620', '124404', '124443', '124482', '542096', '542120', '542144', '605619', '605632', '605645', '4007905', '4007906', '4007907', '5467625', '5467724', '5467823', '1192182', '1192200', '1192217', '2345094', '2345117', '2345140', '2614666', '2614667', '2614668', '2923905', '2923908', '2923911', '3369568', '3369587', '3369606', '401745', '401764', '401783', '3980772', '3980786', '3980799', '4978884', '4978922', '4978959', '2607385', '2607394', '2607403', '5021913', '5021932', '5021951', '502959', '502989', '503019', '2078656', '2078671', '2078686', '451035', '451046', '451056', '3726405', '3726485', '3726565', '705336', '705354', '705372', '3122315', '3122327', '3122338', '2272206', '2272231', '2272256', '531008', '531053', '531097', '5201398', '5201402', '5201405', '2576093', '2576098', '2576102', '2048185', '2048219', '2048253', '3287940', '3287971', '3288001', '616', '622', '627', '1494163', '1494227', '1494290', '2454098', '2454115', '2454132', '4461825', '4461846', '4461866', '3471037', '3471043', '3471048', '3859833', '3859872', '3859910', '2968237', '2968269', '2968300', '2131725', '2131739', '2131753', '2242589', '2242623', '2242657', '3890752', '3890765', '3890777', '5828062', '5828094', '5828126', '1143911', '1143975', '1144038', '4055300', '4055503', '4055706', '5633008', '5633034', '5633059', '389191', '389199', '389206', '2599729', '2599764', '2599799', '2111206', '2111211', '2111216', '2612947', '2612952', '2612957', '2612786', '2612795', '2612803', '5638525', '5638589', '5638652', '2071835', '2071894', '2071952', '5217416', '5217422', '5217427', '435827', '435847', '435866', '4852872', '4852923', '4852974', '1851444', '1851543', '1851642', '5029137', '5029142', '5029146', '5008596', '5008597', '5008598', '1427869', '1427877', '1427885', '5334263', '5334292', '5334320', '846524', '846533', '846541', '2572310', '2572311', '2572312', '3146798', '3146823', '3146848', '558051', '558129', '558207', '269634', '269638', '269641', '3913843', '3913897', '3913951', '2571680', '2571681', '2571682', '2339459', '2339500', '2339541', '1382421', '1382429', '1382436', '2936267', '2936272', '2936277', '1003167', '1003187', '1003207', '2605194', '2605196', '2605198', '2237362', '2237414', '2237466', '888004', '888013', '888021', '2453186', '2453235', '2453284', '2427418', '2427616', '2427813', '4516606', '4516671', '4516736', '2571453', '2571457', '2571461', '2139435', '2139442', '2139449', '3649240', '3649243', '3649246', '3201532', '3201580', '3201627', '1409534', '1409544', '1409554', '5010003', '5010011', '5010019', '3999589', '3999607', '3999625', '2590296', '2590303', '2590310', '3249920', '3249991', '3250062', '4415910', '4415928', '4415945', '3443470', '3443490', '3443510', '2896750', '2896800', '2896849', '2715381', '2715407', '2715433', '1499501', '1499509', '1499516', '1389825', '1389853', '1389880', '2873697', '2873774', '2873851', '1472380', '1472382', '1472384', '5205389', '5205403', '5205416', '1552288', '1552316', '1552343', '496286', '496287', '496288', '2188775', '2188791', '2188807', '2804767', '2804824', '2804881', '4936090', '4936150', '4936210', '1204858', '1204862', '1204866', '1185394', '1185410', '1185426', '3550008', '3550010', '3550011', '3149170', '3149182', '3149193', '3172252', '3172297', '3172342', '2771862', '2771914', '2771966', '1338440', '1338447', '1338454', '3148798', '3148799', '3148800', '3812779', '3812835', '3812890', '3033760', '3033761', '3033762', '2624914', '2624915', '2624916', '4584293', '4584329', '4584364', '5869700', '5869724', '5869747', '1544699', '1544714', '1544729', '3039260', '3039274', '3039288', '3636489', '3636490', '3636491', '4405066', '4405099', '4405131', '3102413', '3102443', '3102472', '2996143', '2996240', '2996337', '74153', '74259', '74364', '4642561', '4642587', '4642612', '5877479', '5877483', '5877486', '2491115', '2491117', '2491119', '3932255', '3932364', '3932472', '2173011', '2173067', '2173122', '203112', '203121', '203130', '1921195', '1921218', '1921240', '3456672', '3456694', '3456716', '2620430', '2620437', '2620444', '3851156', '3851181', '3851205', '3586000', '3586014', '3586027', '3806451', '3806478', '3806505', '1827618', '1827630', '1827642', '5248719', '5248795', '5248870', '2810239', '2810356', '2810472', '4597796', '4597975', '4598154', '4439653', '4439691', '4439729', '3561364', '3561390', '3561416', '513697', '513704', '513710', '4128246', '4128417', '4128587', '4857916', '4857954', '4857991', '1475470', '1475477', '1475483', '684202', '684257', '684311', '4348881', '4348966', '4349050', '3485952', '3485989', '3486025', '5284703', '5284730', '5284757', '3696682', '3696702', '3696721', '2624237', '2624248', '2624259', '3103202', '3103232', '3103262', '5743857', '5743875', '5743892', '1496086', '1496094', '1496101', '3022716', '3022721', '3022725', '3043338', '3043379', '3043419', '3274690', '3274710', '3274729', '1873327', '1873375', '1873422', '598213', '598227', '598241', '615514', '615533', '615551', '5384448', '5384478', '5384507', '2402329', '2402337', '2402344', '1045744', '1045750', '1045756', '3835472', '3835542', '3835611', '2571218', '2571220', '2571222', '415130', '415170', '415210', '526187', '526241', '526294', '5675201', '5675273', '5675345', '2625020', '2625032', '2625043', '1238338', '1238460', '1238581', '4302421', '4302455', '4302489', '2565696', '2565697', '2565698', '1027749', '1027753', '1027756', '5437718', '5437763', '5437807', '1049535', '1049552', '1049568', '609291', '609306', '609320', '382848', '382852', '382856', '2992028', '2992074', '2992119', '2561876', '2561900', '2561923', '5705974', '5706038', '5706102', '3755984', '3756014', '3756044', '4618083', '4618173', '4618263', '2576211', '2576213', '2576214', '1338424', '1338432', '1338439', '201374', '201400', '201426', '4741516', '4741552', '4741588', '3599329', '3599349', '3599369', '1128395', '1128419', '1128443', '2555824', '2555860', '2555895', '5220424', '5220431', '5220438', '3957833', '3957834', '3957835', '2960589', '2960600', '2960610', '5011181', '5011231', '5011281', '2313830', '2313921', '2314011', '3954215', '3954220', '3954225', '5022576', '5022586', '5022596', '2217493', '2217501', '2217508', '5351173', '5351208', '5351242', '3686134', '3686179', '3686224', '3648083', '3648086', '3648088', '5879735', '5879741', '5879746', '502829', '502844', '502858', '3330838', '3330866', '3330894', '3731016', '3731034', '3731052', '25701', '25716', '25731', '3580548', '3580596', '3580643', '2938217', '2938228', '2938239', '3594676', '3594681', '3594685', '2578190', '2578191', '2578192', '3830365', '3830399', '3830433', '5317195', '5317270', '5317345', '2698966', '2699006', '2699045', '1996720', '1996763', '1996805', '2310967', '2311037', '2311106', '5776730', '5776831', '5776931', '496277', '496281', '496285', '3149374', '3149377', '3149380', '5030996', '5030997', '5030998', '5482623', '5482702', '5482780', '4310088', '4310145', '4310202', '4130085', '4130124', '4130163', '3696007', '3696009', '3696010', '479548', '479551', '479554', '1729918', '1729957', '1729996', '3558565', '3558575', '3558584', '263953', '263954', '263955', '2571462', '2571463', '2571464', '2962511', '2962525', '2962538', '201263', '201273', '201283', '1035597', '1035634', '1035671', '1965815', '1965826', '1965836', '743504', '743515', '743525', '480809', '480811', '480812', '2117348', '2117353', '2117357', '2511084', '2511166', '2511247', '3894688', '3894711', '3894734', '2961056', '2961064', '2961072', '2277342', '2277376', '2277410', '3071538', '3071587', '3071635', '4047180', '4047182', '4047183', '283324', '283350', '283375', '5192589', '5192600', '5192610', '1527446', '1527457', '1527467', '2598971', '2598976', '2598981', '863322', '863333', '863343', '1383235', '1383243', '1383251', '2279377', '2279474', '2279570', '5784144', '5784286', '5784427', '2562348', '2562376', '2562404', '3895125', '3895145', '3895165', '514403', '514405', '514407', '3437514', '3437538', '3437562', '3865077', '3865107', '3865137', '205360', '205370', '205379', '2714204', '2714223', '2714241', '2142789', '2142803', '2142816', '3295309', '3295332', '3295354', '2399769', '2399771', '2399772', '5617606', '5617703', '5617800', '4642018', '4642093', '4642168', '3438903', '3438914', '3438924', '5373339', '5373374', '5373409', '3316433', '3316564', '3316695', '4011226', '4011227', '4011228', '896794', '896800', '896805', '2606801', '2606802', '2606803', '5033683', '5033684', '5033685', '386567', '386569', '386570', '879537', '879547', '879557', '2589448', '2589449', '2589450', '3196533', '3196544', '3196555', '3096831', '3096832', '3096833', '1369036', '1369045', '1369053', '3950622', '3950628', '3950634', '5861590', '5861600', '5861610', '3305840', '3305871', '3305902', '310450', '310469', '310487', '20044', '20051', '20058', '2624300', '2624301', '2624302', '4752056', '4752080', '4752104', '4552599', '4552630', '4552661', '5530673', '5530756', '5530839', '5223468', '5223485', '5223502', '1783850', '1783863', '1783876', '551123', '551182', '551240', '3095512', '3095514', '3095516', '934231', '934248', '934264', '5262535', '5262549', '5262563', '957190', '957212', '957234', '51266', '51377', '51488', '221178', '221189', '221199', '5872137', '5872139', '5872141', '957043', '957085', '957127', '3824509', '3824538', '3824566', '5882717', '5882727', '5882736', '5615552', '5615565', '5615577', '1307124', '1307192', '1307260', '1111567', '1111705', '1111843', '159976', '159990', '160003', '3185758', '3185793', '3185828', '1004313', '1004319', '1004324', '2137149', '2137158', '2137166', '3846914', '3846979', '3847043', '1222613', '1222615', '1222617', '1094996', '1095004', '1095012', '2247294', '2247325', '2247356', '3072458', '3072464', '3072469', '498289', '498295', '498301', '3647342', '3647343', '3647344', '1190337', '1190383', '1190428', '987675', '987759', '987843', '4815711', '4815722', '4815732', '2280849', '2280856', '2280862', '905310', '905319', '905328', '1293922', '1293997', '1294072', '3465443', '3465445', '3465447', '2090106', '2090124', '2090142', '851337', '851344', '851351', '560429', '560455', '560480', '5219701', '5219705', '5219709', '4336040', '4336107', '4336174', '1025831', '1025834', '1025837', '4364233', '4364254', '4364274', '2624377', '2624379', '2624380', '1420235', '1420244', '1420252', '3894782', '3894804', '3894825', '1191308', '1191325', '1191342', '5228263', '5228268', '5228273', '257284', '257416', '257548', '4824711', '4824757', '4824803', '2886767', '2886768', '2886769', '5859903', '5859914', '5859925', '2233721', '2233738', '2233754', '2923340', '2923342', '2923343', '4588112', '4588137', '4588162', '1472225', '1472262', '1472298', '3910676', '3910695', '3910714', '2925750', '2925756', '2925761', '2625745', '2625746', '2625747', '1087798', '1087834', '1087870', '2571391', '2571398', '2571405', '2078891', '2078898', '2078904', '5037093', '5037096', '5037098', '267033', '267040', '267047', '5237617', '5237633', '5237649', '1362571', '1362586', '1362600', '1350494', '1350501', '1350507', '1122627', '1122632', '1122637', '2276394', '2276405', '2276416', '5858020', '5858061', '5858102', '3007392', '3007483', '3007574', '4416902', '4416993', '4417083', '2745604', '2745644', '2745683', '738360', '738480', '738600', '2493271', '2493273', '2493274', '928830', '928841', '928852', '3030014', '3030047', '3030080', '2624228', '2624229', '2624230', '3029645', '3029647', '3029649', '2838540', '2838662', '2838784', '1611287', '1611357', '1611426', '5321429', '5321490', '5321551', '4770991', '4771035', '4771079', '1432046', '1432056', '1432066', '5582841', '5582927', '5583012', '2932687', '2932692', '2932697', '2210748', '2210758', '2210768', '363823', '363865', '363906', '564264', '564281', '564298', '1340663', '1340679', '1340694', '878383', '878403', '878423', '2583117', '2583118', '2583119', '2589271', '2589278', '2589285', '5346620', '5346734', '5346847', '1771020', '1771028', '1771036', '2984551', '2984614', '2984677', '167484', '167536', '167587', '2520323', '2520356', '2520389', '2381081', '2381104', '2381126', '1519690', '1519790', '1519890', '3433864', '3433907', '3433949', '1672824', '1672859', '1672894', '3704892', '3704905', '3704918', '2567112', '2567113', '2567114', '844591', '844607', '844623', '2143944', '2143968', '2143992', '2595913', '2595914', '2595915', '2612453', '2612455', '2612456', '795704', '795739', '795774', '2927635', '2927669', '2927703', '1395009', '1395019', '1395029', '2602792', '2602800', '2602808', '3109806', '3109859', '3109911', '4265173', '4265230', '4265287', '5198633', '5198642', '5198651', '201858', '201873', '201887', '1817569', '1817599', '1817629', '1981769', '1981784', '1981798', '851325', '851331', '851336', '2986486', '2986492', '2986497', '4692524', '4692539', '4692553', '3038469', '3038521', '3038572', '1444846', '1444856', '1444866', '3710287', '3710300', '3710313', '4650839', '4650879', '4650919', '758362', '758373', '758384', '2585752', '2585754', '2585755', '3538987', '3539001', '3539014', '1557026', '1557042', '1557057', '5536912', '5536928', '5536943', '247919', '247936', '247952', '444829', '444850', '444870', '170647', '170655', '170662', '1442987', '1442992', '1442996', '3942254', '3942261', '3942267', '3809097', '3809122', '3809146', '2117551', '2117555', '2117559', '624462', '624542', '624621', '3697286', '3697316', '3697345', '4992702', '4992744', '4992786', '3003818', '3003880', '3003942', '4545287', '4545341', '4545395', '4966823', '4966889', '4966954', '1091479', '1091494', '1091509', '3044980', '3045045', '3045109', '5141211', '5141260', '5141308', '446187', '446197', '446207', '760887', '760916', '760945', '5027854', '5027860', '5027865', '480580', '480583', '480586', '3674638', '3674654', '3674669', '4467928', '4467943', '4467958', '1250867', '1250873', '1250878', '4887899', '4887981', '4888062', '1195932', '1196018', '1196103', '1377376', '1377383', '1377390', '2303137', '2303146', '2303154', '2631115', '2631133', '2631150', '3274501', '3274514', '3274527', '779219', '779255', '779290', '1486303', '1486323', '1486342', '2132299', '2132311', '2132322', '3757793', '3757842', '3757890', '822941', '823052', '823163', '1091742', '1091759', '1091776', '2085913', '2085942', '2085971', '4066027', '4066154', '4066280', '237221', '237233', '237244', '4716082', '4716122', '4716161', '1359080', '1359094', '1359108', '3902331', '3902365', '3902398', '5169503', '5169820', '5170136', '2937251', '2937260', '2937268', '4911226', '4911267', '4911308', '1964014', '1964034', '1964054', '2225197', '2225232', '2225267', '3902979', '3903007', '3903034', '5037134', '5037135', '5037136', '2314556', '2314606', '2314656', '4246969', '4247021', '4247072', '1040706', '1040758', '1040809', '4473054', '4473100', '4473145', '1477941', '1477951', '1477960', '3941550', '3941552', '3941554', '2288248', '2288258', '2288267', '186735', '186744', '186752', '2104994', '2104999', '2105003', '3906762', '3906781', '3906800', '881458', '881463', '881468', '3487625', '3487688', '3487750', '3763981', '3764056', '3764130', '853714', '853724', '853734', '2158725', '2158743', '2158761', '611762', '611802', '611841', '3455203', '3455225', '3455246', '3639659', '3639660', '3639661', '2885373', '2885439', '2885504', '5367336', '5367345', '5367354', '2230710', '2230727', '2230743', '5310433', '5310460', '5310487', '4616506', '4616561', '4616615', '5673845', '5673861', '5673877', '2958456', '2958458', '2958460', '3851053', '3851080', '3851106', '1057363', '1057384', '1057404', '1491915', '1491953', '1491990', '1100295', '1100306', '1100316', '3437563', '3437594', '3437624', '865546', '865565', '865583', '1119785', '1119791', '1119796', '3767960', '3767989', '3768017', '1438038', '1438070', '1438102', '3219769', '3219829', '3219889', '846291', '846294', '846296', '3601999', '3602058', '3602116', '275583', '275586', '275588', '763418', '763434', '763450', '1119934', '1119944', '1119953', '2595184', '2595185', '2595186', '2070954', '2071020', '2071086', '73104', '73161', '73217', '3912429', '3912448', '3912466', '1925338', '1925452', '1925565', '2595550', '2595551', '2595552', '1440679', '1440700', '1440721', '1070436', '1070521', '1070605', '2595678', '2595698', '2595718', '4039677', '4039678', '4039679', '3748546', '3748648', '3748749', '5397914', '5397991', '5398068', '467222', '467280', '467337', '1440317', '1440341', '1440364', '2262377', '2262459', '2262540', '4116319', '4116399', '4116478', '2631073', '2631094', '2631114', '3430794', '3430796', '3430798', '5563881', '5563907', '5563932', '1422046', '1422053', '1422060', '1027741', '1027745', '1027748', '5291502', '5291525', '5291547', '3620531', '3620532', '3620533', '1548230', '1548245', '1548260', '3403624', '3403674', '3403724', '786109', '786146', '786182', '2215201', '2215283', '2215365', '1002195', '1002253', '1002310', '121913', '121920', '121927', '4423596', '4423669', '4423742', '4718452', '4718483', '4718513', '1211904', '1211930', '1211955', '1856606', '1856665', '1856723', '3747553', '3747593', '3747633', '3561601', '3561655', '3561709', '669612', '669662', '669712', '866076', '866105', '866134', '3288293', '3288395', '3288497', '3480823', '3480851', '3480879', '1655074', '1655111', '1655147', '3991801', '3991806', '3991811', '217669', '217676', '217683', '2914000', '2914002', '2914004', '3120918', '3120924', '3120930', '9386', '9400', '9414', '2131296', '2131312', '2131327', '5014138', '5014139', '5014140', '5614183', '5614193', '5614202', '2552028', '2552029', '2552030', '1929552', '1929566', '1929579', '502140', '502159', '502178', '1229765', '1229774', '1229783', '446682', '446718', '446753', '3115944', '3115991', '3116037', '1225438', '1225470', '1225502', '2420250', '2420251', '2420252', '3470947', '3470992', '3471036', '1091561', '1091573', '1091584', '5564431', '5564442', '5564452', '4219079', '4219109', '4219138', '257014', '257020', '257026', '744806', '744840', '744873', '433731', '433743', '433754', '3410646', '3410721', '3410795', '465337', '465342', '465347', '1217677', '1217683', '1217689', '2580342', '2580345', '2580347', '501199', '501223', '501247', '2135665', '2135683', '2135701', '3606204', '3606286', '3606367', '5054150', '5054182', '5054214', '441291', '441300', '441309', '1771626', '1771627', '1771628', '5760059', '5760092', '5760124', '855268', '855417', '855566', '3010937', '3010938', '3010939', '1676425', '1676459', '1676493', '3116204', '3116210', '3116215', '103939', '104024', '104109', '536501', '536544', '536587', '1187422', '1187427', '1187431', '5034393', '5034397', '5034400', '3760539', '3760636', '3760733', '261631', '261638', '261645', '1376764', '1376777', '1376789', '2612864', '2612865', '2612866', '1341826', '1341840', '1341854', '2609962', '2609964', '2609966', '2962241', '2962249', '2962257', '2920514', '2920557', '2920599', '5782775', '5782846', '5782916', '766179', '766200', '766221', '2621007', '2621009', '2621011', '2624297', '2624298', '2624299', '921249', '921275', '921300', '1420736', '1420745', '1420754', '5329172', '5329270', '5329367', '3303383', '3303392', '3303401', '270257', '270264', '270270', '4158387', '4158444', '4158501', '3187415', '3187435', '3187455', '206469', '206475', '206480', '2904182', '2904207', '2904231', '5709317', '5709371', '5709424', '7927', '7946', '7965', '4041024', '4041133', '4041242', '4714306', '4714352', '4714397', '2693378', '2693389', '2693400', '3555337', '3555350', '3555363', '3280501', '3280516', '3280530', '4305567', '4305582', '4305597', '3977559', '3977560', '3977561', '1189984', '1189990', '1189996', '2440499', '2440510', '2440521', '1192453', '1192475', '1192497', '922756', '922766', '922775', '3664102', '3664162', '3664221', '5721269', '5721284', '5721299', '4064249', '4064294', '4064339', '1381615', '1381627', '1381638', '5803890', '5803974', '5804058', '2127965', '2127985', '2128005', '2604193', '2604196', '2604199', '2957743', '2957749', '2957754', '4111395', '4111460', '4111524', '2962822', '2962837', '2962851', '508709', '508711', '508713', '5701724', '5701759', '5701794', '260693', '260694', '260695', '526097', '526104', '526111', '2547681', '2547704', '2547726', '1409555', '1409565', '1409574', '5520017', '5520050', '5520083', '3789787', '3789823', '3789858', '3081854', '3081859', '3081864', '858201', '858278', '858355', '2611194', '2611195', '2611196', '163269', '163275', '163281', '1125037', '1125090', '1125142', '2196425', '2196491', '2196556', '1412418', '1412429', '1412439', '3996281', '3996289', '3996296', '4674335', '4674352', '4674368', '3977295', '3977303', '3977310', '3177069', '3177142', '3177215', '3291645', '3291684', '3291723', '3128086', '3128148', '3128210', '5194412', '5194438', '5194463', '5195361', '5195388', '5195414', '587790', '587819', '587847', '446589', '446597', '446604', '1768817', '1768824', '1768830', '875398', '875459', '875519', '2625833', '2625847', '2625860', '1268545', '1268598', '1268650', '3043070', '3043091', '3043111', '1194286', '1194317', '1194348', '1382028', '1382044', '1382059', '5353582', '5353642', '5353702', '2614035', '2614045', '2614054', '5564798', '5564814', '5564829', '2578108', '2578109', '2578110', '4901563', '4901600', '4901637', '1185992', '1186022', '1186051', '1942426', '1942438', '1942449', '2299062', '2299069', '2299076', '312515', '312528', '312540', '2717507', '2717523', '2717538', '5434861', '5434939', '5435016', '279814', '279818', '279821', '5240321', '5240398', '5240474', '1549300', '1549318', '1549335', '1208546', '1208573', '1208600', '1097299', '1097312', '1097324', '165647', '165662', '165676', '5096340', '5096382', '5096423', '2670081', '2670239', '2670396', '642351', '642363', '642375', '5011282', '5011285', '5011287', '4578441', '4578457', '4578472', '873427', '873435', '873442', '3954471', '3954472', '3954473', '5219799', '5219836', '5219873', '3023018', '3023020', '3023021', '258566', '258580', '258593', '3558366', '3558384', '3558401', '1929272', '1929304', '1929336', '912434', '912467', '912499', '2700704', '2700728', '2700751', '1257782', '1257847', '1257912', '5041348', '5041364', '5041379', '2390530', '2390568', '2390606', '2456606', '2456733', '2456860', '5108889', '5108891', '5108892', '5031635', '5031637', '5031638', '899130', '899220', '899309', '1100587', '1100612', '1100637', '5256090', '5256131', '5256171', '1795857', '1795859', '1795861', '1366543', '1366556', '1366569', '2144583', '2144608', '2144632', '1732739', '1732830', '1732920', '3041080', '3041085', '3041089', '5849910', '5849948', '5849985', '2368686', '2368695', '2368704', '2455214', '2455232', '2455250', '4533949', '4534051', '4534152', '1055235', '1055245', '1055255', '5552616', '5552675', '5552733', '409996', '410054', '410111', '1106865', '1106976', '1107087', '4514848', '4514849', '4514850', '5296513', '5296557', '5296600', '5119052', '5119088', '5119124', '443336', '443348', '443359', '3214013', '3214029', '3214044', '1432030', '1432038', '1432045', '3470045', '3470063', '3470081', '2572971', '2572972', '2572973', '758769', '758828', '758886', '397491', '397524', '397556', '3312032', '3312054', '3312075', '5149782', '5149845', '5149908', '1520733', '1520761', '1520789', '4946908', '4946924', '4946939', '3303254', '3303275', '3303295', '904880', '904887', '904893', '3659607', '3659636', '3659665', '2585685', '2585687', '2585689', '1380182', '1380200', '1380217', '2337604', '2337623', '2337641', '3637363', '3637375', '3637386', '2783144', '2783178', '2783211', '603151', '603176', '603200', '3629242', '3629262', '3629281', '3514261', '3514322', '3514383', '2350469', '2350470', '2350471', '2701750', '2701759', '2701768', '2614627', '2614632', '2614636', '1392701', '1392722', '1392743', '2570882', '2570883', '2570884', '272912', '272913', '272914', '4408386', '4408442', '4408497', '2593903', '2593905', '2593906', '2384100', '2384106', '2384111', '855695', '855828', '855960', '2934591', '2934593', '2934594', '2899940', '2900007', '2900074', '1146416', '1146526', '1146636', '3369138', '3369173', '3369207', '520249', '520256', '520263', '2571124', '2571125', '2571126', '2736595', '2736606', '2736616', '1380218', '1380227', '1380235', '466636', '466639', '466642', '2489125', '2489150', '2489175', '3184950', '3185007', '3185063', '4457499', '4457522', '4457544', '1419644', '1419655', '1419665', '681657', '681719', '681781', '2332781', '2332829', '2332876', '2568825', '2568826', '2568827', '2269700', '2269831', '2269962', '3847154', '3847183', '3847212', '1147170', '1147215', '1147259', '2108630', '2108638', '2108646', '114267', '114300', '114332', '86053', '86095', '86136', '766764', '766794', '766824', '881482', '881499', '881515', '170228', '170237', '170245', '238250', '238285', '238319', '2183154', '2183178', '2183202', '2092978', '2093173', '2093367', '3163022', '3163113', '3163204', '2077744', '2077809', '2077874', '2289915', '2289933', '2289951', '675257', '675271', '675285', '2618165', '2618176', '2618187', '157192', '157202', '157211', '168667', '168675', '168683', '2192224', '2192254', '2192283', '3135597', '3135605', '3135613', '272818', '272820', '272821', '618514', '618524', '618533', '3469751', '3469756', '3469761', '3942208', '3942213', '3942217', '2387143', '2387154', '2387165', '4215377', '4215436', '4215494', '3126920', '3126921', '3126922', '2562536', '2562553', '2562569', '1774206', '1774207', '1774208', '898436', '898461', '898486', '1854255', '1854333', '1854410', '5879079', '5879094', '5879109', '1190026', '1190044', '1190061', '2335517', '2335567', '2335616', '2938068', '2938079', '2938089', '2801122', '2801183', '2801244', '5252561', '5252628', '5252694', '5038047', '5038061', '5038074', '2079950', '2080243', '2080535', '810468', '810540', '810612', '1686459', '1686483', '1686506', '2593226', '2593239', '2593251', '1427415', '1427423', '1427431', '5837880', '5837909', '5837937', '676288', '676400', '676511', '1526359', '1526399', '1526438', '1149223', '1149248', '1149273', '2078905', '2078911', '2078917', '2552241', '2552270', '2552298', '1204971', '1204979', '1204987', '3189975', '3189983', '3189990', '2828836', '2828922', '2829008', '1295907', '1295956', '1296005', '5065428', '5065465', '5065502', '3997308', '3997310', '3997311', '5011512', '5011514', '5011516', '2571415', '2571416', '2571417', '3150680', '3150779', '3150877', '19959', '19970', '19980', '2612754', '2612756', '2612758', '2991338', '2991361', '2991383', '866840', '866885', '866929', '250648', '250674', '250700', '452249', '452261', '452272', '3284714', '3284754', '3284793', '3186716', '3186793', '3186870', '2266003', '2266043', '2266083', '1414837', '1414854', '1414871', '380439', '380450', '380460', '5338256', '5338299', '5338342', '207223', '207229', '207235', '2576455', '2576456', '2576457', '2482018', '2482065', '2482112', '4040964', '4040965', '4040966', '2608725', '2608730', '2608734', '3931836', '3931865', '3931893', '3518123', '3518151', '3518178', '904269', '904279', '904289', '1772787', '1772788', '1772789', '298382', '298397', '298412', '4554136', '4554170', '4554204', '4215310', '4215343', '4215376', '5030917', '5030918', '5030919', '496317', '496336', '496354', '5235473', '5235486', '5235499', '4947405', '4947505', '4947605', '2581041', '2581042', '2581043', '490481', '490596', '490710', '820778', '820827', '820876', '206804', '206813', '206821', '2622839', '2622842', '2622844', '1885409', '1885460', '1885510', '3135614', '3135622', '3135630', '5193700', '5193712', '5193723', '1009760', '1009861', '1009962', '5629901', '5630028', '5630155', '4535311', '4535472', '4535632', '1305726', '1305765', '1305803', '3055860', '3055898', '3055935', '1455536', '1455540', '1455543', '5002134', '5002193', '5002252', '2508966', '2508986', '2509005', '2163027', '2163036', '2163044', '4271861', '4271914', '4271966', '1443871', '1443883', '1443894', '2351322', '2351364', '2351405', '1644592', '1644660', '1644728', '1182876', '1183064', '1183251', '2558892', '2558944', '2558995', '3556315', '3556341', '3556367', '851735', '851760', '851784', '5200206', '5200214', '5200222', '1770829', '1770830', '1770831', '3046974', '3047023', '3047071', '1628825', '1629126', '1629427', '3331243', '3331287', '3331330', '261164', '261174', '261184', '1441463', '1441477', '1441490', '4316781', '4316827', '4316873', '3997749', '3997752', '3997754', '2384258', '2384288', '2384318', '2419999', '2420002', '2420004', '2738473', '2738486', '2738498', '2571596', '2571597', '2571598', '4299213', '4299256', '4299298', '5506405', '5506464', '5506523', '273009', '273011', '273013', '5766285', '5766358', '5766430', '113405', '113428', '113450', '3701816', '3701838', '3701860', '4592673', '4592753', '4592832', '3074321', '3074328', '3074334', '1083006', '1083039', '1083072', '5061850', '5061879', '5061908', '2155997', '2156020', '2156043', '4992111', '4992171', '4992231', '1416497', '1416511', '1416525', '560210', '560234', '560257', '213418', '213426', '213434', '5187982', '5188010', '5188037', '3317852', '3317877', '3317901', '2332941', '2332985', '2333029', '2490783', '2490840', '2490896', '4392030', '4392112', '4392194', '4035896', '4035897', '4035898', '884347', '884355', '884362', '5757358', '5757441', '5757523', '2127295', '2127387', '2127478', '5021216', '5021218', '5021219', '1001663', '1001684', '1001705', '1397115', '1397125', '1397134', '1825764', '1825784', '1825803', '3820767', '3820795', '3820823', '1697805', '1697841', '1697876', '910365', '910422', '910478', '5330868', '5330945', '5331021', '2599005', '2599007', '2599008', '5264606', '5264729', '5264851', '487756', '487787', '487817', '1548405', '1548418', '1548430', '1904357', '1904429', '1904500', '4328370', '4328411', '4328451', '3880757', '3880824', '3880890', '5759262', '5759348', '5759434', '1418794', '1418810', '1418826', '492517', '492554', '492591', '3295256', '3295282', '3295308', '5363099', '5363137', '5363175', '1880562', '1880577', '1880592', '1772150', '1772152', '1772153', '3716031', '3716095', '3716158', '1382198', '1382212', '1382226', '5210911', '5210918', '5210925', '4506439', '4506591', '4506742', '1355583', '1355597', '1355611', '1983951', '1983970', '1983988', '5024031', '5024034', '5024036', '738686', '738811', '738936', '5593125', '5593165', '5593204', '1431233', '1431241', '1431248', '1314724', '1314759', '1314794', '5598151', '5598189', '5598227', '1343077', '1343087', '1343096', '5409332', '5409399', '5409465', '3937998', '3938044', '3938090', '3559562', '3559563', '3559564', '1840401', '1840449', '1840496', '5008237', '5008239', '5008240', '3915419', '3915443', '3915466', '462658', '462761', '462864', '1241907', '1241911', '1241915', '710809', '710821', '710833', '4322686', '4322733', '4322779', '1723949', '1723977', '1724005', '4299589', '4299667', '4299744', '4028780', '4028782', '4028783', '243244', '243260', '243275', '3428282', '3428311', '3428340', '2589688', '2589694', '2589699', '1172206', '1172225', '1172243', '1729416', '1729447', '1729478', '3145211', '3145225', '3145239', '1427746', '1427756', '1427766', '2604643', '2604650', '2604656', '2596357', '2596395', '2596432', '194677', '194694', '194710', '262338', '262339', '262340', '4927005', '4927041', '4927077', '1114891', '1114902', '1114912', '727103', '727156', '727209', '3947281', '3947317', '3947353', '5083893', '5083913', '5083933', '3808120', '3808139', '3808157', '437046', '437047', '437047', '5603940', '5604060', '5604179', '2779450', '2779525', '2779600', '4780819', '4780852', '4780884', '5605158', '5605237', '5605315', '4086393', '4086449', '4086505', '2430827', '2430867', '2430906', '2865939', '2865986', '2866033', '515075', '515090', '515104', '5869917', '5869922', '5869927', '5498767', '5498855', '5498943', '678550', '678583', '678615', '4554332', '4554351', '4554370', '1657884', '1657969', '1658053', '5438487', '5438531', '5438574', '3890197', '3890218', '3890238', '2729685', '2729705', '2729725', '4098800', '4098802', '4098804', '3405666', '3405695', '3405724', '263217', '263218', '263219', '1964126', '1964136', '1964146', '2488980', '2488986', '2488991', '1472593', '1472629', '1472665', '4882924', '4883019', '4883113', '94507', '94578', '94649', '4247541', '4247577', '4247613', '3511614', '3511636', '3511658', '5546501', '5546642', '5546783', '3054277', '3054301', '3054324', '1262531', '1262595', '1262658', '480399', '480401', '480402', '4526014', '4526109', '4526204', '1992604', '1992802', '1992999', '2251402', '2251458', '2251513', '3817779', '3817836', '3817893', '5144352', '5144381', '5144410', '1474069', '1474075', '1474081', '3157854', '3157856', '3157857', '1258486', '1258526', '1258566', '3115473', '3115480', '3115487', '567430', '567445', '567460', '1774529', '1774533', '1774536', '1131336', '1131364', '1131392', '975444', '975467', '975490', '113961', '114000', '114039', '2554319', '2554326', '2554333', '4038006', '4038007', '4038008', '2573836', '2573837', '2573838', '924731', '924765', '924798', '2413906', '2413921', '2413935', '3952472', '3952478', '3952484', '1122541', '1122560', '1122579', '549762', '549814', '549865', '3516733', '3516749', '3516764', '5299819', '5299886', '5299953', '3672553', '3672575', '3672597', '3157584', '3157719', '3157853', '4819835', '4819884', '4819932', '3992224', '3992227', '3992229', '2491093', '2491104', '2491114', '2210229', '2210245', '2210261', '1440500', '1440520', '1440540', '480625', '480631', '480637', '4889721', '4889747', '4889773', '3139142', '3139145', '3139147', '2636712', '2636728', '2636744', '2788829', '2788901', '2788972', '2681006', '2681029', '2681052', '1985506', '1985530', '1985553', '1101955', '1101978', '1102000', '2566121', '2566126', '2566131', '3956437', '3956439', '3956441', '534831', '534891', '534950', '1221184', '1221288', '1221391', '5217438', '5217479', '5217520', '479328', '479329', '479330', '4755945', '4756085', '4756225', '3926393', '3926497', '3926601', '1197128', '1197187', '1197245', '3601150', '3601173', '3601195', '2566565', '2566567', '2566569', '3688781', '3688796', '3688810', '5208900', '5208964', '5209028', '2441385', '2441479', '2441573', '3062369', '3062440', '3062511', '1482843', '1482852', '1482860', '1731567', '1731638', '1731709', '4348376', '4348471', '4348565', '2351485', '2351518', '2351550', '273921', '273923', '273924', '861179', '861193', '861206', '5166430', '5166456', '5166481', '571109', '571121', '571132', '2406267', '2406281', '2406294', '1050360', '1050375', '1050390', '3460570', '3460571', '3460572', '4395736', '4395768', '4395800', '1986129', '1986143', '1986157', '1097239', '1097242', '1097245', '2345436', '2345446', '2345456', '5708422', '5708464', '5708506', '5572296', '5572361', '5572425', '2394078', '2394079', '2394080', '3954082', '3954083', '3954084', '422246', '422283', '422319', '1338597', '1338605', '1338613', '2831056', '2831084', '2831111', '307341', '307354', '307367', '3282595', '3282614', '3282632', '2280645', '2280714', '2280783', '3849857', '3849896', '3849934', '329819', '329875', '329931', '2924344', '2924351', '2924357', '4544595', '4544724', '4544852', '5152838', '5152892', '5152945', '3669004', '3669034', '3669064', '922930', '922952', '922973', '844624', '844679', '844733', '1449616', '1449621', '1449626', '5131441', '5131467', '5131493', '2338832', '2338854', '2338876', '2957542', '2957549', '2957555', '2624470', '2624471', '2624472', '1207759', '1207767', '1207775', '4617074', '4617111', '4617147', '1096880', '1096897', '1096913', '308463', '308491', '308519', '3522431', '3522532', '3522633', '3211485', '3211537', '3211588', '3642086', '3642101', '3642115', '1342664', '1342672', '1342680', '4047836', '4047869', '4047902', '4172967', '4173019', '4173071', '2567823', '2567825', '2567826', '388386', '388388', '388389', '1421519', '1421531', '1421543', '5803134', '5803154', '5803174', '586308', '586322', '586335', '5867415', '5867422', '5867428', '451941', '451983', '452025', '1221420', '1221424', '1221427', '205597', '205605', '205613', '2885731', '2885792', '2885853', '3904058', '3904075', '3904091', '5027490', '5027492', '5027494', '2605826', '2605827', '2605828', '4994693', '4994748', '4994803', '3154912', '3154913', '3154914', '303011', '303096', '303181', '2273953', '2273978', '2274003', '2177576', '2177581', '2177586', '781375', '781388', '781401', '1974536', '1974561', '1974585', '369769', '369818', '369867', '969071', '969105', '969139', '3733795', '3733811', '3733826', '5837634', '5837648', '5837662', '5530055', '5530138', '5530221', '217381', '217398', '217415', '1226781', '1226792', '1226802', '4211812', '4211864', '4211915', '268520', '268521', '268522', '4038251', '4038257', '4038263', '3757358', '3757398', '3757437', '2625068', '2625069', '2625070', '910977', '911104', '911231', '2933463', '2933496', '2933529', '1802978', '1803115', '1803251', '1471978', '1471990', '1472001', '2622949', '2622951', '2622952', '3759197', '3759276', '3759354', '520442', '520465', '520488', '89109', '89219', '89329', '5841536', '5841552', '5841567', '5129765', '5129783', '5129801', '924148', '924157', '924166', '1347697', '1347710', '1347723', '1771069', '1771072', '1771074', '4358767', '4358810', '4358853', '922974', '922984', '922993', '5418968', '5419123', '5419277', '2702124', '2702150', '2702176', '5752569', '5752645', '5752720', '4412522', '4412582', '4412641', '268376', '268378', '268379', '3930501', '3930524', '3930547', '5673162', '5673183', '5673204', '485640', '485740', '485840', '562254', '562322', '562389', '1730789', '1730836', '1730883', '3431828', '3431830', '3431831', '4391405', '4391416', '4391427', '1407299', '1407310', '1407321', '1350298', '1350310', '1350321', '3043315', '3043317', '3043318', '2133400', '2133414', '2133428', '1414327', '1414347', '1414366', '5872909', '5872913', '5872916', '3296598', '3296608', '3296618', '1378936', '1378951', '1378966', '2962281', '2962306', '2962330', '2325305', '2325308', '2325311', '1360495', '1360513', '1360530', '1042565', '1042635', '1042705', '2667640', '2667658', '2667675', '1572059', '1572205', '1572350', '3650956', '3651030', '3651104', '3647402', '3647404', '3647406', '5882000', '5882070', '5882139', '177420', '177437', '177454', '2613528', '2613554', '2613579', '3567686', '3567727', '3567767', '3254042', '3254112', '3254182', '515643', '515648', '515653', '5299245', '5299304', '5299363', '1119669', '1119673', '1119676', '3013680', '3013682', '3013683', '16940', '16947', '16953', '27459', '27566', '27672', '124527', '124590', '124652', '1489437', '1489449', '1489460', '2571469', '2571470', '2571471', '2362317', '2362338', '2362359', '852061', '852076', '852090', '1400427', '1400443', '1400459', '775708', '775754', '775800', '811753', '811799', '811845', '4406054', '4406111', '4406168', '1930461', '1930497', '1930532', '5035886', '5035888', '5035889', '790123', '790135', '790147', '707337', '707353', '707368', '5658934', '5658994', '5659054', '4454991', '4455048', '4455104', '2500414', '2500430', '2500446', '5204624', '5204675', '5204725', '446480', '446485', '446490', '673084', '673213', '673341', '711332', '711348', '711363', '2347247', '2347262', '2347277', '5813659', '5813727', '5813795', '2607180', '2607184', '2607188', '4016080', '4016183', '4016286', '5736154', '5736196', '5736238', '5015236', '5015237', '5015238', '2293783', '2293792', '2293800', '4007504', '4007509', '4007513', '3668257', '3668278', '3668298', '3710016', '3710037', '3710058', '3647138', '3647150', '3647161', '181491', '181497', '181502', '1770375', '1770376', '1770377', '2593807', '2593808', '2593809', '5024157', '5024167', '5024177', '1489680', '1489687', '1489694', '568010', '568054', '568098', '4962820', '4962864', '4962907', '1769056', '1769058', '1769060', '3165281', '3165289', '3165296', '3958577', '3958579', '3958580', '3669219', '3669226', '3669232', '5080903', '5080918', '5080933', '3505462', '3505491', '3505520', '122995', '123030', '123065', '711539', '711581', '711623', '2503951', '2503973', '2503994', '5734453', '5734479', '5734504', '1545844', '1545943', '1546041', '4340218', '4340262', '4340305', '610513', '610519', '610524', '5019055', '5019071', '5019086', '4776057', '4776168', '4776278', '2675991', '2676004', '2676016', '5875127', '5875137', '5875147', '2219245', '2219292', '2219339', '2410810', '2410818', '2410825', '2849811', '2849825', '2849838', '1444324', '1444456', '1444588', '1076712', '1076719', '1076726', '5466452', '5466539', '5466626', '3996611', '3996615', '3996618', '2140123', '2140213', '2140303', '4661809', '4661829', '4661848', '316162', '316166', '316170', '5191478', '5191480', '5191481', '744164', '744179', '744194', '1942767', '1942779', '1942791', '5796836', '5796902', '5796967', '1679089', '1679166', '1679242', '256614', '256634', '256653', '2330036', '2330090', '2330143', '237398', '237418', '237437', '4087225', '4087261', '4087296', '3779943', '3780047', '3780151', '3999626', '3999648', '3999670', '4592331', '4592399', '4592467', '5839100', '5839161', '5839221', '4267922', '4267969', '4268016', '687382', '687431', '687480', '2568579', '2568580', '2568581', '555010', '555062', '555113', '3029385', '3029386', '3029387', '887832', '887850', '887867', '5638839', '5638890', '5638941', '2125678', '2125685', '2125691', '2553667', '2553704', '2553741', '3941870', '3941887', '3941904', '2537828', '2537845', '2537862', '4741589', '4741620', '4741651', '944544', '944572', '944599', '1373272', '1373283', '1373294', '4782513', '4782515', '4782516', '1163245', '1163263', '1163280', '4812449', '4812473', '4812496', '1628010', '1628081', '1628151', '5217087', '5217103', '5217119', '4534938', '4534955', '4534972', '4426986', '4427023', '4427059', '437001', '437021', '437040', '1998445', '1998545', '1998644', '4021656', '4021792', '4021928', '263064', '263066', '263067', '874094', '874103', '874111', '2033260', '2033296', '2033331', '3544479', '3544558', '3544636', '3807279', '3807306', '3807333', '1890679', '1890748', '1890817', '665956', '666040', '666123', '319233', '319248', '319263', '4028910', '4028916', '4028922', '5011465', '5011466', '5011467', '1943878', '1943889', '1943899', '461417', '461422', '461426', '2771460', '2771496', '2771532', '3439105', '3439260', '3439415', '4216988', '4217005', '4217022', '2751185', '2751228', '2751270', '1521024', '1521034', '1521043', '198309', '198317', '198325']\n"
     ]
    },
    {
     "name": "stderr",
     "output_type": "stream",
     "text": [
      "\n"
     ]
    }
   ],
   "source": [
    "train_id = get_indices(train)\n",
    "test_id = get_indices(test)\n",
    "val_id = get_indices(val)"
   ]
  },
  {
   "cell_type": "code",
   "execution_count": 155,
   "metadata": {},
   "outputs": [
    {
     "name": "stdout",
     "output_type": "stream",
     "text": [
      "Train samples: 234297, Test samples: 13017, Test samples: 13017\n"
     ]
    }
   ],
   "source": [
    "print(\"Train samples: {}, Test samples: {}, Test samples: {}\".format(len(train_id), len(test_id), len(val_id)))"
   ]
  },
  {
   "cell_type": "code",
   "execution_count": 160,
   "metadata": {},
   "outputs": [],
   "source": [
    "train_id = np.array(train_id, dtype = int)\n",
    "test_id = np.array(test_id, dtype = int)\n",
    "val_id = np.array(val_id, dtype = int)"
   ]
  },
  {
   "attachments": {},
   "cell_type": "markdown",
   "metadata": {},
   "source": [
    "#### Separate the data"
   ]
  },
  {
   "cell_type": "code",
   "execution_count": 164,
   "metadata": {},
   "outputs": [
    {
     "name": "stdout",
     "output_type": "stream",
     "text": [
      "(234297, 3, 3)\n"
     ]
    }
   ],
   "source": [
    "energy_train = energy_arr[train_id]\n",
    "force_train = forces_arr[train_id]\n",
    "stress_train = stress_arr[train_id]\n",
    "\n",
    "\n",
    "energy_test = energy_arr[test_id]\n",
    "force_test = forces_arr[test_id]\n",
    "stress_test = stress_arr[test_id]\n",
    "\n",
    "\n",
    "energy_val = energy_arr[val_id]\n",
    "force_val = forces_arr[val_id]\n",
    "stress_val = stress_arr[val_id]"
   ]
  },
  {
   "attachments": {},
   "cell_type": "markdown",
   "metadata": {},
   "source": [
    "#### Save the arrays"
   ]
  },
  {
   "cell_type": "code",
   "execution_count": 165,
   "metadata": {},
   "outputs": [],
   "source": [
    "np.save(\"energy_train.npy\", energy_train)\n",
    "np.save(\"force_train.npy\", force_train)\n",
    "np.save(\"stress_train.npy\", stress_train)\n",
    "\n",
    "np.save(\"energy_test.npy\", energy_test)\n",
    "np.save(\"force_test.npy\", force_test)\n",
    "np.save(\"stress_test.npy\", stress_test)\n",
    "\n",
    "np.save(\"energy_val.npy\", energy_val)\n",
    "np.save(\"force_val.npy\", force_val)\n",
    "np.save(\"stress_val.npy\", stress_val)"
   ]
  },
  {
   "attachments": {},
   "cell_type": "markdown",
   "metadata": {},
   "source": [
    "#### Find outliers"
   ]
  },
  {
   "cell_type": "code",
   "execution_count": null,
   "metadata": {},
   "outputs": [],
   "source": [
    "energy_arr = np.array(energy_arr)"
   ]
  },
  {
   "cell_type": "code",
   "execution_count": null,
   "metadata": {},
   "outputs": [],
   "source": [
    "id_outliers_bottom = np.where(energy_arr > 0.0)[0]\n",
    "id_outliers_top = np.where(energy_arr < -150)[0]\n",
    "\n",
    "\n",
    "energy_outliers = np.concatenate((id_outliers_bottom, id_outliers_top))\n",
    "\n",
    "print(id_outliers_bottom)\n",
    "print(id_outliers_top)\n",
    "print(energy_outliers)\n",
    "\n",
    "\n",
    "print(energy_outliers[0])\n",
    "energy_name = id_run[\"{}\".format(energy_outliers[0])]\n",
    "\n",
    "\n",
    "outlier_energy_names = set([id_run[\"{}\".format(x)] for x in tqdm(energy_outliers)])\n",
    "print(outlier_energy_names)\n",
    "\n",
    "# outlier_energy_name = set([x for x in energy_outliers])\n",
    "\n",
    "\n",
    "# print(energy_arr[317573])"
   ]
  },
  {
   "cell_type": "code",
   "execution_count": null,
   "metadata": {},
   "outputs": [],
   "source": [
    "print(np.shape(outlier_energy_names)) "
   ]
  },
  {
   "cell_type": "code",
   "execution_count": null,
   "metadata": {},
   "outputs": [],
   "source": [
    "# set_test = [id_run[\"{}\".format(x)] for x in tqdm(energy_outliers[0:200])]\n",
    "# set_test = [x for x in tqdm(energy_outliers[:200])]\n",
    "set_test = [id_run[\"{}\".format(x)] for x in tqdm(energy_outliers)]"
   ]
  },
  {
   "cell_type": "code",
   "execution_count": null,
   "metadata": {},
   "outputs": [],
   "source": [
    "set_test = list(set(set_test))"
   ]
  },
  {
   "attachments": {},
   "cell_type": "markdown",
   "metadata": {},
   "source": [
    "# Archive"
   ]
  },
  {
   "attachments": {},
   "cell_type": "markdown",
   "metadata": {},
   "source": [
    "### Other stuff"
   ]
  },
  {
   "cell_type": "code",
   "execution_count": null,
   "metadata": {},
   "outputs": [],
   "source": [
    "stress_arr_cut = stress_arr[id_outlier, :, :]\n",
    "print(np.shape(stress_arr_cut))"
   ]
  },
  {
   "cell_type": "code",
   "execution_count": null,
   "metadata": {},
   "outputs": [],
   "source": [
    "np.max(energy_arr_cut)"
   ]
  },
  {
   "attachments": {},
   "cell_type": "markdown",
   "metadata": {},
   "source": [
    "## Unit Convention"
   ]
  },
  {
   "attachments": {},
   "cell_type": "markdown",
   "metadata": {},
   "source": [
    "Energy: eV\n",
    "Force: eV/Angstrom\n",
    "Stress: technically eV/Angstrom^2 but are something kbar from VASP"
   ]
  },
  {
   "cell_type": "code",
   "execution_count": null,
   "metadata": {},
   "outputs": [],
   "source": [
    "def histogram2d_stress_energy(energy_arr_cut, stress_arr_cut, component, bin, stress_lim):\n",
    "\n",
    "    stress_arr_cut_comp = stress_arr_cut[:, component[0], component[1]]\n",
    "\n",
    "    switcher = {\n",
    "        0: \"x\",\n",
    "        1: \"y\",\n",
    "        2: \"z\"\n",
    "    }\n",
    "\n",
    "    axis_1 = switcher.get(component[0], \"nothing\")\n",
    "    axis_2 = switcher.get(component[1], \"nothing\")\n",
    "\n",
    "    print('Chosen component: {}'.format(axis_1 + axis_2))\n",
    "    plt.hist2d(energy_arr_cut, stress_arr_cut_comp, bins = bin)\n",
    "    plt.xlabel(\"Energy\")\n",
    "    plt.ylabel(\"Stress_{}\".format(axis_1 + axis_2))\n",
    "    plt.ylim(stress_lim[0],stress_lim[1])\n",
    "    plt.savefig(\"Figures/energy_stress_{}_hist.pdf\".format(axis_1 + axis_2))"
   ]
  },
  {
   "cell_type": "code",
   "execution_count": null,
   "metadata": {},
   "outputs": [],
   "source": [
    "def scatter_hist(x, y, ax, ax_histx, ax_histy):\n",
    "    # no labels\n",
    "    ax_histx.tick_params(axis=\"x\", labelbottom=False)\n",
    "    ax_histy.tick_params(axis=\"y\", labelleft=False)\n",
    "\n",
    "    # the scatter plot:\n",
    "    ax.scatter(x, y, s = 1)\n",
    "    sns.kdeplot(x=x, y=y, levels=5, color=\"w\", linewidths=1, ax = ax)\n",
    "\n",
    "    # now determine nice limits by hand:\n",
    "    binwidth = 0.25\n",
    "    xymax = max(np.max(np.abs(x)), np.max(np.abs(y)))\n",
    "    lim = (int(xymax/binwidth) + 1) * binwidth\n",
    "\n",
    "    bins = np.arange(-lim, lim + binwidth, binwidth)\n",
    "    ax_histx.hist(x, bins=bins)\n",
    "    ax_histy.hist(y, bins=bins, orientation='horizontal')"
   ]
  },
  {
   "cell_type": "code",
   "execution_count": null,
   "metadata": {},
   "outputs": [],
   "source": [
    "np.max(stress_arr_cut_complete)"
   ]
  },
  {
   "cell_type": "code",
   "execution_count": null,
   "metadata": {},
   "outputs": [],
   "source": [
    "\n",
    "g = sns.jointplot(x=energy_arr_cut_complete, y=stress_arr_cut_complete, kind=\"kde\", color=\"#4CB391\", bins=25)\n",
    "g.ax_joint.set_ylim([-5,5]) \n",
    "# g.ax_joint.set_xscale('log')\n",
    "# g.ax_joint.set_yscale('log')"
   ]
  },
  {
   "cell_type": "code",
   "execution_count": null,
   "metadata": {},
   "outputs": [],
   "source": [
    "\n",
    "# # plt.set_yscale('log')\n",
    "# plt.yscale('log')\n",
    "# sns.jointplot(x=energy_arr_cut_complete, y=stress_arr_cut_complete, kind=\"hex\", color=\"#4CB391\")\n",
    "\n"
   ]
  },
  {
   "cell_type": "code",
   "execution_count": null,
   "metadata": {},
   "outputs": [],
   "source": [
    "sns.kdeplot(x = energy_arr_cut_complete, y = stress_arr_cut_complete, level  = 2, color = 'r', linewidth = 1)"
   ]
  },
  {
   "cell_type": "code",
   "execution_count": null,
   "metadata": {},
   "outputs": [],
   "source": [
    "sns.set_theme(style=\"white\")\n",
    "\n",
    "g = sns.JointGrid(x = energy_arr_cut_complete, y = stress_arr_cut_complete space=0)\n",
    "g.plot_joint(sns.kdeplot,\n",
    "             fill=True, clip=((2200, 6800), (10, 25)),\n",
    "             thresh=0, levels=100, cmap=\"rocket\")\n",
    "g.plot_marginals(sns.histplot, color=\"#03051A\", alpha=1, bins=25)"
   ]
  },
  {
   "cell_type": "code",
   "execution_count": null,
   "metadata": {},
   "outputs": [],
   "source": [
    "# Start with a square Figure.\n",
    "fig = plt.figure(figsize=(6, 6))\n",
    "# Add a gridspec with two rows and two columns and a ratio of 1 to 4 between\n",
    "# the size of the marginal axes and the main axes in both directions.\n",
    "# Also adjust the subplot parameters for a square plot.\n",
    "gs = fig.add_gridspec(2, 2,  width_ratios=(4, 1), height_ratios=(1, 4),\n",
    "                      left=0.1, right=0.9, bottom=0.1, top=0.9,\n",
    "                      wspace=0.05, hspace=0.05)\n",
    "# Create the Axes.\n",
    "ax = fig.add_subplot(gs[1, 0])\n",
    "ax_histx = fig.add_subplot(gs[0, 0], sharex=ax)\n",
    "ax_histy = fig.add_subplot(gs[1, 1], sharey=ax)\n",
    "\n",
    "ax.set_xlim([-160,10])\n",
    "ax.set_ylim([-50,50])\n",
    "# Draw the scatter plot and marginals.\n",
    "scatter_hist(energy_arr_cut_complete, stress_arr_cut_complete, ax, ax_histx, ax_histy)\n",
    "fig.savefig(\"Figures/{}.pdf\".format(\"hist2d_stress_energy\"))"
   ]
  },
  {
   "cell_type": "code",
   "execution_count": null,
   "metadata": {},
   "outputs": [],
   "source": [
    "histogram2d_stress_energy(energy_arr_cut, stress_arr_cut, component = [1,1], bin =  1000, stress_lim = [-50, 50])"
   ]
  },
  {
   "cell_type": "code",
   "execution_count": null,
   "metadata": {},
   "outputs": [],
   "source": [
    "plt.hist2d(energy_arr_cut, stress_arr_cut[:,0,0], bins  =100)\n",
    "plt.ylim([-0.1, 0.1])"
   ]
  },
  {
   "cell_type": "code",
   "execution_count": null,
   "metadata": {},
   "outputs": [],
   "source": [
    "import seaborn as sns\n",
    "sns.jointplot(x=energy_arr_cut_complete, y=stress_arr_cut_complete, kind = 'hex')\n",
    "# plt.ylim[1,1]"
   ]
  },
  {
   "attachments": {},
   "cell_type": "markdown",
   "metadata": {},
   "source": [
    "#### Cropping Energies"
   ]
  },
  {
   "cell_type": "code",
   "execution_count": null,
   "metadata": {},
   "outputs": [],
   "source": [
    "cropped_energies = [x for x in energy_arr if x <= 0 and  x >= -180]\n",
    "cropped_energies_top = [x for x in energy_arr if x >= 100]"
   ]
  },
  {
   "cell_type": "code",
   "execution_count": null,
   "metadata": {},
   "outputs": [],
   "source": [
    "histogram_1d_energy(cropped_energies, \"energy_hist\")"
   ]
  },
  {
   "cell_type": "code",
   "execution_count": null,
   "metadata": {},
   "outputs": [],
   "source": [
    "np.shape(cropped_energies)"
   ]
  },
  {
   "attachments": {},
   "cell_type": "markdown",
   "metadata": {},
   "source": [
    "## Forces"
   ]
  },
  {
   "attachments": {},
   "cell_type": "markdown",
   "metadata": {},
   "source": [
    "#### Outlier Removal"
   ]
  },
  {
   "cell_type": "code",
   "execution_count": null,
   "metadata": {},
   "outputs": [],
   "source": [
    "# def get_outliers():\n",
    "#     cut_force_top =  1\n",
    "#     cut_force_bot = -1\n",
    "#     cut_energy_bot = -150\n",
    "#     cut_energy_top = 0\n",
    "#     cut_stress_top = 1\n",
    "#     cut_stress_bot = -1\n",
    "\n",
    "#     out_energy_id = np.where(energy_arr < cut_energy_top)\n",
    "#     # out_force_id = np.where(np.logical_and(forces_arr < cut_force_top, forces_arr > cut_force_bot))[0]\n",
    "\n",
    "#     print(out_energy_id)\n",
    "#     print(energy_arr[0:10])\n",
    "# get_outliers()"
   ]
  },
  {
   "attachments": {},
   "cell_type": "markdown",
   "metadata": {},
   "source": [
    "#### Stress Histogram"
   ]
  },
  {
   "cell_type": "code",
   "execution_count": null,
   "metadata": {},
   "outputs": [],
   "source": [
    "stress_arr = np.array(stress_arr)"
   ]
  },
  {
   "cell_type": "code",
   "execution_count": null,
   "metadata": {},
   "outputs": [],
   "source": [
    "stress_cut_hist(stress_arr, component = [0,1], cutoff = 50, nr_bin = 1000, y_lim = 1000)"
   ]
  },
  {
   "cell_type": "code",
   "execution_count": null,
   "metadata": {},
   "outputs": [],
   "source": [
    "stress_cut_hist(stress_arr, component = [0,0], cutoff = 50, nr_bin = 1000, y_lim = 10000)"
   ]
  },
  {
   "cell_type": "code",
   "execution_count": null,
   "metadata": {},
   "outputs": [],
   "source": [
    "\n",
    "stress_arr = np.array(stress_arr)\n",
    "energy_arr =np.array(energy_arr)\n",
    "# print(type(energy_arr))\n",
    "print(np.shape(energy_arr))\n",
    "print(np.shape(stress_arr))\n",
    "\n",
    "stress_xx = stress_arr[:,0,0]\n",
    "stress_xy = stress_arr[:,0,1]\n",
    "stress_xz = stress_arr[:,0,2]\n",
    "stress_yx = stress_arr[:,1,0]\n",
    "stress_yy = stress_arr[:,1,1]\n",
    "stress_yz = stress_arr[:,1,2]\n",
    "print(np.shape(stress_xx))\n",
    "\n",
    "# np.mean(stress_xx)\n",
    "# outliers = np.where(stress_xx > 1)\n",
    "# print(outliers[0])\n",
    "\n",
    "stress_arr_cut_xx = stress_xx[np.where(abs(stress_xx) < 3)]\n",
    "energy_arr_cut_stress_xx = energy_arr[np.where(abs(stress_xx) < 1)]\n",
    "\n",
    "\n",
    "print(np.shape(energy_arr_cut_stress_xx))"
   ]
  },
  {
   "cell_type": "code",
   "execution_count": null,
   "metadata": {},
   "outputs": [],
   "source": [
    "np.shape(energy_arr_cut_stress_xx)\n",
    "np.shape(stress_arr_cut_xx)\n",
    "\n",
    "# np.min(stress_arr_cut)\n",
    "\n",
    "np.max(energy_arr_cut_stress_xx)\n",
    "np.max(stress_arr_cut_xx)\n",
    "np.min(stress_arr_cut_xx)"
   ]
  },
  {
   "cell_type": "code",
   "execution_count": null,
   "metadata": {},
   "outputs": [],
   "source": []
  },
  {
   "cell_type": "code",
   "execution_count": null,
   "metadata": {},
   "outputs": [],
   "source": [
    "plt.hist2d(energy_arr_cut_stress_xx, stress_arr_cut)"
   ]
  },
  {
   "cell_type": "code",
   "execution_count": null,
   "metadata": {},
   "outputs": [],
   "source": [
    "# cropped_energies = [x for x in energy_arr if x <= 0 and  x >= -150]\n",
    "cutoff_top = 0.25\n",
    "cutoff_bottom = -0.25\n",
    "\n",
    "cropped_forces_x = forces_arr_x[np.where(np.logical_and(forces_arr_x < cutoff_top, forces_arr_x > cutoff_bottom))]\n",
    "cropped_forces_y = forces_arr_y[np.where(np.logical_and(forces_arr_y < cutoff_top, forces_arr_y > cutoff_bottom))]\n",
    "cropped_forces_z = forces_arr_z[np.where(np.logical_and(forces_arr_z < cutoff_top, forces_arr_z > cutoff_bottom))]\n",
    "# np.min(cropped_forces_x)\n",
    "\n",
    "# cropped_forces_x = np.where((forces_arr_x <= cutoff_top) or (forces_arr_x >= cutoff_bottom))\n",
    "# cropped_forces_y = np.where((forces_arr_y <= cutoff_top) or (forces_arr_y >= cutoff_bottom))\n",
    "# cropped_forces_z = np.where((forces_arr_z <= cutoff_top) or (forces_arr_z >= cutoff_bottom))"
   ]
  },
  {
   "cell_type": "code",
   "execution_count": null,
   "metadata": {},
   "outputs": [],
   "source": [
    "# fig, ax = plt.subplots()\n",
    "# n, bins, patches = plt.hist(cropped_forces_x, bins = 'auto', facecolor = 'green')\n",
    "\n",
    "\n",
    "kwargs = dict(histtype='stepfilled', alpha=0.3, bins=100)\n",
    "\n",
    "\n",
    "plt.hist(cropped_forces_x, **kwargs)\n",
    "plt.hist(cropped_forces_y, **kwargs)\n",
    "plt.hist(cropped_forces_z, **kwargs)\n",
    "\n",
    "# plt.hist(cropped_forces_z, bins = 50, facecolor = 'steelblue', edgecolor = 'none')\n",
    "# ax.set_xlabel(\"{}\".format(\"Energy\"))\n",
    "# ax.set_xlim([-100,100])\n",
    "# ax.set_ylabel(\"Counts\")\n",
    "# plt.tight_layout()\n",
    "plt.show()\n",
    "# plt.savefig(\"Figures/{}.pdf\".format(name))"
   ]
  },
  {
   "attachments": {},
   "cell_type": "markdown",
   "metadata": {},
   "source": [
    "#### 2D Histograms"
   ]
  },
  {
   "cell_type": "code",
   "execution_count": null,
   "metadata": {},
   "outputs": [],
   "source": [
    "plt.hist2d(forces_arr_y, forces_arr_x, bins=50, cmap='Blues')\n",
    "plt.xlim([-0.1,0.1])\n",
    "plt.ylim([-0.1,0.1])\n",
    "plt.show()"
   ]
  },
  {
   "attachments": {},
   "cell_type": "markdown",
   "metadata": {},
   "source": [
    "#### Separate Forces"
   ]
  },
  {
   "cell_type": "code",
   "execution_count": null,
   "metadata": {},
   "outputs": [],
   "source": [
    "sep_forces  =  separate_forces(forces_arr)\n",
    "print(sep_forces)"
   ]
  },
  {
   "attachments": {},
   "cell_type": "markdown",
   "metadata": {},
   "source": [
    "### Import pandas dataframe\n",
    "Provide the ``overwrite == True`` case to rerun the creation of the dataframe, else if ``overwrite == False`` imports it from the saved .pkl file"
   ]
  },
  {
   "cell_type": "code",
   "execution_count": null,
   "metadata": {},
   "outputs": [],
   "source": [
    "df = get_df(\"geo_opt\", overwrite = True)\n",
    "display(df)"
   ]
  },
  {
   "attachments": {},
   "cell_type": "markdown",
   "metadata": {},
   "source": [
    "### Plotting Histograms"
   ]
  },
  {
   "attachments": {},
   "cell_type": "markdown",
   "metadata": {},
   "source": [
    "#### Energy Histogram"
   ]
  },
  {
   "cell_type": "code",
   "execution_count": null,
   "metadata": {},
   "outputs": [],
   "source": [
    "histogram_1d(df, quantity = 'energy', bin = 200)"
   ]
  },
  {
   "cell_type": "code",
   "execution_count": null,
   "metadata": {},
   "outputs": [],
   "source": [
    "display(df['stress_xx'])\n",
    "\n",
    "display(df[df['stress_xx'] > 200])\n",
    "histogram_1d(df, quantity = 'stress_zz', bin = 200, xrange= [-20, 20])\n",
    "histogram_1d(df, quantity = 'stress_zy', bin = 200, xrange= [-20, 20])\n",
    "histogram_1d(df, quantity = 'stress_zy', bin = 200, xrange= [-20, 20])"
   ]
  },
  {
   "cell_type": "code",
   "execution_count": null,
   "metadata": {},
   "outputs": [],
   "source": [
    "force_arr = separate_forces(df['forces'].to_numpy())    \n",
    "# print(force_arr)\n",
    "# print(force_arr[20000])\n",
    "force = get_coordinate(array= force_arr, axis = \"x\")\n",
    "plt.hist(force, bins= 20)\n",
    "# plt.hist(force, histtype='step')\n",
    "\n",
    "#  n, bins, patches = ax.hist(force, bins = bin)\n",
    "#     ax.set_xlabel(\"{} {}\".format(\"Force\", axis))\n",
    "#     ax.set_xlim(xrange)\n",
    "#     ax.set_ylabel(\"Counts\")"
   ]
  },
  {
   "cell_type": "code",
   "execution_count": null,
   "metadata": {},
   "outputs": [],
   "source": [
    "histogram_1d_force(df, axis = 'x', bin = 10, xrange = [0, 0.4])"
   ]
  },
  {
   "cell_type": "code",
   "execution_count": null,
   "metadata": {},
   "outputs": [],
   "source": [
    "energy_force_combined(df)"
   ]
  },
  {
   "cell_type": "code",
   "execution_count": null,
   "metadata": {},
   "outputs": [],
   "source": [
    "var = df[\"forces\"].to_numpy()\n",
    "\n",
    "fig, ax = plt.subplots()\n",
    "force_arr = separate_forces(var)    \n",
    "\n",
    "force = abs_forces_per_run(var)\n",
    "print(type(force))\n",
    "                            \n",
    "n, bins, patches = plt.hist(force)\n",
    "plt.show()"
   ]
  },
  {
   "cell_type": "code",
   "execution_count": null,
   "metadata": {},
   "outputs": [],
   "source": [
    "abs_forces_per_run(var_forces= df[\"forces\"].to_numpy())"
   ]
  },
  {
   "cell_type": "code",
   "execution_count": null,
   "metadata": {},
   "outputs": [],
   "source": [
    "energy_arr, stress_arr, forces_arr = create_arr(\"geo_opt_test\")"
   ]
  },
  {
   "cell_type": "code",
   "execution_count": null,
   "metadata": {},
   "outputs": [],
   "source": [
    "# print(energy_arr)\n",
    "# print(forces_arr)\n",
    "\n",
    "print(len(forces_arr))\n",
    "print(len(energy_arr))"
   ]
  },
  {
   "cell_type": "code",
   "execution_count": null,
   "metadata": {},
   "outputs": [],
   "source": [
    "display(df)"
   ]
  },
  {
   "cell_type": "code",
   "execution_count": null,
   "metadata": {},
   "outputs": [],
   "source": [
    "positive_entries = df[df['energy'] > 1000]\n",
    "print(positive_entries)"
   ]
  },
  {
   "cell_type": "code",
   "execution_count": null,
   "metadata": {},
   "outputs": [],
   "source": [
    "df = read_df(path = \"df_data.pkl\")"
   ]
  },
  {
   "cell_type": "code",
   "execution_count": null,
   "metadata": {},
   "outputs": [],
   "source": [
    "display(df)\n",
    "print(df.energy.max())\n",
    "print(df.energy.min())"
   ]
  },
  {
   "cell_type": "code",
   "execution_count": null,
   "metadata": {},
   "outputs": [],
   "source": [
    "histogram_1d_force(df, axis = 'x', bin = 500, xrange = [-150, 150])"
   ]
  },
  {
   "cell_type": "code",
   "execution_count": null,
   "metadata": {},
   "outputs": [],
   "source": [
    "histogram_1d(df = df, quantity = \"force_x\", bin = 500, xrange = [-150,100])"
   ]
  },
  {
   "cell_type": "code",
   "execution_count": null,
   "metadata": {},
   "outputs": [],
   "source": [
    "force_arr = separate_forces(var2)\n",
    "  # print(force_arr)\n",
    "\n",
    "  print(force_arr[1])\n",
    "\n",
    "  x_forces = get_coordinate(array= force_arr, axis = \"x\")"
   ]
  },
  {
   "cell_type": "code",
   "execution_count": null,
   "metadata": {},
   "outputs": [],
   "source": [
    "histogram_2d_energy_stress(df)"
   ]
  },
  {
   "cell_type": "code",
   "execution_count": null,
   "metadata": {},
   "outputs": [],
   "source": [
    "histogram_1d(df = df, quantity = \"energy\", bin=2000)"
   ]
  },
  {
   "cell_type": "code",
   "execution_count": null,
   "metadata": {},
   "outputs": [],
   "source": [
    "display(df['force_1'])\n",
    "np.where(pd.isna(df['force_1']))"
   ]
  },
  {
   "cell_type": "code",
   "execution_count": null,
   "metadata": {},
   "outputs": [],
   "source": [
    "path = \"geo_opt/2_spg01.json.bz2\"\n",
    "path = \"geo_opt/ml_3_AB2C4.json.bz2\"\n",
    "quantity = []\n",
    "path_of_directory = 'geo_opt'\n",
    "desired_quantity = 'energy'\n",
    "\n",
    "# df_data = pd.DataFrame(columns = ['structure', 'force_1', 'force_2', 'stress_xx', 'stress_xy', 'stress_xz', \"stress_yx\", \"stress_yy\", 'stress_yz', 'stress_zx', 'stress_zy', 'stress_zz'])\n",
    "\n",
    "df_data = pd.DataFrame(columns=['run', 'energy', 'force_1', 'force_2', 'stress_xx', 'stress_xy', 'stress_xz', 'stress_yx', 'stress_yy', 'stress_yz', 'stress_zx', 'stress_zy', 'stress_zz'])\n",
    "# file_data = json.load(bz2.open(path, \"rb\"))\n",
    "# print(file_data)\n",
    "\n",
    "\n",
    "def retrieve_forces(force_array):\n",
    "    force_1, force_2 = force_array[0], force_array[1]\n",
    "    return force_1, force_2\n",
    "\n",
    "\n",
    "\n",
    "with bz2.BZ2File(path) as file:\n",
    "    for line in file:\n",
    "        line = line.decode().strip()\n",
    "        if line in {\"[\", \"]\"}:\n",
    "            continue\n",
    "        if line.endswith(\" \"):\n",
    "            line = line[:-1]\n",
    "        entity =json.loads(line)\n",
    "        print(entity)\n",
    "        for runs in entity.keys():\n",
    "            for item in entity[runs]:\n",
    "                struc = Structure.from_dict(item['structure'])\n",
    "                force_1, force_2 = retrieve_forces(item['forces'])\n",
    "                stress = item['stress']\n",
    "    \n",
    "                energy = item['energy']\n",
    "\n",
    "                data_run = pd.DataFrame({'run': runs,\n",
    "                                         \"structure\": [struc],\n",
    "                                         \"energy\": energy, \n",
    "                                         \"force_1\": [force_1], \"force_2\": [force_2], \n",
    "                                         'stress_xx': [stress[0][0]], 'stress_xy': [stress[0][1]], 'stress_xz':[stress[0][2]], \n",
    "                                         'stress_yx': [stress[1][0]], 'stress_yy': [stress[1][1]], 'stress_yz': [stress[1][2]], \n",
    "                                         'stress_zx': [stress[2][0]], 'stress_zy': [stress[2][1]], 'stress_zz': [stress[2][2]]})\n",
    "\n",
    "                data_run = pd.DataFrame(data_run)\n",
    "                df_data = pd.concat([df_data, data_run])\n",
    " \n",
    "\n",
    "df_data.memory_usage()\n",
    "\n",
    "df_data.reset_index(inplace=True, drop =True)\n",
    "cum_series = df_data.groupby('run').cumcount()\n",
    "cum_series = cum_series.astype(str)\n",
    "df_data['run'] = df_data['run'] + \"_\" + cum_series\n",
    "\n",
    "display(df_data)\n",
    "        \n",
    "\n",
    "def plotting_function(df, desired_quantity, savename):\n",
    "        counts, bins = np.histogram(df[desired_quantity])\n",
    "        plt.hist(bins[:-1], bins, weights = counts)\n",
    "        \n",
    "        plt.savefig(\"Figures/{}.pdf\".format(savename))\n",
    "\n",
    "\n",
    "# print(dtype(df_data['energy']))\n",
    "\n",
    "print(df_data.dtypes)\n",
    "\n",
    "energy = df_data['energy'].to_numpy()\n",
    "# print(energy)\n",
    "stress_xx = df_data['stress_xx'].to_numpy()\n",
    "\n",
    "# histo = np.histogram2d(energy, stress_xx, bins = (20, 20))\n",
    "# print(type(histo))\n",
    "\n",
    "\n",
    "\n",
    "\n",
    "\n",
    "\n",
    "    # fig, ax = plt.subplots()\n",
    "    # hist = ax.hist2d(var1, var2, bins = (bin, bin), cmap = plt.cm.jet)\n",
    "    # fig.colorbar(hist)\n",
    "\n",
    "    # fig.tight_layout()\n",
    "    # fig.savefig(\"Figures/{}.pdf\".format(savename_fig))\n",
    "    # plt.show()  \n",
    "\n",
    "\n",
    "\n",
    "\n",
    "\n",
    "\n",
    "\n",
    "\n",
    "# plt.imshow(histo)\n",
    "\n",
    "# plotting_function(df_data, \"energy\", \"energy_dist\")\n",
    "\n",
    "\n",
    "\n",
    "#         # Get all the keys (runs)\n",
    "#         # print(entity.keys())\n",
    "\n",
    "#         for runs in entity.keys():\n",
    "#             # The argument in entity specifies the run\n",
    "#             for i in entity[runs]:                    \n",
    "# #                 print(i.keys())\n",
    "#                 value = i[desired_quantity]\n",
    "#                 forces = i['forces']\n",
    "#                 stress = i['stress']\n",
    "#                 structure = i['structure']\n",
    "#                 energy = i['energy']\n",
    "#                 # print(forces)\n",
    "#                 quantity.append(value)\n",
    "                \n",
    "# print(quantity)"
   ]
  },
  {
   "cell_type": "code",
   "execution_count": null,
   "metadata": {},
   "outputs": [],
   "source": [
    "def return_quantity(directory, desired_quantity):\n",
    "    # quantity can be structure, energy, forces, stress\n",
    "#     path = \"geo_opt/2_spg01.json.bz2\"\n",
    "    quantity = []\n",
    "#     ext = (\".bz2\")\n",
    "    print(\"Number of files in directory: {}\".format(len(os.listdir(directory))))\n",
    "    file_names = os.listdir(directory)\n",
    "    # print(file_names)\n",
    "#     for files in os.listdir(directory):\n",
    "    for files in file_names:\n",
    "        print(\"Current file selected: {}\".format(files))\n",
    "        with bz2.BZ2File(\"{}/{}\".format(directory,files)) as file:\n",
    "            for line in file:\n",
    "                line = line.decode().strip()\n",
    "                if line in {\"[\", \"]\"}:\n",
    "                    continue\n",
    "                if line.endswith(\" \"):\n",
    "                    line = line[:-1]\n",
    "                entity =json.loads(line)\n",
    "\n",
    "                # Get all the keys (runs)\n",
    "                # print(entity.keys())\n",
    "\n",
    "                for runs in entity.keys():\n",
    "                    # The argument in entity specifies the run\n",
    "                    for i in entity[runs]:                    \n",
    "#                         print(i.keys())\n",
    "                        value = i[desired_quantity]\n",
    "                        quantity.append(value)\n",
    "#                         forces = i['forces']\n",
    "#                         stress = i['stress']\n",
    "#                         structure = i['structure']\n",
    "#                         energy = i['energy']\n",
    "#                         print(forces)\n",
    "                \n",
    "    with open(\"{}.txt\".format(desired_quantity), 'w') as f:\n",
    "        for s in quantity:\n",
    "            f.write(str(s) + '\\n')\n",
    "\n",
    "    return quantity\n",
    "\n",
    "\n",
    "energy = return_quantity('geo_opt','energy')"
   ]
  },
  {
   "cell_type": "code",
   "execution_count": null,
   "metadata": {},
   "outputs": [],
   "source": [
    "with open(\"energy.txt\", 'r') as f:\n",
    "    energy = [line.rstrip('\\n') for line in f]\n",
    "    print(energy)\n",
    "\n",
    "# print(energy)"
   ]
  },
  {
   "cell_type": "code",
   "execution_count": null,
   "metadata": {},
   "outputs": [],
   "source": [
    "print(energy)"
   ]
  },
  {
   "cell_type": "code",
   "execution_count": null,
   "metadata": {},
   "outputs": [],
   "source": [
    "counts, bins = np.histogram(energy)\n",
    "plt.hist(bins[:-1], bins, weights = counts)"
   ]
  },
  {
   "cell_type": "code",
   "execution_count": null,
   "metadata": {},
   "outputs": [],
   "source": []
  }
 ],
 "metadata": {
  "kernelspec": {
   "display_name": "master_thesis",
   "language": "python",
   "name": "python3"
  },
  "language_info": {
   "codemirror_mode": {
    "name": "ipython",
    "version": 3
   },
   "file_extension": ".py",
   "mimetype": "text/x-python",
   "name": "python",
   "nbconvert_exporter": "python",
   "pygments_lexer": "ipython3",
   "version": "3.11.0"
  },
  "orig_nbformat": 4,
  "vscode": {
   "interpreter": {
    "hash": "8460dbfb2f2f68418c6c6bf9581ab4fa4f4429bad5658983f4f8584321b9bbd5"
   }
  }
 },
 "nbformat": 4,
 "nbformat_minor": 2
}
