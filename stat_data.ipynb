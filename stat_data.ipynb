{
 "cells": [
  {
   "cell_type": "code",
   "execution_count": 42,
   "metadata": {},
   "outputs": [],
   "source": [
    "import numpy as np\n",
    "import json\n",
    "import bz2\n",
    "import pandas as pd \n",
    "import os\n",
    "import seaborn as sns\n",
    "from tqdm import tqdm\n",
    "import matplotlib.pyplot as plt\n",
    "import psutil\n",
    "# import csv\n",
    "import pickle\n",
    "# import pandas as pd\n",
    "from pymatgen.core import Structure\n",
    "import math\n",
    "pd.options.display.max_colwidth = 100\n",
    "sns.set_theme(style = 'ticks')"
   ]
  },
  {
   "cell_type": "code",
   "execution_count": null,
   "metadata": {},
   "outputs": [],
   "source": [
    "# def save_arr_to_csv(arr, path):\n",
    "#     with open(path, mode = 'w', newline = '') as csvfile:\n",
    "#         writer = csv.writer(csvfile)\n",
    "#         writer.writerows(arr)\n",
    "\n",
    "# def read_from_csv(path):\n",
    "#     with open(path, mode = 'r') as csvfile:\n",
    "#         reader = csv.reader(csvfile)\n",
    "#         arr = [row for row in reader]\n",
    "#     return arr"
   ]
  },
  {
   "attachments": {},
   "cell_type": "markdown",
   "metadata": {},
   "source": [
    "#### Custom Methods"
   ]
  },
  {
   "cell_type": "code",
   "execution_count": 43,
   "metadata": {},
   "outputs": [],
   "source": [
    "def separate_forces(var_forces):\n",
    "    arr = []\n",
    "    for index, force_arr in enumerate(var_forces):\n",
    "        if len(force_arr) > 1:\n",
    "            # print(force_arr)\n",
    "            # print(len(force_arr))\n",
    "            for i in range(len(force_arr)):\n",
    "                # print(force_arr[i])\n",
    "                arr.append(force_arr[i])\n",
    "        else:\n",
    "            arr.append(force_arr)\n",
    "    return arr\n",
    "\n",
    "def get_coordinate(array, axis = 'x'):\n",
    "\n",
    "    switcher = {\n",
    "        \"x\": int(0),\n",
    "        \"y\": int(1),\n",
    "        \"z\": int(2),\n",
    "    }\n",
    "\n",
    "    switch = switcher.get(axis, \"nothing\")\n",
    "    coordinate_arr = [arr[switch] for arr in array] \n",
    "    print(coordinate_arr)\n",
    "    return coordinate_arr\n",
    "\n",
    "\n",
    "def magnitude_vec(vector):\n",
    "    print(\"Vector: {}\".format(vector)) \n",
    "    # print(sum(pow(element, 2) for element in vector))\n",
    "    # print([element for element in vector])\n",
    "    print(math.sqrt(sum(np.power(element, 2) for element in vector)))\n",
    "    return math.sqrt(sum(np.power(element, 2) for element in vector))\n",
    "\n",
    "    # return math.sqrt(sum(np.power(element, 2) for element in vector))\n",
    "\n",
    "def abs_forces_per_run(var_forces):\n",
    "    arr = []\n",
    "    for index, force_arr in enumerate(var_forces):\n",
    "        if len(force_arr) > 1:\n",
    "            print(force_arr)\n",
    "            sum_arr = 0\n",
    "            for i in range(len(force_arr)):\n",
    "                print(force_arr[i])\n",
    "                sum_arr += magnitude_vec(force_arr[i])\n",
    "            arr.append(sum_arr)\n",
    "        else:\n",
    "            arr.append(magnitude_vec(force_arr[0]))\n",
    "    return arr\n",
    "\n",
    "\n",
    "def import_df(path):\n",
    "    df = pd.read_pickle(\"{}\".format(path))\n",
    "    return df\n",
    "\n",
    "\n",
    "def add_cum_count(df):\n",
    "    cum_series = df.groupby('run').cumcount()\n",
    "    cum_series = cum_series.astype(str)\n",
    "    df['run'] = df['run'] + \"_\" + cum_series\n"
   ]
  },
  {
   "cell_type": "code",
   "execution_count": 44,
   "metadata": {},
   "outputs": [],
   "source": [
    "def get_df(directory, overwrite = False):\n",
    "    if overwrite == True:\n",
    "        print(\"Number of files in directory: {}\".format(len(os.listdir(directory))))\n",
    "        files = os.listdir(directory)\n",
    "        print(files)\n",
    "\n",
    "        df_data = pd.DataFrame(columns=['run', 'energy', 'forces', 'stress_xx', 'stress_xy', 'stress_xz', 'stress_yx', 'stress_yy', 'stress_yz', 'stress_zx', 'stress_zy', 'stress_zz'])\n",
    "\n",
    "        for file_name in files:\n",
    "            print(\"Current file selected: {}\".format(file_name))\n",
    "            print('RAM memory % used:', psutil.virtual_memory()[2])\n",
    "            # Getting usage of virtual_memory in GB ( 4th field)\n",
    "            print('RAM Used (GB):', psutil.virtual_memory()[3]/1000000000)\n",
    "            with bz2.BZ2File(\"{}/{}\".format(directory,file_name)) as file:\n",
    "                for line in file:\n",
    "                    line = line.decode().strip()\n",
    "                    if line in {\"[\", \"]\"}:\n",
    "                        continue\n",
    "                    if line.endswith(\" \"):\n",
    "                        line = line[:-1]\n",
    "                    entity =json.loads(line)\n",
    "                    for run in entity.keys():\n",
    "                        for item in entity[run]:\n",
    "                            # print(item)\n",
    "                            struc = Structure.from_dict(item['structure'])\n",
    "                            forces = item['forces']\n",
    "                    \n",
    "                            stress = item['stress']\n",
    "                            energy = item['energy']\n",
    "                            \n",
    "                            # if energy > 0:\n",
    "                            #     print(\"There is a positive energy entry: {}\".format(energy))\n",
    "                            \n",
    "                            data_run = pd.DataFrame({'run': run,\n",
    "                                                        \"structure\": [struc],\n",
    "                                                        \"energy\": energy, \n",
    "                                                        \"forces\": [forces], \n",
    "                                                        'stress_xx': [stress[0][0]], 'stress_xy': [stress[0][1]], 'stress_xz':[stress[0][2]], \n",
    "                                                        'stress_yx': [stress[1][0]], 'stress_yy': [stress[1][1]], 'stress_yz': [stress[1][2]], \n",
    "                                                        'stress_zx': [stress[2][0]], 'stress_zy': [stress[2][1]], 'stress_zz': [stress[2][2]]})\n",
    "\n",
    "                            data_run = pd.DataFrame(data_run)\n",
    "                            df_data = pd.concat([df_data, data_run])\n",
    "\n",
    "        df_data.reset_index(inplace = True, drop = True)\n",
    "\n",
    "        add_cum_count(df_data)\n",
    "        \n",
    "        df_data.memory_usage()\n",
    "        df_data.to_pickle(\"df_data.pkl\")\n",
    "\n",
    "    elif overwrite == False:\n",
    "       df_data = import_df('df_data.pkl')\n",
    "\n",
    "    return df_data\n",
    "\n",
    "def create_arr(directory):\n",
    "\n",
    "    print(\"Number of files in directory: {}\".format(len(os.listdir(directory))))\n",
    "    files = os.listdir(directory)\n",
    "    print(files)\n",
    "\n",
    "    dict_id = {}\n",
    "    # df_id = pd.DataFrame(columns = [\"id\", \"run\"])\n",
    "\n",
    "    stress_arr = []\n",
    "    energy_arr = []\n",
    "    forces_arr = []\n",
    "    index = 0\n",
    "\n",
    "    for file_name in tqdm(files):\n",
    "        print(\"Current file selected: {}\".format(file_name))\n",
    "        \n",
    "        with bz2.BZ2File(\"{}/{}\".format(directory,file_name)) as file:\n",
    "            for line in tqdm(file):\n",
    "                line = line.decode().strip()\n",
    "                if line in {\"[\", \"]\"}:\n",
    "                    continue\n",
    "                if line.endswith(\" \"):\n",
    "                    line = line[:-1]\n",
    "                entity =json.loads(line)\n",
    "                for run in entity.keys():\n",
    "                    for item in entity[run]:\n",
    "                        # print(len(entity[run]))\n",
    "                        struc = Structure.from_dict(item['structure'])\n",
    "                        forces = item['forces']\n",
    "                        # force_1 = item['forces'][0]\n",
    "                        stress = item['stress']\n",
    "                        energy = item['energy']\n",
    "                        \n",
    "                        dict_id[index] = run\n",
    "\n",
    "                        stress_arr.append(stress)\n",
    "                        forces_arr.append(forces)\n",
    "                        energy_arr.append(energy)\n",
    "                        \n",
    "                        with open('log.txt', 'a') as f:\n",
    "                            f.write(\"{}-{}: Energy: {}, Forces: {}, Stress: {} + \\n\".format(run, index, energy, forces, stress))\n",
    "                        index += 1\n",
    "\n",
    "    return energy_arr, stress_arr, forces_arr, dict_id"
   ]
  },
  {
   "cell_type": "code",
   "execution_count": 45,
   "metadata": {},
   "outputs": [
    {
     "name": "stdout",
     "output_type": "stream",
     "text": [
      "Number of files in directory: 92\n",
      "['2_spg29.json.bz2', '2_spg28.json.bz2', 'ml_2_A2B7.json.bz2', 'ml_2_A9B10.json.bz2', 'ml_2_A9B11.json.bz2', 'ml_3_AB2C6.json.bz2', '2_spg17.json.bz2', 'ml_2_A3B4.json.bz2', 'ml_2_A3B5.json.bz2', '1_elements.json.bz2', 'ml_2_A4B9.json.bz2', 'ml_4_ABC2D6.json.bz2', 'ext_c2db_0.25_3.json.bz2', 'ext_c2db_0.25_2.json.bz2', '2_quasi.json.bz2', '2_spg01.json.bz2', 'ml_2_A5B11.json.bz2', '2_spg34.json.bz2', '2_spg35.json.bz2', '2_spg43.json.bz2', '2_spg70.json.bz2', 'ml_3_ABC6.json.bz2', 'ml_2_AB6.json.bz2', 'ml_2_AB7.json.bz2', '2_extra01.json.bz2', '2_spg33.json.bz2', '2_spg32.json.bz2', 'ml_3_A2B2C3.json.bz2', 'ml_2_A3B11.json.bz2', 'ml_2_A3B10.json.bz2', 'ml_2_A3B8.json.bz2', 'ml_3_AB3C8.json.bz2', '3_spg33.json.bz2', 'ml_2_A4B5.json.bz2', '2_spg10.json.bz2', '2_hydrides.json.bz2', 'ml_3_ABC.json.bz2', 'ml_2_A5B7.json.bz2', 'ml_2_A5B6.json.bz2', 'ext_c2db_0.25_4.json.bz2', 'ext_c2db_0.25_5.json.bz2', 'ml_3_ABC2.json.bz2', 'ml_3_ABC3.json.bz2', '2_spg36.json.bz2', 'ml_2_AB2.json.bz2', 'ml_2_AB3.json.bz2', '2_spg09.json.bz2', '2_spg08.json.bz2', 'ml_2_A4B11.json.bz2', 'ml_2_A6B7.json.bz2', '2_carbon.json.bz2', 'ml_2_AB.json.bz2', 'ml_2_A5B12.json.bz2', 'ml_2_A3B7.json.bz2', '2_spg21.json.bz2', 'ml_2_A8B9.json.bz2', 'ml_4_AB2C2D2.json.bz2', 'ext_c2db_0.25_1.json.bz2', 'ml_3_AB3C7.json.bz2', 'ml_2_A8B11.json.bz2', 'ml_2_A2B5.json.bz2', '3_spg09.json.bz2', 'ml_3_AB2C4.json.bz2', 'ml_3_AB2C5.json.bz2', '2_spg15.json.bz2', 'ml_2_A5B9.json.bz2', 'ml_2_A5B8.json.bz2', '3_spg05.json.bz2', 'ext_c2db_0.25_6.json.bz2', 'ml_3_AB2C8.json.bz2', 'ml_2_A2B3.json.bz2', 'ml_3_AB2C3.json.bz2', 'ml_3_AB2C2.json.bz2', 'ml_2_A4B7.json.bz2', '2_spg13.json.bz2', '2_spg12.json.bz2', 'ml_3_ABC5.json.bz2', 'ml_3_ABC4.json.bz2', '3_spg13.json.bz2', '3_spg12.json.bz2', 'ml_2_AB5.json.bz2', 'ml_2_AB4.json.bz2', '2_spg30.json.bz2', '2_spg31.json.bz2', 'ml_2_A7B10.json.bz2', 'ml_2_A7B11.json.bz2', 'ml_4_AB2C6D6.json.bz2', '2_spg73.json.bz2', 'ml_2_A7B8.json.bz2', 'ml_2_A7B9.json.bz2', '2_spg04.json.bz2', '2_spg05.json.bz2']\n"
     ]
    },
    {
     "name": "stderr",
     "output_type": "stream",
     "text": [
      "  0%|          | 0/92 [00:00<?, ?it/s]"
     ]
    },
    {
     "name": "stdout",
     "output_type": "stream",
     "text": [
      "Current file selected: 2_spg29.json.bz2\n"
     ]
    },
    {
     "name": "stderr",
     "output_type": "stream",
     "text": [
      "1it [00:03,  3.65s/it]\n",
      "  1%|          | 1/92 [00:03<05:32,  3.65s/it]"
     ]
    },
    {
     "name": "stdout",
     "output_type": "stream",
     "text": [
      "Current file selected: 2_spg28.json.bz2\n"
     ]
    },
    {
     "name": "stderr",
     "output_type": "stream",
     "text": [
      "1it [00:17, 17.53s/it]\n",
      "  2%|▏         | 2/92 [00:21<17:43, 11.82s/it]"
     ]
    },
    {
     "name": "stdout",
     "output_type": "stream",
     "text": [
      "Current file selected: ml_2_A2B7.json.bz2\n"
     ]
    },
    {
     "name": "stderr",
     "output_type": "stream",
     "text": [
      "1it [00:02,  2.08s/it]\n",
      "  3%|▎         | 3/92 [00:23<10:56,  7.38s/it]"
     ]
    },
    {
     "name": "stdout",
     "output_type": "stream",
     "text": [
      "Current file selected: ml_2_A9B10.json.bz2\n"
     ]
    },
    {
     "name": "stderr",
     "output_type": "stream",
     "text": [
      "1it [00:01,  1.38s/it]\n",
      "  4%|▍         | 4/92 [00:24<07:20,  5.01s/it]"
     ]
    },
    {
     "name": "stdout",
     "output_type": "stream",
     "text": [
      "Current file selected: ml_2_A9B11.json.bz2\n"
     ]
    },
    {
     "name": "stderr",
     "output_type": "stream",
     "text": [
      "1it [00:07,  7.77s/it]\n",
      "  5%|▌         | 5/92 [00:32<08:42,  6.00s/it]"
     ]
    },
    {
     "name": "stdout",
     "output_type": "stream",
     "text": [
      "Current file selected: ml_3_AB2C6.json.bz2\n"
     ]
    },
    {
     "name": "stderr",
     "output_type": "stream",
     "text": [
      "1it [00:21, 21.68s/it]\n",
      "  7%|▋         | 6/92 [00:54<16:14, 11.34s/it]"
     ]
    },
    {
     "name": "stdout",
     "output_type": "stream",
     "text": [
      "Current file selected: 2_spg17.json.bz2\n"
     ]
    },
    {
     "name": "stderr",
     "output_type": "stream",
     "text": [
      "1it [00:04,  4.05s/it]\n",
      "  8%|▊         | 7/92 [00:58<12:41,  8.95s/it]"
     ]
    },
    {
     "name": "stdout",
     "output_type": "stream",
     "text": [
      "Current file selected: ml_2_A3B4.json.bz2\n"
     ]
    },
    {
     "name": "stderr",
     "output_type": "stream",
     "text": [
      "1it [00:10, 10.71s/it]\n",
      "  9%|▊         | 8/92 [01:08<13:19,  9.52s/it]"
     ]
    },
    {
     "name": "stdout",
     "output_type": "stream",
     "text": [
      "Current file selected: ml_2_A3B5.json.bz2\n"
     ]
    },
    {
     "name": "stderr",
     "output_type": "stream",
     "text": [
      "1it [00:08,  8.06s/it]\n",
      " 10%|▉         | 9/92 [01:16<12:32,  9.06s/it]"
     ]
    },
    {
     "name": "stdout",
     "output_type": "stream",
     "text": [
      "Current file selected: 1_elements.json.bz2\n"
     ]
    },
    {
     "name": "stderr",
     "output_type": "stream",
     "text": [
      "1it [00:02,  2.54s/it]\n",
      " 11%|█         | 10/92 [01:19<09:38,  7.05s/it]"
     ]
    },
    {
     "name": "stdout",
     "output_type": "stream",
     "text": [
      "Current file selected: ml_2_A4B9.json.bz2\n"
     ]
    },
    {
     "name": "stderr",
     "output_type": "stream",
     "text": [
      "1it [00:11, 11.10s/it]\n",
      " 12%|█▏        | 11/92 [01:30<11:11,  8.29s/it]"
     ]
    },
    {
     "name": "stdout",
     "output_type": "stream",
     "text": [
      "Current file selected: ml_4_ABC2D6.json.bz2\n"
     ]
    },
    {
     "name": "stderr",
     "output_type": "stream",
     "text": [
      "1it [00:06,  6.78s/it]\n",
      " 13%|█▎        | 12/92 [01:37<10:26,  7.83s/it]"
     ]
    },
    {
     "name": "stdout",
     "output_type": "stream",
     "text": [
      "Current file selected: ext_c2db_0.25_3.json.bz2\n"
     ]
    },
    {
     "name": "stderr",
     "output_type": "stream",
     "text": [
      "1it [00:00,  8.19it/s]\n",
      " 14%|█▍        | 13/92 [01:37<07:14,  5.50s/it]"
     ]
    },
    {
     "name": "stdout",
     "output_type": "stream",
     "text": [
      "Current file selected: ext_c2db_0.25_2.json.bz2\n"
     ]
    },
    {
     "name": "stderr",
     "output_type": "stream",
     "text": [
      "1it [00:00,  1.18it/s]\n",
      " 15%|█▌        | 14/92 [01:38<05:19,  4.09s/it]"
     ]
    },
    {
     "name": "stdout",
     "output_type": "stream",
     "text": [
      "Current file selected: 2_quasi.json.bz2\n"
     ]
    },
    {
     "name": "stderr",
     "output_type": "stream",
     "text": [
      "1it [00:02,  2.29s/it]\n",
      " 16%|█▋        | 15/92 [01:40<04:33,  3.55s/it]"
     ]
    },
    {
     "name": "stdout",
     "output_type": "stream",
     "text": [
      "Current file selected: 2_spg01.json.bz2\n"
     ]
    },
    {
     "name": "stderr",
     "output_type": "stream",
     "text": [
      "1it [00:00,  5.27it/s]\n",
      " 17%|█▋        | 16/92 [01:40<03:12,  2.54s/it]"
     ]
    },
    {
     "name": "stdout",
     "output_type": "stream",
     "text": [
      "Current file selected: ml_2_A5B11.json.bz2\n"
     ]
    },
    {
     "name": "stderr",
     "output_type": "stream",
     "text": [
      "1it [00:05,  5.83s/it]\n",
      " 18%|█▊        | 17/92 [01:46<04:24,  3.53s/it]"
     ]
    },
    {
     "name": "stdout",
     "output_type": "stream",
     "text": [
      "Current file selected: 2_spg34.json.bz2\n"
     ]
    },
    {
     "name": "stderr",
     "output_type": "stream",
     "text": [
      "1it [00:02,  2.90s/it]\n",
      " 20%|█▉        | 18/92 [01:49<04:07,  3.34s/it]"
     ]
    },
    {
     "name": "stdout",
     "output_type": "stream",
     "text": [
      "Current file selected: 2_spg35.json.bz2\n"
     ]
    },
    {
     "name": "stderr",
     "output_type": "stream",
     "text": [
      "1it [00:01,  1.05s/it]\n",
      " 21%|██        | 19/92 [01:50<03:13,  2.65s/it]"
     ]
    },
    {
     "name": "stdout",
     "output_type": "stream",
     "text": [
      "Current file selected: 2_spg43.json.bz2\n"
     ]
    },
    {
     "name": "stderr",
     "output_type": "stream",
     "text": [
      "1it [02:40, 160.13s/it]\n",
      " 22%|██▏       | 20/92 [04:30<59:57, 49.96s/it]"
     ]
    },
    {
     "name": "stdout",
     "output_type": "stream",
     "text": [
      "Current file selected: 2_spg70.json.bz2\n"
     ]
    },
    {
     "name": "stderr",
     "output_type": "stream",
     "text": [
      "1it [04:35, 275.79s/it]\n",
      " 23%|██▎       | 21/92 [09:06<2:19:20, 117.75s/it]"
     ]
    },
    {
     "name": "stdout",
     "output_type": "stream",
     "text": [
      "Current file selected: ml_3_ABC6.json.bz2\n"
     ]
    },
    {
     "name": "stderr",
     "output_type": "stream",
     "text": [
      "1it [00:22, 22.43s/it]\n",
      " 24%|██▍       | 22/92 [09:29<1:44:00, 89.16s/it] "
     ]
    },
    {
     "name": "stdout",
     "output_type": "stream",
     "text": [
      "Current file selected: ml_2_AB6.json.bz2\n"
     ]
    },
    {
     "name": "stderr",
     "output_type": "stream",
     "text": [
      "1it [00:03,  3.60s/it]\n",
      " 25%|██▌       | 23/92 [09:32<1:13:00, 63.48s/it]"
     ]
    },
    {
     "name": "stdout",
     "output_type": "stream",
     "text": [
      "Current file selected: ml_2_AB7.json.bz2\n"
     ]
    },
    {
     "name": "stderr",
     "output_type": "stream",
     "text": [
      "1it [00:00,  1.34it/s]\n",
      " 26%|██▌       | 24/92 [09:33<50:36, 44.66s/it]  "
     ]
    },
    {
     "name": "stdout",
     "output_type": "stream",
     "text": [
      "Current file selected: 2_extra01.json.bz2\n"
     ]
    },
    {
     "name": "stderr",
     "output_type": "stream",
     "text": [
      "1it [00:01,  1.81s/it]\n",
      " 27%|██▋       | 25/92 [09:35<35:30, 31.80s/it]"
     ]
    },
    {
     "name": "stdout",
     "output_type": "stream",
     "text": [
      "Current file selected: 2_spg33.json.bz2\n"
     ]
    },
    {
     "name": "stderr",
     "output_type": "stream",
     "text": [
      "1it [00:00,  1.72it/s]\n",
      " 28%|██▊       | 26/92 [09:35<24:40, 22.44s/it]"
     ]
    },
    {
     "name": "stdout",
     "output_type": "stream",
     "text": [
      "Current file selected: 2_spg32.json.bz2\n"
     ]
    },
    {
     "name": "stderr",
     "output_type": "stream",
     "text": [
      "1it [00:03,  3.68s/it]\n",
      " 29%|██▉       | 27/92 [09:39<18:12, 16.81s/it]"
     ]
    },
    {
     "name": "stdout",
     "output_type": "stream",
     "text": [
      "Current file selected: ml_3_A2B2C3.json.bz2\n"
     ]
    },
    {
     "name": "stderr",
     "output_type": "stream",
     "text": [
      "1it [00:00, 12.70it/s]\n"
     ]
    },
    {
     "name": "stdout",
     "output_type": "stream",
     "text": [
      "Current file selected: ml_2_A3B11.json.bz2\n"
     ]
    },
    {
     "name": "stderr",
     "output_type": "stream",
     "text": [
      "1it [00:04,  4.49s/it]\n",
      " 32%|███▏      | 29/92 [09:44<10:36, 10.11s/it]"
     ]
    },
    {
     "name": "stdout",
     "output_type": "stream",
     "text": [
      "Current file selected: ml_2_A3B10.json.bz2\n"
     ]
    },
    {
     "name": "stderr",
     "output_type": "stream",
     "text": [
      "1it [00:04,  4.95s/it]\n",
      " 33%|███▎      | 30/92 [09:49<09:07,  8.83s/it]"
     ]
    },
    {
     "name": "stdout",
     "output_type": "stream",
     "text": [
      "Current file selected: ml_2_A3B8.json.bz2\n"
     ]
    },
    {
     "name": "stderr",
     "output_type": "stream",
     "text": [
      "1it [00:03,  3.04s/it]\n",
      " 34%|███▎      | 31/92 [09:52<07:26,  7.32s/it]"
     ]
    },
    {
     "name": "stdout",
     "output_type": "stream",
     "text": [
      "Current file selected: ml_3_AB3C8.json.bz2\n"
     ]
    },
    {
     "name": "stderr",
     "output_type": "stream",
     "text": [
      "1it [00:17, 17.31s/it]\n",
      " 35%|███▍      | 32/92 [10:09<10:02, 10.04s/it]"
     ]
    },
    {
     "name": "stdout",
     "output_type": "stream",
     "text": [
      "Current file selected: 3_spg33.json.bz2\n"
     ]
    },
    {
     "name": "stderr",
     "output_type": "stream",
     "text": [
      "1it [01:26, 86.25s/it]\n",
      " 36%|███▌      | 33/92 [11:35<30:50, 31.37s/it]"
     ]
    },
    {
     "name": "stdout",
     "output_type": "stream",
     "text": [
      "Current file selected: ml_2_A4B5.json.bz2\n"
     ]
    },
    {
     "name": "stderr",
     "output_type": "stream",
     "text": [
      "1it [00:17, 17.55s/it]\n",
      " 37%|███▋      | 34/92 [11:53<26:30, 27.43s/it]"
     ]
    },
    {
     "name": "stdout",
     "output_type": "stream",
     "text": [
      "Current file selected: 2_spg10.json.bz2\n"
     ]
    },
    {
     "name": "stderr",
     "output_type": "stream",
     "text": [
      "1it [00:01,  1.67s/it]\n",
      " 38%|███▊      | 35/92 [11:54<18:57, 19.96s/it]"
     ]
    },
    {
     "name": "stdout",
     "output_type": "stream",
     "text": [
      "Current file selected: 2_hydrides.json.bz2\n"
     ]
    },
    {
     "name": "stderr",
     "output_type": "stream",
     "text": [
      "1it [02:31, 151.05s/it]\n",
      " 39%|███▉      | 36/92 [14:26<54:27, 58.35s/it]"
     ]
    },
    {
     "name": "stdout",
     "output_type": "stream",
     "text": [
      "Current file selected: ml_3_ABC.json.bz2\n"
     ]
    },
    {
     "name": "stderr",
     "output_type": "stream",
     "text": [
      "1it [00:10, 10.27s/it]\n",
      " 40%|████      | 37/92 [14:36<40:29, 44.17s/it]"
     ]
    },
    {
     "name": "stdout",
     "output_type": "stream",
     "text": [
      "Current file selected: ml_2_A5B7.json.bz2\n"
     ]
    },
    {
     "name": "stderr",
     "output_type": "stream",
     "text": [
      "1it [00:07,  7.04s/it]\n",
      " 41%|████▏     | 38/92 [14:43<29:50, 33.17s/it]"
     ]
    },
    {
     "name": "stdout",
     "output_type": "stream",
     "text": [
      "Current file selected: ml_2_A5B6.json.bz2\n"
     ]
    },
    {
     "name": "stderr",
     "output_type": "stream",
     "text": [
      "1it [00:18, 18.38s/it]\n",
      " 42%|████▏     | 39/92 [15:01<25:24, 28.77s/it]"
     ]
    },
    {
     "name": "stdout",
     "output_type": "stream",
     "text": [
      "Current file selected: ext_c2db_0.25_4.json.bz2\n"
     ]
    },
    {
     "name": "stderr",
     "output_type": "stream",
     "text": [
      "1it [00:01,  1.47s/it]\n",
      " 43%|████▎     | 40/92 [15:03<17:52, 20.63s/it]"
     ]
    },
    {
     "name": "stdout",
     "output_type": "stream",
     "text": [
      "Current file selected: ext_c2db_0.25_5.json.bz2\n"
     ]
    },
    {
     "name": "stderr",
     "output_type": "stream",
     "text": [
      "1it [01:07, 67.54s/it]\n",
      " 45%|████▍     | 41/92 [16:10<29:26, 34.65s/it]"
     ]
    },
    {
     "name": "stdout",
     "output_type": "stream",
     "text": [
      "Current file selected: ml_3_ABC2.json.bz2\n"
     ]
    },
    {
     "name": "stderr",
     "output_type": "stream",
     "text": [
      "1it [00:01,  1.59s/it]\n",
      " 46%|████▌     | 42/92 [16:12<20:37, 24.76s/it]"
     ]
    },
    {
     "name": "stdout",
     "output_type": "stream",
     "text": [
      "Current file selected: ml_3_ABC3.json.bz2\n"
     ]
    },
    {
     "name": "stderr",
     "output_type": "stream",
     "text": [
      "1it [00:02,  2.00s/it]\n",
      " 47%|████▋     | 43/92 [16:14<14:39, 17.95s/it]"
     ]
    },
    {
     "name": "stdout",
     "output_type": "stream",
     "text": [
      "Current file selected: 2_spg36.json.bz2\n"
     ]
    },
    {
     "name": "stderr",
     "output_type": "stream",
     "text": [
      "1it [01:58, 118.03s/it]\n",
      " 48%|████▊     | 44/92 [18:12<38:20, 47.93s/it]"
     ]
    },
    {
     "name": "stdout",
     "output_type": "stream",
     "text": [
      "Current file selected: ml_2_AB2.json.bz2\n"
     ]
    },
    {
     "name": "stderr",
     "output_type": "stream",
     "text": [
      "1it [00:22, 22.35s/it]\n",
      " 49%|████▉     | 45/92 [18:34<31:32, 40.27s/it]"
     ]
    },
    {
     "name": "stdout",
     "output_type": "stream",
     "text": [
      "Current file selected: ml_2_AB3.json.bz2\n"
     ]
    },
    {
     "name": "stderr",
     "output_type": "stream",
     "text": [
      "1it [01:40, 100.62s/it]\n",
      " 50%|█████     | 46/92 [20:15<44:44, 58.36s/it]"
     ]
    },
    {
     "name": "stdout",
     "output_type": "stream",
     "text": [
      "Current file selected: 2_spg09.json.bz2\n"
     ]
    },
    {
     "name": "stderr",
     "output_type": "stream",
     "text": [
      "1it [00:01,  1.68s/it]\n",
      " 51%|█████     | 47/92 [20:17<31:01, 41.37s/it]"
     ]
    },
    {
     "name": "stdout",
     "output_type": "stream",
     "text": [
      "Current file selected: 2_spg08.json.bz2\n"
     ]
    },
    {
     "name": "stderr",
     "output_type": "stream",
     "text": [
      "1it [00:06,  6.43s/it]\n",
      " 52%|█████▏    | 48/92 [20:23<22:39, 30.89s/it]"
     ]
    },
    {
     "name": "stdout",
     "output_type": "stream",
     "text": [
      "Current file selected: ml_2_A4B11.json.bz2\n"
     ]
    },
    {
     "name": "stderr",
     "output_type": "stream",
     "text": [
      "1it [00:06,  6.47s/it]\n",
      " 53%|█████▎    | 49/92 [20:29<16:53, 23.57s/it]"
     ]
    },
    {
     "name": "stdout",
     "output_type": "stream",
     "text": [
      "Current file selected: ml_2_A6B7.json.bz2\n"
     ]
    },
    {
     "name": "stderr",
     "output_type": "stream",
     "text": [
      "1it [01:23, 83.34s/it]\n",
      " 54%|█████▍    | 50/92 [21:53<29:03, 41.50s/it]"
     ]
    },
    {
     "name": "stdout",
     "output_type": "stream",
     "text": [
      "Current file selected: 2_carbon.json.bz2\n"
     ]
    },
    {
     "name": "stderr",
     "output_type": "stream",
     "text": [
      "1it [00:00,  1.00it/s]\n",
      " 55%|█████▌    | 51/92 [21:54<20:03, 29.35s/it]"
     ]
    },
    {
     "name": "stdout",
     "output_type": "stream",
     "text": [
      "Current file selected: ml_2_AB.json.bz2\n"
     ]
    },
    {
     "name": "stderr",
     "output_type": "stream",
     "text": [
      "1it [00:12, 12.08s/it]\n",
      " 57%|█████▋    | 52/92 [22:06<16:06, 24.17s/it]"
     ]
    },
    {
     "name": "stdout",
     "output_type": "stream",
     "text": [
      "Current file selected: ml_2_A5B12.json.bz2\n"
     ]
    },
    {
     "name": "stderr",
     "output_type": "stream",
     "text": [
      "1it [00:06,  6.36s/it]\n",
      " 58%|█████▊    | 53/92 [22:12<12:14, 18.83s/it]"
     ]
    },
    {
     "name": "stdout",
     "output_type": "stream",
     "text": [
      "Current file selected: ml_2_A3B7.json.bz2\n"
     ]
    },
    {
     "name": "stderr",
     "output_type": "stream",
     "text": [
      "1it [00:04,  4.36s/it]\n",
      " 59%|█████▊    | 54/92 [22:17<09:10, 14.49s/it]"
     ]
    },
    {
     "name": "stdout",
     "output_type": "stream",
     "text": [
      "Current file selected: 2_spg21.json.bz2\n"
     ]
    },
    {
     "name": "stderr",
     "output_type": "stream",
     "text": [
      "1it [01:54, 114.24s/it]\n",
      " 60%|█████▉    | 55/92 [24:11<27:23, 44.42s/it]"
     ]
    },
    {
     "name": "stdout",
     "output_type": "stream",
     "text": [
      "Current file selected: ml_2_A8B9.json.bz2\n"
     ]
    },
    {
     "name": "stderr",
     "output_type": "stream",
     "text": [
      "1it [00:08,  8.08s/it]\n",
      " 61%|██████    | 56/92 [24:19<20:06, 33.52s/it]"
     ]
    },
    {
     "name": "stdout",
     "output_type": "stream",
     "text": [
      "Current file selected: ml_4_AB2C2D2.json.bz2\n"
     ]
    },
    {
     "name": "stderr",
     "output_type": "stream",
     "text": [
      "1it [00:00,  2.13it/s]\n",
      " 62%|██████▏   | 57/92 [24:19<13:46, 23.60s/it]"
     ]
    },
    {
     "name": "stdout",
     "output_type": "stream",
     "text": [
      "Current file selected: ext_c2db_0.25_1.json.bz2\n"
     ]
    },
    {
     "name": "stderr",
     "output_type": "stream",
     "text": [
      "1it [00:05,  5.79s/it]\n",
      " 63%|██████▎   | 58/92 [24:25<10:20, 18.26s/it]"
     ]
    },
    {
     "name": "stdout",
     "output_type": "stream",
     "text": [
      "Current file selected: ml_3_AB3C7.json.bz2\n"
     ]
    },
    {
     "name": "stderr",
     "output_type": "stream",
     "text": [
      "1it [00:01,  1.01s/it]\n",
      " 64%|██████▍   | 59/92 [24:26<07:11, 13.09s/it]"
     ]
    },
    {
     "name": "stdout",
     "output_type": "stream",
     "text": [
      "Current file selected: ml_2_A8B11.json.bz2\n"
     ]
    },
    {
     "name": "stderr",
     "output_type": "stream",
     "text": [
      "1it [00:05,  5.05s/it]\n",
      " 65%|██████▌   | 60/92 [24:31<05:41, 10.68s/it]"
     ]
    },
    {
     "name": "stdout",
     "output_type": "stream",
     "text": [
      "Current file selected: ml_2_A2B5.json.bz2\n"
     ]
    },
    {
     "name": "stderr",
     "output_type": "stream",
     "text": [
      "1it [00:04,  4.73s/it]\n",
      " 66%|██████▋   | 61/92 [24:36<04:35,  8.89s/it]"
     ]
    },
    {
     "name": "stdout",
     "output_type": "stream",
     "text": [
      "Current file selected: 3_spg09.json.bz2\n"
     ]
    },
    {
     "name": "stderr",
     "output_type": "stream",
     "text": [
      "1it [00:07,  7.96s/it]\n",
      " 67%|██████▋   | 62/92 [24:44<04:18,  8.62s/it]"
     ]
    },
    {
     "name": "stdout",
     "output_type": "stream",
     "text": [
      "Current file selected: ml_3_AB2C4.json.bz2\n"
     ]
    },
    {
     "name": "stderr",
     "output_type": "stream",
     "text": [
      "1it [00:00,  1.84it/s]\n",
      " 68%|██████▊   | 63/92 [24:45<02:59,  6.20s/it]"
     ]
    },
    {
     "name": "stdout",
     "output_type": "stream",
     "text": [
      "Current file selected: ml_3_AB2C5.json.bz2\n"
     ]
    },
    {
     "name": "stderr",
     "output_type": "stream",
     "text": [
      "1it [00:00,  8.28it/s]\n",
      " 70%|██████▉   | 64/92 [24:45<02:02,  4.37s/it]"
     ]
    },
    {
     "name": "stdout",
     "output_type": "stream",
     "text": [
      "Current file selected: 2_spg15.json.bz2\n"
     ]
    },
    {
     "name": "stderr",
     "output_type": "stream",
     "text": [
      "1it [02:40, 160.17s/it]\n",
      " 71%|███████   | 65/92 [27:25<23:00, 51.12s/it]"
     ]
    },
    {
     "name": "stdout",
     "output_type": "stream",
     "text": [
      "Current file selected: ml_2_A5B9.json.bz2\n"
     ]
    },
    {
     "name": "stderr",
     "output_type": "stream",
     "text": [
      "1it [02:33, 153.20s/it]\n",
      " 72%|███████▏  | 66/92 [29:58<35:25, 81.74s/it]"
     ]
    },
    {
     "name": "stdout",
     "output_type": "stream",
     "text": [
      "Current file selected: ml_2_A5B8.json.bz2\n"
     ]
    },
    {
     "name": "stderr",
     "output_type": "stream",
     "text": [
      "1it [00:08,  8.23s/it]\n",
      " 73%|███████▎  | 67/92 [30:06<24:52, 59.69s/it]"
     ]
    },
    {
     "name": "stdout",
     "output_type": "stream",
     "text": [
      "Current file selected: 3_spg05.json.bz2\n"
     ]
    },
    {
     "name": "stderr",
     "output_type": "stream",
     "text": [
      "1it [00:12, 12.76s/it]\n",
      " 74%|███████▍  | 68/92 [30:19<18:14, 45.62s/it]"
     ]
    },
    {
     "name": "stdout",
     "output_type": "stream",
     "text": [
      "Current file selected: ext_c2db_0.25_6.json.bz2\n"
     ]
    },
    {
     "name": "stderr",
     "output_type": "stream",
     "text": [
      "1it [00:00,  2.42it/s]\n",
      " 75%|███████▌  | 69/92 [30:20<12:17, 32.06s/it]"
     ]
    },
    {
     "name": "stdout",
     "output_type": "stream",
     "text": [
      "Current file selected: ml_3_AB2C8.json.bz2\n"
     ]
    },
    {
     "name": "stderr",
     "output_type": "stream",
     "text": [
      "1it [00:03,  3.04s/it]\n",
      " 76%|███████▌  | 70/92 [30:23<08:33, 23.35s/it]"
     ]
    },
    {
     "name": "stdout",
     "output_type": "stream",
     "text": [
      "Current file selected: ml_2_A2B3.json.bz2\n"
     ]
    },
    {
     "name": "stderr",
     "output_type": "stream",
     "text": [
      "1it [00:18, 18.76s/it]\n",
      " 77%|███████▋  | 71/92 [30:41<07:41, 21.98s/it]"
     ]
    },
    {
     "name": "stdout",
     "output_type": "stream",
     "text": [
      "Current file selected: ml_3_AB2C3.json.bz2\n"
     ]
    },
    {
     "name": "stderr",
     "output_type": "stream",
     "text": [
      "1it [00:00,  1.30it/s]\n",
      " 78%|███████▊  | 72/92 [30:42<05:12, 15.62s/it]"
     ]
    },
    {
     "name": "stdout",
     "output_type": "stream",
     "text": [
      "Current file selected: ml_3_AB2C2.json.bz2\n"
     ]
    },
    {
     "name": "stderr",
     "output_type": "stream",
     "text": [
      "1it [00:03,  3.40s/it]\n",
      " 79%|███████▉  | 73/92 [30:45<03:47, 11.95s/it]"
     ]
    },
    {
     "name": "stdout",
     "output_type": "stream",
     "text": [
      "Current file selected: ml_2_A4B7.json.bz2\n"
     ]
    },
    {
     "name": "stderr",
     "output_type": "stream",
     "text": [
      "1it [00:01,  1.64s/it]\n",
      " 80%|████████  | 74/92 [30:47<02:39,  8.86s/it]"
     ]
    },
    {
     "name": "stdout",
     "output_type": "stream",
     "text": [
      "Current file selected: 2_spg13.json.bz2\n"
     ]
    },
    {
     "name": "stderr",
     "output_type": "stream",
     "text": [
      "1it [02:03, 123.81s/it]\n",
      " 82%|████████▏ | 75/92 [32:51<12:16, 43.35s/it]"
     ]
    },
    {
     "name": "stdout",
     "output_type": "stream",
     "text": [
      "Current file selected: 2_spg12.json.bz2\n"
     ]
    },
    {
     "name": "stderr",
     "output_type": "stream",
     "text": [
      "1it [00:00,  1.19it/s]\n",
      " 83%|████████▎ | 76/92 [32:52<08:09, 30.60s/it]"
     ]
    },
    {
     "name": "stdout",
     "output_type": "stream",
     "text": [
      "Current file selected: ml_3_ABC5.json.bz2\n"
     ]
    },
    {
     "name": "stderr",
     "output_type": "stream",
     "text": [
      "1it [00:26, 26.82s/it]\n",
      " 84%|████████▎ | 77/92 [33:19<07:22, 29.47s/it]"
     ]
    },
    {
     "name": "stdout",
     "output_type": "stream",
     "text": [
      "Current file selected: ml_3_ABC4.json.bz2\n"
     ]
    },
    {
     "name": "stderr",
     "output_type": "stream",
     "text": [
      "1it [03:02, 182.34s/it]\n",
      " 85%|████████▍ | 78/92 [36:21<17:34, 75.33s/it]"
     ]
    },
    {
     "name": "stdout",
     "output_type": "stream",
     "text": [
      "Current file selected: 3_spg13.json.bz2\n"
     ]
    },
    {
     "name": "stderr",
     "output_type": "stream",
     "text": [
      "1it [15:44, 944.80s/it]\n",
      " 86%|████████▌ | 79/92 [52:06<1:12:50, 336.18s/it]"
     ]
    },
    {
     "name": "stdout",
     "output_type": "stream",
     "text": [
      "Current file selected: 3_spg12.json.bz2\n"
     ]
    },
    {
     "name": "stderr",
     "output_type": "stream",
     "text": [
      "1it [00:56, 56.81s/it]\n",
      " 87%|████████▋ | 80/92 [53:03<50:28, 252.37s/it]  "
     ]
    },
    {
     "name": "stdout",
     "output_type": "stream",
     "text": [
      "Current file selected: ml_2_AB5.json.bz2\n"
     ]
    },
    {
     "name": "stderr",
     "output_type": "stream",
     "text": [
      "1it [00:08,  8.10s/it]\n",
      " 88%|████████▊ | 81/92 [53:11<32:50, 179.09s/it]"
     ]
    },
    {
     "name": "stdout",
     "output_type": "stream",
     "text": [
      "Current file selected: ml_2_AB4.json.bz2\n"
     ]
    },
    {
     "name": "stderr",
     "output_type": "stream",
     "text": [
      "1it [00:17, 17.88s/it]\n",
      " 89%|████████▉ | 82/92 [53:29<21:47, 130.74s/it]"
     ]
    },
    {
     "name": "stdout",
     "output_type": "stream",
     "text": [
      "Current file selected: 2_spg30.json.bz2\n"
     ]
    },
    {
     "name": "stderr",
     "output_type": "stream",
     "text": [
      "1it [00:09,  9.09s/it]\n",
      " 90%|█████████ | 83/92 [53:38<14:08, 94.25s/it] "
     ]
    },
    {
     "name": "stdout",
     "output_type": "stream",
     "text": [
      "Current file selected: 2_spg31.json.bz2\n"
     ]
    },
    {
     "name": "stderr",
     "output_type": "stream",
     "text": [
      "1it [08:45, 525.15s/it]\n",
      " 91%|█████████▏| 84/92 [1:02:23<29:48, 223.52s/it]"
     ]
    },
    {
     "name": "stdout",
     "output_type": "stream",
     "text": [
      "Current file selected: ml_2_A7B10.json.bz2\n"
     ]
    },
    {
     "name": "stderr",
     "output_type": "stream",
     "text": [
      "1it [00:11, 11.85s/it]\n",
      " 92%|█████████▏| 85/92 [1:02:35<18:40, 160.03s/it]"
     ]
    },
    {
     "name": "stdout",
     "output_type": "stream",
     "text": [
      "Current file selected: ml_2_A7B11.json.bz2\n"
     ]
    },
    {
     "name": "stderr",
     "output_type": "stream",
     "text": [
      "1it [00:01,  1.81s/it]\n",
      " 93%|█████████▎| 86/92 [1:02:37<11:15, 112.56s/it]"
     ]
    },
    {
     "name": "stdout",
     "output_type": "stream",
     "text": [
      "Current file selected: ml_4_AB2C6D6.json.bz2\n"
     ]
    },
    {
     "name": "stderr",
     "output_type": "stream",
     "text": [
      "1it [00:19, 19.92s/it]\n",
      " 95%|█████████▍| 87/92 [1:02:57<07:03, 84.77s/it] "
     ]
    },
    {
     "name": "stdout",
     "output_type": "stream",
     "text": [
      "Current file selected: 2_spg73.json.bz2\n"
     ]
    },
    {
     "name": "stderr",
     "output_type": "stream",
     "text": [
      "1it [12:11, 731.29s/it]\n",
      " 96%|█████████▌| 88/92 [1:15:08<18:34, 278.73s/it]"
     ]
    },
    {
     "name": "stdout",
     "output_type": "stream",
     "text": [
      "Current file selected: ml_2_A7B8.json.bz2\n"
     ]
    },
    {
     "name": "stderr",
     "output_type": "stream",
     "text": [
      "1it [00:08,  8.08s/it]\n",
      " 97%|█████████▋| 89/92 [1:15:16<09:52, 197.54s/it]"
     ]
    },
    {
     "name": "stdout",
     "output_type": "stream",
     "text": [
      "Current file selected: ml_2_A7B9.json.bz2\n"
     ]
    },
    {
     "name": "stderr",
     "output_type": "stream",
     "text": [
      "1it [00:04,  4.99s/it]\n",
      " 98%|█████████▊| 90/92 [1:15:21<04:39, 139.78s/it]"
     ]
    },
    {
     "name": "stdout",
     "output_type": "stream",
     "text": [
      "Current file selected: 2_spg04.json.bz2\n"
     ]
    },
    {
     "name": "stderr",
     "output_type": "stream",
     "text": [
      "1it [00:05,  5.31s/it]\n",
      " 99%|█████████▉| 91/92 [1:15:26<01:39, 99.44s/it] "
     ]
    },
    {
     "name": "stdout",
     "output_type": "stream",
     "text": [
      "Current file selected: 2_spg05.json.bz2\n"
     ]
    },
    {
     "name": "stderr",
     "output_type": "stream",
     "text": [
      "1it [00:00,  1.58it/s]\n",
      "100%|██████████| 92/92 [1:15:27<00:00, 49.21s/it]\n"
     ]
    }
   ],
   "source": [
    "energy_arr, stress_arr, forces_arr, dict_id = create_arr(\"geo_opt\")"
   ]
  },
  {
   "cell_type": "code",
   "execution_count": 46,
   "metadata": {},
   "outputs": [],
   "source": [
    "def save_arr_json(arr, path):\n",
    "    with open(path, mode = 'w') as line:\n",
    "        json.dump(arr, line)\n",
    "\n",
    "def read_arr_json(path):\n",
    "    with open(path, mode = 'r') as line:\n",
    "        arr = json.load(line)\n",
    "    return arr\n",
    "\n",
    "def save_id_dict(dict, path):\n",
    "    # BEWARE JSON turns keys into strings and not int\n",
    "    with open(path, 'w') as line:\n",
    "        json.dump(dict, line)\n",
    "\n",
    "def load_id_dict(path):\n",
    "    with open(path, 'r') as line:\n",
    "        arr = json.load(line)\n",
    "    return arr"
   ]
  },
  {
   "cell_type": "code",
   "execution_count": 47,
   "metadata": {},
   "outputs": [],
   "source": [
    "save_arr_json(forces_arr, \"forces_arr.txt\")\n",
    "save_arr_json(stress_arr, \"stress_arr.txt\")\n",
    "save_arr_json(energy_arr, \"energy_arr.txt\")\n",
    "save_id_dict(dict_id, \"id_run.txt\")"
   ]
  },
  {
   "cell_type": "code",
   "execution_count": 48,
   "metadata": {},
   "outputs": [],
   "source": [
    "forces_arr = read_arr_json(\"forces_arr.txt\")\n",
    "energy_arr = read_arr_json(\"energy_arr.txt\")\n",
    "stress_arr = read_arr_json(\"stress_arr.txt\")\n",
    "id_run = load_id_dict(\"id_run.txt\")"
   ]
  },
  {
   "cell_type": "code",
   "execution_count": null,
   "metadata": {},
   "outputs": [],
   "source": [
    "def histogram_1d_energy(arr, bin = 500, xrange = [-150,100])\n",
    "    fig, ax = plt.subplots()\n",
    "    n, bins, patches = ax.hist(arr, bins = bin)\n",
    "    ax.set_xlabel(\"{}\".format(\"Energy\")\n",
    "    ax.set_xlim(xrange)\n",
    "    ax.set_ylabel(\"Counts\")"
   ]
  },
  {
   "cell_type": "code",
   "execution_count": null,
   "metadata": {},
   "outputs": [],
   "source": []
  },
  {
   "cell_type": "code",
   "execution_count": 41,
   "metadata": {},
   "outputs": [
    {
     "name": "stdout",
     "output_type": "stream",
     "text": [
      "runs_2/spg29/Ni/NiBr2/xxx_02p-00_29-2-Ni2a.Br4b\n"
     ]
    }
   ],
   "source": [
    "print(id_run[\"14000\"])"
   ]
  },
  {
   "cell_type": "code",
   "execution_count": null,
   "metadata": {},
   "outputs": [],
   "source": [
    "print(np.shape(forces_arr))\n",
    "print(np.shape(stress_arr))\n",
    "print(stress_arr[1])\n",
    "print(forces_arr[0])\n",
    "print(np.shape(energy_arr))"
   ]
  },
  {
   "attachments": {},
   "cell_type": "markdown",
   "metadata": {},
   "source": [
    "### Import pandas dataframe\n",
    "Provide the ``overwrite == True`` case to rerun the creation of the dataframe, else if ``overwrite == False`` imports it from the saved .pkl file"
   ]
  },
  {
   "cell_type": "code",
   "execution_count": null,
   "metadata": {},
   "outputs": [],
   "source": [
    "df = get_df(\"geo_opt\", overwrite = True)\n",
    "display(df)"
   ]
  },
  {
   "attachments": {},
   "cell_type": "markdown",
   "metadata": {},
   "source": [
    "### Plotting Histograms"
   ]
  },
  {
   "attachments": {},
   "cell_type": "markdown",
   "metadata": {},
   "source": [
    "#### Energy Histogram"
   ]
  },
  {
   "cell_type": "code",
   "execution_count": null,
   "metadata": {},
   "outputs": [],
   "source": [
    "histogram_1d(df, quantity = 'energy', bin = 200)"
   ]
  },
  {
   "cell_type": "code",
   "execution_count": null,
   "metadata": {},
   "outputs": [],
   "source": [
    "display(df['stress_xx'])\n",
    "\n",
    "display(df[df['stress_xx'] > 200])\n",
    "histogram_1d(df, quantity = 'stress_zz', bin = 200, xrange= [-20, 20])\n",
    "histogram_1d(df, quantity = 'stress_zy', bin = 200, xrange= [-20, 20])\n",
    "histogram_1d(df, quantity = 'stress_zy', bin = 200, xrange= [-20, 20])"
   ]
  },
  {
   "cell_type": "code",
   "execution_count": null,
   "metadata": {},
   "outputs": [],
   "source": [
    "force_arr = separate_forces(df['forces'].to_numpy())    \n",
    "# print(force_arr)\n",
    "# print(force_arr[20000])\n",
    "force = get_coordinate(array= force_arr, axis = \"x\")\n",
    "plt.hist(force, bins= 20)\n",
    "# plt.hist(force, histtype='step')\n",
    "\n",
    "#  n, bins, patches = ax.hist(force, bins = bin)\n",
    "#     ax.set_xlabel(\"{} {}\".format(\"Force\", axis))\n",
    "#     ax.set_xlim(xrange)\n",
    "#     ax.set_ylabel(\"Counts\")"
   ]
  },
  {
   "cell_type": "code",
   "execution_count": null,
   "metadata": {},
   "outputs": [],
   "source": [
    "histogram_1d_force(df, axis = 'x', bin = 10, xrange = [0, 0.4])"
   ]
  },
  {
   "cell_type": "code",
   "execution_count": null,
   "metadata": {},
   "outputs": [],
   "source": [
    "energy_force_combined(df)"
   ]
  },
  {
   "cell_type": "code",
   "execution_count": null,
   "metadata": {},
   "outputs": [],
   "source": [
    "var = df[\"forces\"].to_numpy()\n",
    "\n",
    "fig, ax = plt.subplots()\n",
    "force_arr = separate_forces(var)    \n",
    "\n",
    "force = abs_forces_per_run(var)\n",
    "print(type(force))\n",
    "                            \n",
    "n, bins, patches = plt.hist(force)\n",
    "plt.show()"
   ]
  },
  {
   "cell_type": "code",
   "execution_count": null,
   "metadata": {},
   "outputs": [],
   "source": [
    "abs_forces_per_run(var_forces= df[\"forces\"].to_numpy())"
   ]
  },
  {
   "cell_type": "code",
   "execution_count": null,
   "metadata": {},
   "outputs": [],
   "source": [
    "energy_arr, stress_arr, forces_arr = create_arr(\"geo_opt_test\")"
   ]
  },
  {
   "cell_type": "code",
   "execution_count": null,
   "metadata": {},
   "outputs": [],
   "source": [
    "# print(energy_arr)\n",
    "# print(forces_arr)\n",
    "\n",
    "print(len(forces_arr))\n",
    "print(len(energy_arr))"
   ]
  },
  {
   "cell_type": "code",
   "execution_count": null,
   "metadata": {},
   "outputs": [],
   "source": [
    "display(df)"
   ]
  },
  {
   "cell_type": "code",
   "execution_count": null,
   "metadata": {},
   "outputs": [],
   "source": [
    "positive_entries = df[df['energy'] > 1000]\n",
    "print(positive_entries)"
   ]
  },
  {
   "cell_type": "code",
   "execution_count": null,
   "metadata": {},
   "outputs": [],
   "source": [
    "df = read_df(path = \"df_data.pkl\")"
   ]
  },
  {
   "cell_type": "code",
   "execution_count": null,
   "metadata": {},
   "outputs": [],
   "source": [
    "display(df)\n",
    "print(df.energy.max())\n",
    "print(df.energy.min())"
   ]
  },
  {
   "cell_type": "code",
   "execution_count": null,
   "metadata": {},
   "outputs": [],
   "source": [
    "histogram_1d_force(df, axis = 'x', bin = 500, xrange = [-150, 150])"
   ]
  },
  {
   "cell_type": "code",
   "execution_count": null,
   "metadata": {},
   "outputs": [],
   "source": [
    "histogram_1d(df = df, quantity = \"force_x\", bin = 500, xrange = [-150,100])"
   ]
  },
  {
   "cell_type": "code",
   "execution_count": null,
   "metadata": {},
   "outputs": [],
   "source": [
    "force_arr = separate_forces(var2)\n",
    "  # print(force_arr)\n",
    "\n",
    "  print(force_arr[1])\n",
    "\n",
    "  x_forces = get_coordinate(array= force_arr, axis = \"x\")"
   ]
  },
  {
   "cell_type": "code",
   "execution_count": null,
   "metadata": {},
   "outputs": [],
   "source": [
    "histogram_2d_energy_stress(df)"
   ]
  },
  {
   "cell_type": "code",
   "execution_count": null,
   "metadata": {},
   "outputs": [],
   "source": [
    "histogram_1d(df = df, quantity = \"energy\", bin=2000)"
   ]
  },
  {
   "cell_type": "code",
   "execution_count": null,
   "metadata": {},
   "outputs": [],
   "source": [
    "display(df['force_1'])\n",
    "np.where(pd.isna(df['force_1']))"
   ]
  },
  {
   "cell_type": "code",
   "execution_count": null,
   "metadata": {},
   "outputs": [],
   "source": [
    "path = \"geo_opt/2_spg01.json.bz2\"\n",
    "path = \"geo_opt/ml_3_AB2C4.json.bz2\"\n",
    "quantity = []\n",
    "path_of_directory = 'geo_opt'\n",
    "desired_quantity = 'energy'\n",
    "\n",
    "# df_data = pd.DataFrame(columns = ['structure', 'force_1', 'force_2', 'stress_xx', 'stress_xy', 'stress_xz', \"stress_yx\", \"stress_yy\", 'stress_yz', 'stress_zx', 'stress_zy', 'stress_zz'])\n",
    "\n",
    "df_data = pd.DataFrame(columns=['run', 'energy', 'force_1', 'force_2', 'stress_xx', 'stress_xy', 'stress_xz', 'stress_yx', 'stress_yy', 'stress_yz', 'stress_zx', 'stress_zy', 'stress_zz'])\n",
    "# file_data = json.load(bz2.open(path, \"rb\"))\n",
    "# print(file_data)\n",
    "\n",
    "\n",
    "def retrieve_forces(force_array):\n",
    "    force_1, force_2 = force_array[0], force_array[1]\n",
    "    return force_1, force_2\n",
    "\n",
    "\n",
    "\n",
    "with bz2.BZ2File(path) as file:\n",
    "    for line in file:\n",
    "        line = line.decode().strip()\n",
    "        if line in {\"[\", \"]\"}:\n",
    "            continue\n",
    "        if line.endswith(\" \"):\n",
    "            line = line[:-1]\n",
    "        entity =json.loads(line)\n",
    "        print(entity)\n",
    "        for runs in entity.keys():\n",
    "            for item in entity[runs]:\n",
    "                struc = Structure.from_dict(item['structure'])\n",
    "                force_1, force_2 = retrieve_forces(item['forces'])\n",
    "                stress = item['stress']\n",
    "    \n",
    "                energy = item['energy']\n",
    "\n",
    "                data_run = pd.DataFrame({'run': runs,\n",
    "                                         \"structure\": [struc],\n",
    "                                         \"energy\": energy, \n",
    "                                         \"force_1\": [force_1], \"force_2\": [force_2], \n",
    "                                         'stress_xx': [stress[0][0]], 'stress_xy': [stress[0][1]], 'stress_xz':[stress[0][2]], \n",
    "                                         'stress_yx': [stress[1][0]], 'stress_yy': [stress[1][1]], 'stress_yz': [stress[1][2]], \n",
    "                                         'stress_zx': [stress[2][0]], 'stress_zy': [stress[2][1]], 'stress_zz': [stress[2][2]]})\n",
    "\n",
    "                data_run = pd.DataFrame(data_run)\n",
    "                df_data = pd.concat([df_data, data_run])\n",
    " \n",
    "\n",
    "df_data.memory_usage()\n",
    "\n",
    "df_data.reset_index(inplace=True, drop =True)\n",
    "cum_series = df_data.groupby('run').cumcount()\n",
    "cum_series = cum_series.astype(str)\n",
    "df_data['run'] = df_data['run'] + \"_\" + cum_series\n",
    "\n",
    "display(df_data)\n",
    "        \n",
    "\n",
    "def plotting_function(df, desired_quantity, savename):\n",
    "        counts, bins = np.histogram(df[desired_quantity])\n",
    "        plt.hist(bins[:-1], bins, weights = counts)\n",
    "        \n",
    "        plt.savefig(\"Figures/{}.pdf\".format(savename))\n",
    "\n",
    "\n",
    "# print(dtype(df_data['energy']))\n",
    "\n",
    "print(df_data.dtypes)\n",
    "\n",
    "energy = df_data['energy'].to_numpy()\n",
    "# print(energy)\n",
    "stress_xx = df_data['stress_xx'].to_numpy()\n",
    "\n",
    "# histo = np.histogram2d(energy, stress_xx, bins = (20, 20))\n",
    "# print(type(histo))\n",
    "\n",
    "\n",
    "\n",
    "\n",
    "\n",
    "\n",
    "    # fig, ax = plt.subplots()\n",
    "    # hist = ax.hist2d(var1, var2, bins = (bin, bin), cmap = plt.cm.jet)\n",
    "    # fig.colorbar(hist)\n",
    "\n",
    "    # fig.tight_layout()\n",
    "    # fig.savefig(\"Figures/{}.pdf\".format(savename_fig))\n",
    "    # plt.show()  \n",
    "\n",
    "\n",
    "\n",
    "\n",
    "\n",
    "\n",
    "\n",
    "\n",
    "# plt.imshow(histo)\n",
    "\n",
    "# plotting_function(df_data, \"energy\", \"energy_dist\")\n",
    "\n",
    "\n",
    "\n",
    "#         # Get all the keys (runs)\n",
    "#         # print(entity.keys())\n",
    "\n",
    "#         for runs in entity.keys():\n",
    "#             # The argument in entity specifies the run\n",
    "#             for i in entity[runs]:                    \n",
    "# #                 print(i.keys())\n",
    "#                 value = i[desired_quantity]\n",
    "#                 forces = i['forces']\n",
    "#                 stress = i['stress']\n",
    "#                 structure = i['structure']\n",
    "#                 energy = i['energy']\n",
    "#                 # print(forces)\n",
    "#                 quantity.append(value)\n",
    "                \n",
    "# print(quantity)"
   ]
  },
  {
   "cell_type": "code",
   "execution_count": null,
   "metadata": {},
   "outputs": [],
   "source": [
    "def return_quantity(directory, desired_quantity):\n",
    "    # quantity can be structure, energy, forces, stress\n",
    "#     path = \"geo_opt/2_spg01.json.bz2\"\n",
    "    quantity = []\n",
    "#     ext = (\".bz2\")\n",
    "    print(\"Number of files in directory: {}\".format(len(os.listdir(directory))))\n",
    "    file_names = os.listdir(directory)\n",
    "    # print(file_names)\n",
    "#     for files in os.listdir(directory):\n",
    "    for files in file_names:\n",
    "        print(\"Current file selected: {}\".format(files))\n",
    "        with bz2.BZ2File(\"{}/{}\".format(directory,files)) as file:\n",
    "            for line in file:\n",
    "                line = line.decode().strip()\n",
    "                if line in {\"[\", \"]\"}:\n",
    "                    continue\n",
    "                if line.endswith(\" \"):\n",
    "                    line = line[:-1]\n",
    "                entity =json.loads(line)\n",
    "\n",
    "                # Get all the keys (runs)\n",
    "                # print(entity.keys())\n",
    "\n",
    "                for runs in entity.keys():\n",
    "                    # The argument in entity specifies the run\n",
    "                    for i in entity[runs]:                    \n",
    "#                         print(i.keys())\n",
    "                        value = i[desired_quantity]\n",
    "                        quantity.append(value)\n",
    "#                         forces = i['forces']\n",
    "#                         stress = i['stress']\n",
    "#                         structure = i['structure']\n",
    "#                         energy = i['energy']\n",
    "#                         print(forces)\n",
    "                \n",
    "    with open(\"{}.txt\".format(desired_quantity), 'w') as f:\n",
    "        for s in quantity:\n",
    "            f.write(str(s) + '\\n')\n",
    "\n",
    "    return quantity\n",
    "\n",
    "\n",
    "energy = return_quantity('geo_opt','energy')"
   ]
  },
  {
   "cell_type": "code",
   "execution_count": null,
   "metadata": {},
   "outputs": [],
   "source": [
    "with open(\"energy.txt\", 'r') as f:\n",
    "    energy = [line.rstrip('\\n') for line in f]\n",
    "    print(energy)\n",
    "\n",
    "# print(energy)"
   ]
  },
  {
   "cell_type": "code",
   "execution_count": null,
   "metadata": {},
   "outputs": [],
   "source": [
    "print(energy)"
   ]
  },
  {
   "cell_type": "code",
   "execution_count": null,
   "metadata": {},
   "outputs": [],
   "source": [
    "counts, bins = np.histogram(energy)\n",
    "plt.hist(bins[:-1], bins, weights = counts)"
   ]
  },
  {
   "cell_type": "code",
   "execution_count": null,
   "metadata": {},
   "outputs": [],
   "source": []
  }
 ],
 "metadata": {
  "kernelspec": {
   "display_name": "master_thesis",
   "language": "python",
   "name": "python3"
  },
  "language_info": {
   "codemirror_mode": {
    "name": "ipython",
    "version": 3
   },
   "file_extension": ".py",
   "mimetype": "text/x-python",
   "name": "python",
   "nbconvert_exporter": "python",
   "pygments_lexer": "ipython3",
   "version": "3.11.0"
  },
  "orig_nbformat": 4,
  "vscode": {
   "interpreter": {
    "hash": "8460dbfb2f2f68418c6c6bf9581ab4fa4f4429bad5658983f4f8584321b9bbd5"
   }
  }
 },
 "nbformat": 4,
 "nbformat_minor": 2
}
